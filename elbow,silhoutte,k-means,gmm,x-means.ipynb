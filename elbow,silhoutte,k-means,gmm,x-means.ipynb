{
 "cells": [
  {
   "cell_type": "markdown",
   "id": "06b17acf",
   "metadata": {},
   "source": [
    "# Finding the number of clusters in selected dataset with certainty score for each sample and cluster class mapping "
   ]
  },
  {
   "cell_type": "markdown",
   "id": "b1de1afd",
   "metadata": {},
   "source": [
    "1. What is the data ? \n",
    "\n",
    "The dataset is some selected samples from DynamicWorld dataset. It is a Sentinel2 dataset. \n"
   ]
  },
  {
   "cell_type": "code",
   "execution_count": 3,
   "id": "d3e02da1",
   "metadata": {},
   "outputs": [],
   "source": [
    "from skimage import io\n",
    "import glob\n",
    "import numpy as np\n",
    "import os\n",
    "import cv2\n",
    "import PIL\n",
    "from PIL import Image\n",
    "import skimage\n",
    "from skimage import io\n",
    "from sklearn.cluster import KMeans\n",
    "import matplotlib.pyplot as plt\n",
    "from sklearn.metrics import silhouette_score"
   ]
  },
  {
   "cell_type": "code",
   "execution_count": 2,
   "id": "56898c96",
   "metadata": {},
   "outputs": [],
   "source": [
    "import numpy as np\n",
    "from pathlib import Path\n",
    "txt = Path('C:\\\\Users\\\\karm_ch\\\\Documents\\\\autocoast\\\\images_of_consideration.txt').read_text()\n",
    "#print((txt))"
   ]
  },
  {
   "cell_type": "code",
   "execution_count": null,
   "id": "9454cb55",
   "metadata": {},
   "outputs": [],
   "source": [
    "#https://www.helmholtz.ai/themenmenue/you-helmholtz-ai/computing-resources/index.html"
   ]
  },
  {
   "cell_type": "code",
   "execution_count": 3,
   "id": "28bf3f46",
   "metadata": {},
   "outputs": [],
   "source": [
    "lst = []\n",
    "with open('C:\\\\Users\\\\karm_ch\\\\Documents\\\\autocoast\\\\images_of_consideration.txt', 'r') as f: #open the file \n",
    "    lines = f.readlines() # combine lines of file in a list\n",
    "    for item in lines: # iterate through items of  lines\n",
    "        # iterate through items in each line and remove extra space after last item in the line using strip method\n",
    "        #print (item)\n",
    "        if \".tif\" in item : \n",
    "            lst.append(item.strip(\".tif\\n\"))\n",
    "        if \".png\" in item : \n",
    "            lst.append(item.strip(\".png\\n\"))\n",
    "        \n",
    "        #for names in item.strip(\".tif\"): \n",
    "            #lst.append(names) # append digits in to the list and convert them to int\n",
    "#print((lst))"
   ]
  },
  {
   "cell_type": "code",
   "execution_count": 4,
   "id": "f80df43a",
   "metadata": {},
   "outputs": [
    {
     "name": "stdout",
     "output_type": "stream",
     "text": [
      "210\n"
     ]
    }
   ],
   "source": [
    "print(len(lst))"
   ]
  },
  {
   "cell_type": "code",
   "execution_count": 5,
   "id": "742d43f6",
   "metadata": {},
   "outputs": [],
   "source": [
    "folder=\"C:\\\\Users\\\\karm_ch\\\\Documents\\\\autocoast\\\\data\\\\s2raw\"\n",
    "\n",
    "import os\n",
    "lst_1=os.listdir(folder)\n",
    "\n",
    "#from glob import glob\n",
    "#lst_1=glob(folder + \"/*/\", recursive = True)"
   ]
  },
  {
   "cell_type": "code",
   "execution_count": 6,
   "id": "5649b090",
   "metadata": {},
   "outputs": [],
   "source": [
    "lst_2=[]\n",
    "for i in range (len(lst_1)): \n",
    "    for text in lst:\n",
    "        if text in lst_1[i]: \n",
    "            lst_2.append(lst_1[i])\n",
    "        "
   ]
  },
  {
   "cell_type": "code",
   "execution_count": 1,
   "id": "3ae0e442",
   "metadata": {},
   "outputs": [],
   "source": [
    "#new_folder= \"C:\\\\Users\\\\karm_ch\\\\Documents\\\\autocoast\\\\data\\\\s2raw\\\\selected_samples\"\n",
    "new_folder= \"C:\\\\Users\\\\karm_ch\\\\Documents\\\\autocoast\\\\baltic_sea_data\\\\random_s2a\\\\s2a_540x540_raw_random\"\n",
    "#label_folder=\"C:\\\\Users\\\\karm_ch\\\\Documents\\\\autocoast\\\\data\\\\label\"\n",
    "#for file in lst_2: \n",
    "    #os.rename(folder + \"\\\\\" + file, new_folder+ \"\\\\\" + file)"
   ]
  },
  {
   "cell_type": "code",
   "execution_count": 16,
   "id": "0e6f500a",
   "metadata": {},
   "outputs": [
    {
     "name": "stdout",
     "output_type": "stream",
     "text": [
      "C:\\Users\\karm_ch\\Documents\\autocoast\\baltic_sea_data\\random_s2a\\s2a_540x540_raw_random\\002c286b-96b1-4cbb-8b13-bf990ae925d8_f88ba299129f7d5ac4a83bee0659985b679ec765809aff828e95e6f01a34f3e9____________________________________________________________________________________________\n",
      "in\n",
      "(540, 540)\n",
      "(540, 540)\n",
      "(540, 540)\n",
      "(540, 540)\n",
      "C:\\Users\\karm_ch\\Documents\\autocoast\\baltic_sea_data\\random_s2a\\s2a_540x540_raw_random\\0537e5f4-235a-5958-be97-126ef6902777_c7095150e0692db0b2b6da8bdb82a4ef3acde6d2f21f2e2edbf141bf8687ce30____________________________________________________________________________________________\n",
      "in\n",
      "(540, 540)\n",
      "(540, 540)\n",
      "(540, 540)\n",
      "(540, 540)\n",
      "C:\\Users\\karm_ch\\Documents\\autocoast\\baltic_sea_data\\random_s2a\\s2a_540x540_raw_random\\0537e5f4-235a-5958-be97-126ef6902777_eeb285c69f59b33eaf57d242ae8d8888284cbf179bdfdb3b74fb4199980b7ac8____________________________________________________________________________________________\n",
      "in\n",
      "(540, 540)\n",
      "(540, 540)\n",
      "(540, 540)\n",
      "(540, 540)\n",
      "C:\\Users\\karm_ch\\Documents\\autocoast\\baltic_sea_data\\random_s2a\\s2a_540x540_raw_random\\0665e8d2-21d2-5e83-a158-0a13e48dbad6_1c9149d478b054be06910be2ba567686f46100d4a1e894698c2901b76b5f0eda____________________________________________________________________________________________\n",
      "in\n",
      "(540, 540)\n",
      "(540, 540)\n",
      "(540, 540)\n",
      "(540, 540)\n",
      "C:\\Users\\karm_ch\\Documents\\autocoast\\baltic_sea_data\\random_s2a\\s2a_540x540_raw_random\\0665e8d2-21d2-5e83-a158-0a13e48dbad6_1c9e85dc3fd84fdf1973d29d749c4ea4ff3b592345b7ec15121c30c32834fbeb____________________________________________________________________________________________\n",
      "in\n",
      "(540, 540)\n",
      "(540, 540)\n",
      "(540, 540)\n",
      "(540, 540)\n",
      "C:\\Users\\karm_ch\\Documents\\autocoast\\baltic_sea_data\\random_s2a\\s2a_540x540_raw_random\\06cf69be-1781-5dc4-8caa-06dc0e006a1a_4fc23c82883dfec17911f832dcb8e2136dd66a51b4be5d054ed1f7357072e4f6____________________________________________________________________________________________\n",
      "in\n",
      "(540, 540)\n",
      "(540, 540)\n",
      "(540, 540)\n",
      "(540, 540)\n",
      "C:\\Users\\karm_ch\\Documents\\autocoast\\baltic_sea_data\\random_s2a\\s2a_540x540_raw_random\\0765e5c9-8468-5aa8-ae32-34e9799901a9_086d19a8fb6f08321a6bd0995a65950eae3dd2cb6fc0d2a53dfc62d45431c915____________________________________________________________________________________________\n",
      "in\n",
      "(540, 540)\n",
      "(540, 540)\n",
      "(540, 540)\n",
      "(540, 540)\n",
      "C:\\Users\\karm_ch\\Documents\\autocoast\\baltic_sea_data\\random_s2a\\s2a_540x540_raw_random\\094567f8-9238-57fb-b73b-894b33862232_9d36e773bb1ab1d299258f149e7fc0043c3c4028590cd9540508d723b07e0f90____________________________________________________________________________________________\n",
      "in\n",
      "(540, 540)\n",
      "(540, 540)\n",
      "(540, 540)\n",
      "(540, 540)\n",
      "C:\\Users\\karm_ch\\Documents\\autocoast\\baltic_sea_data\\random_s2a\\s2a_540x540_raw_random\\094567f8-9238-57fb-b73b-894b33862232_cf953cd7a6feb0731edaf6171904aa901ae4454c1629781d3c9d0fdfd2413255____________________________________________________________________________________________\n",
      "in\n",
      "(540, 540)\n",
      "(540, 540)\n",
      "(540, 540)\n",
      "(540, 540)\n",
      "C:\\Users\\karm_ch\\Documents\\autocoast\\baltic_sea_data\\random_s2a\\s2a_540x540_raw_random\\094567f8-9238-57fb-b73b-894b33862232_e5e3721d7993a02d010659c422d350e9beb0bca48a39a7e9c4a385f24e62da02____________________________________________________________________________________________\n",
      "in\n",
      "(540, 540)\n",
      "(540, 540)\n",
      "(540, 540)\n",
      "(540, 540)\n",
      "C:\\Users\\karm_ch\\Documents\\autocoast\\baltic_sea_data\\random_s2a\\s2a_540x540_raw_random\\0c484e6e-9896-5c58-9ce1-20161d950ab6_4428e5cd3d56bc4030fbfac87abed61dce9cf9a79e66b03d015197fcff04c58e____________________________________________________________________________________________\n",
      "in\n",
      "(540, 540)\n",
      "(540, 540)\n",
      "(540, 540)\n",
      "(540, 540)\n",
      "C:\\Users\\karm_ch\\Documents\\autocoast\\baltic_sea_data\\random_s2a\\s2a_540x540_raw_random\\0c484e6e-9896-5c58-9ce1-20161d950ab6_53e21ca4a536bd2ec5c3c1b9a334e32ead792c184e4966fcb5008fa609680a0d____________________________________________________________________________________________\n",
      "in\n",
      "(540, 540)\n",
      "(540, 540)\n",
      "(540, 540)\n",
      "(540, 540)\n",
      "C:\\Users\\karm_ch\\Documents\\autocoast\\baltic_sea_data\\random_s2a\\s2a_540x540_raw_random\\0c484e6e-9896-5c58-9ce1-20161d950ab6_b1356b5508d97cdbb3aaf6f04dad482e81184dd2733921d3599ef8825d921976____________________________________________________________________________________________\n",
      "in\n",
      "(540, 540)\n",
      "(540, 540)\n",
      "(540, 540)\n",
      "(540, 540)\n",
      "C:\\Users\\karm_ch\\Documents\\autocoast\\baltic_sea_data\\random_s2a\\s2a_540x540_raw_random\\0c484e6e-9896-5c58-9ce1-20161d950ab6_fa692cf8d9af29b12873aef18ceea738d4b20f70cc9dcd807078aa90abe8f929____________________________________________________________________________________________\n",
      "in\n",
      "(540, 540)\n",
      "(540, 540)\n",
      "(540, 540)\n",
      "(540, 540)\n",
      "C:\\Users\\karm_ch\\Documents\\autocoast\\baltic_sea_data\\random_s2a\\s2a_540x540_raw_random\\0f8f114e-6dec-4aff-842b-d100c6c44dc1_661a095e96a5ab584ba1cba31735292cfb27bcfbf69c1416dcd0a30a68062fa2____________________________________________________________________________________________\n",
      "in\n",
      "(540, 540)\n",
      "(540, 540)\n",
      "(540, 540)\n",
      "(540, 540)\n",
      "C:\\Users\\karm_ch\\Documents\\autocoast\\baltic_sea_data\\random_s2a\\s2a_540x540_raw_random\\11e1e477-ceea-5bd6-aec0-c479350ee6ca_bbec8654a9d9f325031b94fbcea48d55938444cb1e353c452cde2bf880921163____________________________________________________________________________________________\n",
      "in\n",
      "(540, 540)\n",
      "(540, 540)\n",
      "(540, 540)\n",
      "(540, 540)\n",
      "C:\\Users\\karm_ch\\Documents\\autocoast\\baltic_sea_data\\random_s2a\\s2a_540x540_raw_random\\15d2198f-f9c4-506a-83c0-829e2f60ab23_5402fccf79109ca0971cbf347411d3e99579d6a0d06141ffc87887bd42bc0dff____________________________________________________________________________________________\n",
      "in\n",
      "(540, 540)\n",
      "(540, 540)\n",
      "(540, 540)\n",
      "(540, 540)\n",
      "C:\\Users\\karm_ch\\Documents\\autocoast\\baltic_sea_data\\random_s2a\\s2a_540x540_raw_random\\15d2198f-f9c4-506a-83c0-829e2f60ab23_834d667816e3e0fcc07b5bbd91d1147d5e92b7f4cf28328dc6aac6dbe86ec015____________________________________________________________________________________________\n",
      "in\n",
      "(540, 540)\n",
      "(540, 540)\n",
      "(540, 540)\n",
      "(540, 540)\n",
      "C:\\Users\\karm_ch\\Documents\\autocoast\\baltic_sea_data\\random_s2a\\s2a_540x540_raw_random\\15d2198f-f9c4-506a-83c0-829e2f60ab23_e5e3721d7993a02d010659c422d350e9beb0bca48a39a7e9c4a385f24e62da02____________________________________________________________________________________________\n",
      "in\n",
      "(540, 540)\n",
      "(540, 540)\n",
      "(540, 540)\n",
      "(540, 540)\n",
      "C:\\Users\\karm_ch\\Documents\\autocoast\\baltic_sea_data\\random_s2a\\s2a_540x540_raw_random\\15e8a8e4-5c89-581c-b35c-d88831565d45_a97c3b617967eb4b4c27c7e7004ef3a64abc9953d52fca7651d7d4e5c7712e6e____________________________________________________________________________________________\n",
      "in\n",
      "(540, 540)\n",
      "(540, 540)\n",
      "(540, 540)\n",
      "(540, 540)\n",
      "C:\\Users\\karm_ch\\Documents\\autocoast\\baltic_sea_data\\random_s2a\\s2a_540x540_raw_random\\17ee6a92-67ac-5acf-a132-4f424e310145_38294fdc5cbf961022f638e2a64dadd45beb9cb72ef732ad641eba2586fdf104____________________________________________________________________________________________\n",
      "in\n",
      "(540, 540)\n",
      "(540, 540)\n",
      "(540, 540)\n",
      "(540, 540)\n",
      "C:\\Users\\karm_ch\\Documents\\autocoast\\baltic_sea_data\\random_s2a\\s2a_540x540_raw_random\\18daaa78-b8d5-5051-a477-7090ea73c5de_23be5b4cec46125e6349e18a748d7c01e506456ca7780f9c606c11e7f30bf07e____________________________________________________________________________________________\n",
      "in\n",
      "(540, 540)\n",
      "(540, 540)\n",
      "(540, 540)\n",
      "(540, 540)\n",
      "C:\\Users\\karm_ch\\Documents\\autocoast\\baltic_sea_data\\random_s2a\\s2a_540x540_raw_random\\18daaa78-b8d5-5051-a477-7090ea73c5de_afed47788452069be862d34effd8b50771cdb52b0cf300d09abc8e5eeda1ed2e____________________________________________________________________________________________\n",
      "in\n",
      "(540, 540)\n",
      "(540, 540)\n",
      "(540, 540)\n",
      "(540, 540)\n",
      "C:\\Users\\karm_ch\\Documents\\autocoast\\baltic_sea_data\\random_s2a\\s2a_540x540_raw_random\\1a89df95-495b-4741-84a1-5c7b04ce2e8c_fa1f8f6817f2c051ab0f4650a91a0d8a8221cd208edc298f08509859f39f4406____________________________________________________________________________________________\n",
      "in\n",
      "(540, 540)\n",
      "(540, 540)\n",
      "(540, 540)\n",
      "(540, 540)\n",
      "C:\\Users\\karm_ch\\Documents\\autocoast\\baltic_sea_data\\random_s2a\\s2a_540x540_raw_random\\1df913f8-7349-4ec5-9c31-de96a6d0c1b4_50474efcffc484277e89e4b851f3136411d20fb4248a5d773bd8356d63df0314____________________________________________________________________________________________\n",
      "in\n",
      "(540, 540)\n",
      "(540, 540)\n",
      "(540, 540)\n",
      "(540, 540)\n",
      "C:\\Users\\karm_ch\\Documents\\autocoast\\baltic_sea_data\\random_s2a\\s2a_540x540_raw_random\\1edf7303-19c5-57d5-9a1b-6b0fa4bd93a0_f96e584b2d04cba6938305b5434a82558ea74ef5ef7b1fbe71fdf37442b9de3c____________________________________________________________________________________________\n",
      "in\n",
      "(540, 540)\n",
      "(540, 540)\n",
      "(540, 540)\n",
      "(540, 540)\n",
      "C:\\Users\\karm_ch\\Documents\\autocoast\\baltic_sea_data\\random_s2a\\s2a_540x540_raw_random\\227a3f94-25b4-54da-874d-3a93d6f347e5_72b751c1bf30d572034700e875660aeb21cf7dbb6386ccca424cab4873dbe10a____________________________________________________________________________________________\n",
      "in\n",
      "(540, 540)\n",
      "(540, 540)\n",
      "(540, 540)\n",
      "(540, 540)\n",
      "C:\\Users\\karm_ch\\Documents\\autocoast\\baltic_sea_data\\random_s2a\\s2a_540x540_raw_random\\24912176-82da-541c-ad96-bd9437e4539a_a1892b0deeacbc22d6eb4412046c6e4e8358ebec595c3ef9b679809dbe820a4f____________________________________________________________________________________________\n",
      "in\n",
      "(540, 540)\n",
      "(540, 540)\n",
      "(540, 540)\n",
      "(540, 540)\n",
      "C:\\Users\\karm_ch\\Documents\\autocoast\\baltic_sea_data\\random_s2a\\s2a_540x540_raw_random\\2554723e-5ac6-5354-88de-cfb37c957bd5_65a15e779caf070827f95630bfb327fe845475b5efe9355e03d496d16fafaece____________________________________________________________________________________________\n",
      "in\n",
      "(540, 540)\n",
      "(540, 540)\n",
      "(540, 540)\n",
      "(540, 540)\n",
      "C:\\Users\\karm_ch\\Documents\\autocoast\\baltic_sea_data\\random_s2a\\s2a_540x540_raw_random\\2554723e-5ac6-5354-88de-cfb37c957bd5_a87c8116c32d782a9b8ed42a435a2711e4bda4fee1b02250d8d29acc9c445633____________________________________________________________________________________________\n",
      "in\n",
      "(540, 540)\n",
      "(540, 540)\n",
      "(540, 540)\n",
      "(540, 540)\n",
      "C:\\Users\\karm_ch\\Documents\\autocoast\\baltic_sea_data\\random_s2a\\s2a_540x540_raw_random\\25970dc5-087a-5bf6-ad21-a6b0612b06af_d1b40ce391d64529e152d93fa015ce4052da733f9c078e07b2c3d88f930f4c02____________________________________________________________________________________________\n",
      "in\n",
      "(540, 540)\n",
      "(540, 540)\n"
     ]
    },
    {
     "name": "stdout",
     "output_type": "stream",
     "text": [
      "(540, 540)\n",
      "(540, 540)\n",
      "C:\\Users\\karm_ch\\Documents\\autocoast\\baltic_sea_data\\random_s2a\\s2a_540x540_raw_random\\2687dfdb-c254-5909-a517-484b78a33812_9d5ebe6b8c15095e233ab9734e80162cf21888366e8c4384b5c9b89ca6eb580a____________________________________________________________________________________________\n",
      "in\n",
      "(540, 540)\n",
      "(540, 540)\n",
      "(540, 540)\n",
      "(540, 540)\n",
      "C:\\Users\\karm_ch\\Documents\\autocoast\\baltic_sea_data\\random_s2a\\s2a_540x540_raw_random\\29abcd78-c4cf-512e-b1d4-6e96a22f82a2_8018e021c4f0463c750018eb05d8d78ee054d6016af8f14242a0390dde5aa4bf____________________________________________________________________________________________\n",
      "in\n",
      "(540, 540)\n",
      "(540, 540)\n",
      "(540, 540)\n",
      "(540, 540)\n",
      "C:\\Users\\karm_ch\\Documents\\autocoast\\baltic_sea_data\\random_s2a\\s2a_540x540_raw_random\\29eac03e-6749-45e0-8c22-d9c8a54784fd_4869b205ddaecee6def5da5317ac3f24cf43f57567fa1dae151881c30c4ca05c____________________________________________________________________________________________\n",
      "in\n",
      "(540, 540)\n",
      "(540, 540)\n",
      "(540, 540)\n",
      "(540, 540)\n",
      "C:\\Users\\karm_ch\\Documents\\autocoast\\baltic_sea_data\\random_s2a\\s2a_540x540_raw_random\\3040fe21-dfb4-5f3a-8ad4-24c586f96251_8a3aadf399f195ba60df63a00de7a36e961ab7950bd3de583ed6b519eb2473b6____________________________________________________________________________________________\n",
      "in\n",
      "(540, 540)\n",
      "(540, 540)\n",
      "(540, 540)\n",
      "(540, 540)\n",
      "C:\\Users\\karm_ch\\Documents\\autocoast\\baltic_sea_data\\random_s2a\\s2a_540x540_raw_random\\3040fe21-dfb4-5f3a-8ad4-24c586f96251_ae1dfc4e71e0af70c4411c170117e261a9e495b576b1eb9ded1f2338729b05d8____________________________________________________________________________________________\n",
      "in\n",
      "(540, 540)\n",
      "(540, 540)\n",
      "(540, 540)\n",
      "(540, 540)\n",
      "C:\\Users\\karm_ch\\Documents\\autocoast\\baltic_sea_data\\random_s2a\\s2a_540x540_raw_random\\3167079e-5003-5a5d-b654-10a67402387e_1f80ba3ac45d621f672b1685a63357c6004712997d7f0bbd7938cd87dad8af92____________________________________________________________________________________________\n",
      "in\n",
      "(540, 540)\n",
      "(540, 540)\n",
      "(540, 540)\n",
      "(540, 540)\n",
      "C:\\Users\\karm_ch\\Documents\\autocoast\\baltic_sea_data\\random_s2a\\s2a_540x540_raw_random\\3167079e-5003-5a5d-b654-10a67402387e_71cc7101f56e35fda02632d6d2f82ea89968303a204a14d9781648f31f14c476____________________________________________________________________________________________\n",
      "in\n",
      "(540, 540)\n",
      "(540, 540)\n",
      "(540, 540)\n",
      "(540, 540)\n",
      "C:\\Users\\karm_ch\\Documents\\autocoast\\baltic_sea_data\\random_s2a\\s2a_540x540_raw_random\\3167079e-5003-5a5d-b654-10a67402387e_86c7fb6883d48a3922ecd155977c8b9dd2a94de0d36de0a0ffa8dd635ef579ba____________________________________________________________________________________________\n",
      "in\n",
      "(540, 540)\n",
      "(540, 540)\n",
      "(540, 540)\n",
      "(540, 540)\n",
      "C:\\Users\\karm_ch\\Documents\\autocoast\\baltic_sea_data\\random_s2a\\s2a_540x540_raw_random\\31f084cc-aedb-5ecc-98aa-4c26c78d8e6e_0d9d99b8c88b78dab7e37a87972e07ad5f6e861a020765693d6cb4755be31a43____________________________________________________________________________________________\n",
      "in\n",
      "(540, 540)\n",
      "(540, 540)\n",
      "(540, 540)\n",
      "(540, 540)\n",
      "C:\\Users\\karm_ch\\Documents\\autocoast\\baltic_sea_data\\random_s2a\\s2a_540x540_raw_random\\365901e0-f93a-5122-a1c7-50fd97c65dc2_2bf24686cfef1031b7cd1ebd0da5b0e9e54c2564cbf5e22154fc3a084fbc1640____________________________________________________________________________________________\n",
      "in\n",
      "(540, 540)\n",
      "(540, 540)\n",
      "(540, 540)\n",
      "(540, 540)\n",
      "C:\\Users\\karm_ch\\Documents\\autocoast\\baltic_sea_data\\random_s2a\\s2a_540x540_raw_random\\3d140409-d116-5b07-9969-658fec631933_7b52ff866b489f667e43861bd161d0bf979c45f0f53446d5a51ace8b672ed1c2____________________________________________________________________________________________\n",
      "in\n",
      "(540, 540)\n",
      "(540, 540)\n",
      "(540, 540)\n",
      "(540, 540)\n",
      "C:\\Users\\karm_ch\\Documents\\autocoast\\baltic_sea_data\\random_s2a\\s2a_540x540_raw_random\\3d140409-d116-5b07-9969-658fec631933_a6fcfd630996b2ca3d3e820d404b7e4c25a7a8a87cb94ae08812020b219881a4____________________________________________________________________________________________\n",
      "in\n",
      "(540, 540)\n",
      "(540, 540)\n",
      "(540, 540)\n",
      "(540, 540)\n",
      "C:\\Users\\karm_ch\\Documents\\autocoast\\baltic_sea_data\\random_s2a\\s2a_540x540_raw_random\\3d140409-d116-5b07-9969-658fec631933_a73d4ec43c90a38813cefc79163988ba70e7c25d2d4afa68f0707721efb5cf15____________________________________________________________________________________________\n",
      "in\n",
      "(540, 540)\n",
      "(540, 540)\n",
      "(540, 540)\n",
      "(540, 540)\n",
      "C:\\Users\\karm_ch\\Documents\\autocoast\\baltic_sea_data\\random_s2a\\s2a_540x540_raw_random\\3d61062b-015b-5372-88e6-fae4683db678_96d479e2554530e14652656783df20d223f200494b776c87edec416671edb2fb____________________________________________________________________________________________\n",
      "in\n",
      "(540, 540)\n",
      "(540, 540)\n",
      "(540, 540)\n",
      "(540, 540)\n",
      "C:\\Users\\karm_ch\\Documents\\autocoast\\baltic_sea_data\\random_s2a\\s2a_540x540_raw_random\\3e377c59-29de-5472-90d1-8c69ef3fa74e_0fab8d46cf915d40ba620f3bdbbe91eddc95f2cb5e8a41b68fb8dcf84db68269____________________________________________________________________________________________\n",
      "in\n",
      "(540, 540)\n",
      "(540, 540)\n",
      "(540, 540)\n",
      "(540, 540)\n",
      "C:\\Users\\karm_ch\\Documents\\autocoast\\baltic_sea_data\\random_s2a\\s2a_540x540_raw_random\\503910bb-8a2f-4a3f-9085-33df6c295e5c_b88a536c4998421b918298fd2eae2c6d327bf1e92847688054842d80dd5dcab9____________________________________________________________________________________________\n",
      "in\n",
      "(540, 540)\n",
      "(540, 540)\n",
      "(540, 540)\n",
      "(540, 540)\n",
      "C:\\Users\\karm_ch\\Documents\\autocoast\\baltic_sea_data\\random_s2a\\s2a_540x540_raw_random\\51f6c134-1b41-5583-b8b8-ddba40567d19_0a1a4950b87392e10850387830f41d810107cb66e056865642321157d4fbb110____________________________________________________________________________________________\n",
      "in\n",
      "(540, 540)\n",
      "(540, 540)\n",
      "(540, 540)\n",
      "(540, 540)\n",
      "C:\\Users\\karm_ch\\Documents\\autocoast\\baltic_sea_data\\random_s2a\\s2a_540x540_raw_random\\51f6c134-1b41-5583-b8b8-ddba40567d19_3317232001d865b53d3aeddc0ff105652c5d64061653fddfcf468b350f5ac543____________________________________________________________________________________________\n",
      "in\n",
      "(540, 540)\n",
      "(540, 540)\n",
      "(540, 540)\n",
      "(540, 540)\n",
      "C:\\Users\\karm_ch\\Documents\\autocoast\\baltic_sea_data\\random_s2a\\s2a_540x540_raw_random\\53c6642d-b988-4a01-b99a-77308f2e4211_878c0110e6caab232be97f418f9ba36a51529e1b0091e4781df8a47511869370____________________________________________________________________________________________\n",
      "in\n",
      "(540, 540)\n",
      "(540, 540)\n",
      "(540, 540)\n",
      "(540, 540)\n",
      "C:\\Users\\karm_ch\\Documents\\autocoast\\baltic_sea_data\\random_s2a\\s2a_540x540_raw_random\\57f00ffb-34e7-5985-bb6a-3e1aebcdff99_3516b3433d42cf53b60c5ff2f9197ea79dd2998e622b4cb820d153c6e689a4ea____________________________________________________________________________________________\n",
      "in\n",
      "(540, 540)\n",
      "(540, 540)\n",
      "(540, 540)\n",
      "(540, 540)\n",
      "C:\\Users\\karm_ch\\Documents\\autocoast\\baltic_sea_data\\random_s2a\\s2a_540x540_raw_random\\5992b472-16ea-568b-9c49-d282e0c352e6_4888dcf65cc5f8e1be4b3b823987607d7b7d1954ceb6e123b4c9e9fb50adddbd____________________________________________________________________________________________\n",
      "in\n",
      "(540, 540)\n",
      "(540, 540)\n",
      "(540, 540)\n",
      "(540, 540)\n",
      "C:\\Users\\karm_ch\\Documents\\autocoast\\baltic_sea_data\\random_s2a\\s2a_540x540_raw_random\\5adf5d7a-e6fe-5aa4-bd51-5a14aff37859_41d354924254a9ea3b78cd3b8caecf4705ac4d3e72f4288ef7290d9970d1d431____________________________________________________________________________________________\n",
      "in\n",
      "(540, 540)\n",
      "(540, 540)\n",
      "(540, 540)\n",
      "(540, 540)\n",
      "C:\\Users\\karm_ch\\Documents\\autocoast\\baltic_sea_data\\random_s2a\\s2a_540x540_raw_random\\5adf5d7a-e6fe-5aa4-bd51-5a14aff37859_bde11527f3ca9af4f33e155a48bb2466a6895a6eb778e5871ee658d0fa7b3de5____________________________________________________________________________________________\n",
      "in\n",
      "(540, 540)\n",
      "(540, 540)\n",
      "(540, 540)\n",
      "(540, 540)\n",
      "C:\\Users\\karm_ch\\Documents\\autocoast\\baltic_sea_data\\random_s2a\\s2a_540x540_raw_random\\5d047780-4b04-5fd4-99f7-09d24ab5f4bf_4815565d43a8d837db949479ec3d4187c784bb407ceb10da6b9025bb31e36093____________________________________________________________________________________________\n",
      "in\n",
      "(540, 540)\n",
      "(540, 540)\n",
      "(540, 540)\n",
      "(540, 540)\n",
      "C:\\Users\\karm_ch\\Documents\\autocoast\\baltic_sea_data\\random_s2a\\s2a_540x540_raw_random\\5f1e6d46-46fb-5f09-8011-a3e96db438e8_b4d1bc0b333f20e0457a3dae18f1fb58c06b1f0f087796c44cef0b0258fce3c9____________________________________________________________________________________________\n",
      "in\n",
      "(540, 540)\n",
      "(540, 540)\n",
      "(540, 540)\n",
      "(540, 540)\n",
      "C:\\Users\\karm_ch\\Documents\\autocoast\\baltic_sea_data\\random_s2a\\s2a_540x540_raw_random\\5fee5375-81f6-582b-93be-b85fd9f017f4_0287b8caa538dc2334f5dd842fdc44e6c902045e9b0094b969559f21cfd18cf1____________________________________________________________________________________________\n",
      "in\n",
      "(540, 540)\n",
      "(540, 540)\n",
      "(540, 540)\n",
      "(540, 540)\n",
      "C:\\Users\\karm_ch\\Documents\\autocoast\\baltic_sea_data\\random_s2a\\s2a_540x540_raw_random\\7003961d-fdf3-478c-8842-c351c08b6041_027c084bb3a7a7615a72d4e953f377ad90f4cf29426cfb9c6b29e016d260a5d1____________________________________________________________________________________________\n",
      "in\n",
      "(540, 540)\n",
      "(540, 540)\n",
      "(540, 540)\n",
      "(540, 540)\n",
      "C:\\Users\\karm_ch\\Documents\\autocoast\\baltic_sea_data\\random_s2a\\s2a_540x540_raw_random\\7003961d-fdf3-478c-8842-c351c08b6041_1f87674b18cd53c6e11f62d0cc40d3249d8c4bf21d22e7f06e9995ae6c49fc05____________________________________________________________________________________________\n",
      "in\n",
      "(540, 540)\n",
      "(540, 540)\n",
      "(540, 540)\n",
      "(540, 540)\n",
      "C:\\Users\\karm_ch\\Documents\\autocoast\\baltic_sea_data\\random_s2a\\s2a_540x540_raw_random\\72b5819c-9dcf-5534-a798-235ef6440c97_5d5c3403baea2d4428abc08d4ee184f92a1b24fcf2b0a780573b90d04ffd7690____________________________________________________________________________________________\n",
      "in\n",
      "(540, 540)\n",
      "(540, 540)\n",
      "(540, 540)\n",
      "(540, 540)\n",
      "C:\\Users\\karm_ch\\Documents\\autocoast\\baltic_sea_data\\random_s2a\\s2a_540x540_raw_random\\733ad089-2a07-42bf-9917-05dafdc60571_ca52f750b00a4927a5b8a4dd18abfe0422999a5eb4413e76cc60860b4d88baf8____________________________________________________________________________________________\n",
      "in\n",
      "(540, 540)\n",
      "(540, 540)\n",
      "(540, 540)\n",
      "(540, 540)\n",
      "C:\\Users\\karm_ch\\Documents\\autocoast\\baltic_sea_data\\random_s2a\\s2a_540x540_raw_random\\73bd6be8-8dec-53ae-bb04-6e294234433a_5d114ff8fcb4cfd4f6046df43cb064631ea64eddaeb992c40a172316a79a6d0f____________________________________________________________________________________________\n",
      "in\n",
      "(540, 540)\n",
      "(540, 540)\n",
      "(540, 540)\n",
      "(540, 540)\n",
      "C:\\Users\\karm_ch\\Documents\\autocoast\\baltic_sea_data\\random_s2a\\s2a_540x540_raw_random\\73ddbfe6-8d18-5aa5-a7c5-13454ff6901e_6b680483adf8f61a84bdff1fe77c2bad5d4e9d5956ede24799b5fadde9dabc82____________________________________________________________________________________________\n",
      "in\n",
      "(540, 540)\n",
      "(540, 540)\n",
      "(540, 540)\n",
      "(540, 540)\n",
      "C:\\Users\\karm_ch\\Documents\\autocoast\\baltic_sea_data\\random_s2a\\s2a_540x540_raw_random\\73ddbfe6-8d18-5aa5-a7c5-13454ff6901e_a287156b7455af14b55da52fc57f95fd6d3511d910272799927a74e68223943b____________________________________________________________________________________________\n",
      "in\n",
      "(540, 540)\n",
      "(540, 540)\n",
      "(540, 540)\n",
      "(540, 540)\n"
     ]
    },
    {
     "name": "stdout",
     "output_type": "stream",
     "text": [
      "C:\\Users\\karm_ch\\Documents\\autocoast\\baltic_sea_data\\random_s2a\\s2a_540x540_raw_random\\74c0f0dd-77b7-5d3f-ab49-6635d0d195fa_105a60ecf2a4321d9b58e760c2523ec41fe3d79a3d865227942c5b737d8f0af7____________________________________________________________________________________________\n",
      "in\n",
      "(540, 540)\n",
      "(540, 540)\n",
      "(540, 540)\n",
      "(540, 540)\n",
      "C:\\Users\\karm_ch\\Documents\\autocoast\\baltic_sea_data\\random_s2a\\s2a_540x540_raw_random\\7ce9be4e-15b5-5c46-b5f4-11e35befface_01c582754f335dc8e284d609bd360d23749cca441ff49c75d270b867ee84cb92____________________________________________________________________________________________\n",
      "in\n",
      "(540, 540)\n",
      "(540, 540)\n",
      "(540, 540)\n",
      "(540, 540)\n",
      "C:\\Users\\karm_ch\\Documents\\autocoast\\baltic_sea_data\\random_s2a\\s2a_540x540_raw_random\\7ce9be4e-15b5-5c46-b5f4-11e35befface_e1abc49c273a0ce575d3f2efbb8ff24d15f1b65213d19460916c1e483a74f9fb____________________________________________________________________________________________\n",
      "in\n",
      "(540, 540)\n",
      "(540, 540)\n",
      "(540, 540)\n",
      "(540, 540)\n",
      "C:\\Users\\karm_ch\\Documents\\autocoast\\baltic_sea_data\\random_s2a\\s2a_540x540_raw_random\\7e9b409f-229a-5a13-bbf3-2e7639966711_86a853681f3e84f38e40e5a9bf89fcd59aa2512b43b668d125e0249e14ed470a____________________________________________________________________________________________\n",
      "in\n",
      "(540, 540)\n",
      "(540, 540)\n",
      "(540, 540)\n",
      "(540, 540)\n",
      "C:\\Users\\karm_ch\\Documents\\autocoast\\baltic_sea_data\\random_s2a\\s2a_540x540_raw_random\\816f795e-ff6c-59a2-84aa-3de93e8e5906_ab5c4e31b7ac324e4f57f0c6b7fa012bfbac3a29ca8d816f181d844e85e465a1____________________________________________________________________________________________\n",
      "in\n",
      "(540, 540)\n",
      "(540, 540)\n",
      "(540, 540)\n",
      "(540, 540)\n",
      "C:\\Users\\karm_ch\\Documents\\autocoast\\baltic_sea_data\\random_s2a\\s2a_540x540_raw_random\\81f73dbf-72bc-426f-aca6-65547c17776c_1a0a9f1090fb0b9a81955af615bddb4aaef3de079e5c1bd6336b664a04090c41____________________________________________________________________________________________\n",
      "in\n",
      "(540, 540)\n",
      "(540, 540)\n",
      "(540, 540)\n",
      "(540, 540)\n",
      "C:\\Users\\karm_ch\\Documents\\autocoast\\baltic_sea_data\\random_s2a\\s2a_540x540_raw_random\\81f73dbf-72bc-426f-aca6-65547c17776c_f68b4934df6aee3d49fa32e09cd2dab6ddd1118a988540659a927d89c3157f18____________________________________________________________________________________________\n",
      "in\n",
      "(540, 540)\n",
      "(540, 540)\n",
      "(540, 540)\n",
      "(540, 540)\n",
      "C:\\Users\\karm_ch\\Documents\\autocoast\\baltic_sea_data\\random_s2a\\s2a_540x540_raw_random\\844397ed-1de0-4945-9c4d-6c50ffba24e8_bef00b72cac3ca32c5f14a6192c17b4e2103b36e8c11a239144281a283548054____________________________________________________________________________________________\n",
      "in\n",
      "(540, 540)\n",
      "(540, 540)\n",
      "(540, 540)\n",
      "(540, 540)\n",
      "C:\\Users\\karm_ch\\Documents\\autocoast\\baltic_sea_data\\random_s2a\\s2a_540x540_raw_random\\86536636-afbb-55b2-9e22-7efbf90ecde4_3c7af65debd6bf3faac3e65a923c4ddea514ef59cb64af07da2b9059e4551900____________________________________________________________________________________________\n",
      "in\n",
      "(540, 540)\n",
      "(540, 540)\n",
      "(540, 540)\n",
      "(540, 540)\n",
      "C:\\Users\\karm_ch\\Documents\\autocoast\\baltic_sea_data\\random_s2a\\s2a_540x540_raw_random\\86a1d494-3ee9-5bbc-a807-9673992980d8_24bbc704603b3fb6a057387485b622d936fab4e9010b17f54e9f67df440965fd____________________________________________________________________________________________\n",
      "in\n",
      "(540, 540)\n",
      "(540, 540)\n",
      "(540, 540)\n",
      "(540, 540)\n",
      "C:\\Users\\karm_ch\\Documents\\autocoast\\baltic_sea_data\\random_s2a\\s2a_540x540_raw_random\\8950af2f-432a-5708-bcf7-9f07f0349eca_ff97562f61ef67255e3650494539fc8e15009247717624ed3464285f64453b9a____________________________________________________________________________________________\n",
      "in\n",
      "(540, 540)\n",
      "(540, 540)\n",
      "(540, 540)\n",
      "(540, 540)\n",
      "C:\\Users\\karm_ch\\Documents\\autocoast\\baltic_sea_data\\random_s2a\\s2a_540x540_raw_random\\8c0f5fd6-cfa6-566d-8f69-58d627f1671e_b52fd4f14dcafc600930358c1688ce9e1b515c7441a22e0b61c96d737af21342____________________________________________________________________________________________\n",
      "in\n",
      "(540, 540)\n",
      "(540, 540)\n",
      "(540, 540)\n",
      "(540, 540)\n",
      "C:\\Users\\karm_ch\\Documents\\autocoast\\baltic_sea_data\\random_s2a\\s2a_540x540_raw_random\\8c2ab47d-dd34-5a53-80da-8f70bce942fc_8c6c8da900e8b01ba741a766bda1e5c511589215c5158b6fc377af5797b7a482____________________________________________________________________________________________\n",
      "in\n",
      "(540, 540)\n",
      "(540, 540)\n",
      "(540, 540)\n",
      "(540, 540)\n",
      "C:\\Users\\karm_ch\\Documents\\autocoast\\baltic_sea_data\\random_s2a\\s2a_540x540_raw_random\\8c58c989-7113-406b-b401-7f3e7ae75e76_97fe13ec7ff6baae3df05111a72c9b6ef7fa331f207839bd68daa189dcf8068a____________________________________________________________________________________________\n",
      "in\n",
      "(540, 540)\n",
      "(540, 540)\n",
      "(540, 540)\n",
      "(540, 540)\n",
      "C:\\Users\\karm_ch\\Documents\\autocoast\\baltic_sea_data\\random_s2a\\s2a_540x540_raw_random\\8ebcdae8-bf4c-5876-9367-50103a0cf13b_949111b1539377139abd37bb6d158a71be5335cc5b0ccea72aa2f1e86f3f9dc3____________________________________________________________________________________________\n",
      "in\n",
      "(540, 540)\n",
      "(540, 540)\n",
      "(540, 540)\n",
      "(540, 540)\n",
      "C:\\Users\\karm_ch\\Documents\\autocoast\\baltic_sea_data\\random_s2a\\s2a_540x540_raw_random\\92ed2611-20d8-576b-bcfd-38b10ee69086_111c8a6a295d402100c85b28848808b378930c2290d628c3edcc4fc285fdf340____________________________________________________________________________________________\n",
      "in\n",
      "(540, 540)\n",
      "(540, 540)\n",
      "(540, 540)\n",
      "(540, 540)\n",
      "C:\\Users\\karm_ch\\Documents\\autocoast\\baltic_sea_data\\random_s2a\\s2a_540x540_raw_random\\933e52d7-e014-56fa-adf4-cfbef451e204_cfe87391a5667017ebfa8a38bf2a285a077da0ba96141f56a655788bb492a4d7____________________________________________________________________________________________\n",
      "in\n",
      "(540, 540)\n",
      "(540, 540)\n",
      "(540, 540)\n",
      "(540, 540)\n",
      "C:\\Users\\karm_ch\\Documents\\autocoast\\baltic_sea_data\\random_s2a\\s2a_540x540_raw_random\\9d94e58e-1b54-52b7-8f04-47886aed8959_839ebbd7ec6636ccedb4e99d466e0bfe41cfab606e6ffba65ef5bca04ee2e4c0____________________________________________________________________________________________\n",
      "in\n",
      "(540, 540)\n",
      "(540, 540)\n",
      "(540, 540)\n",
      "(540, 540)\n",
      "C:\\Users\\karm_ch\\Documents\\autocoast\\baltic_sea_data\\random_s2a\\s2a_540x540_raw_random\\a01db235-6565-5e2b-834e-e9d75db10ebb_3aeaf3c45ec0ceb7c98c9c81fdf0ceb7c1d9aacc0333d360fa131c335de89191____________________________________________________________________________________________\n",
      "in\n",
      "(540, 540)\n",
      "(540, 540)\n",
      "(540, 540)\n",
      "(540, 540)\n",
      "C:\\Users\\karm_ch\\Documents\\autocoast\\baltic_sea_data\\random_s2a\\s2a_540x540_raw_random\\ab30619d-f454-40c1-84fd-4b4ccffc9975_39d526fb00460ead23d9e8d00186d64818975f3df637e11a41e5e2b96137bc3a____________________________________________________________________________________________\n",
      "in\n",
      "(540, 540)\n",
      "(540, 540)\n",
      "(540, 540)\n",
      "(540, 540)\n",
      "C:\\Users\\karm_ch\\Documents\\autocoast\\baltic_sea_data\\random_s2a\\s2a_540x540_raw_random\\adb289e8-5b61-57c2-967a-69ad8d289c53_c4592e252e4e0e03b950d37e022ec844eb2026e781e775ecbf0ea582fd7a1653____________________________________________________________________________________________\n",
      "in\n",
      "(540, 540)\n",
      "(540, 540)\n",
      "(540, 540)\n",
      "(540, 540)\n",
      "C:\\Users\\karm_ch\\Documents\\autocoast\\baltic_sea_data\\random_s2a\\s2a_540x540_raw_random\\aeaf916c-03a9-5f9a-a0b4-20a8443ab979_97fe13ec7ff6baae3df05111a72c9b6ef7fa331f207839bd68daa189dcf8068a____________________________________________________________________________________________\n",
      "in\n",
      "(540, 540)\n",
      "(540, 540)\n",
      "(540, 540)\n",
      "(540, 540)\n",
      "C:\\Users\\karm_ch\\Documents\\autocoast\\baltic_sea_data\\random_s2a\\s2a_540x540_raw_random\\b9c22772-082d-546d-a672-5ff85242325f_e0ed48c24f34fc2b8311c7f1cf2dfe46ccfe992449400a2039d1d3cfc44617f4____________________________________________________________________________________________\n",
      "in\n",
      "(540, 540)\n",
      "(540, 540)\n",
      "(540, 540)\n",
      "(540, 540)\n",
      "C:\\Users\\karm_ch\\Documents\\autocoast\\baltic_sea_data\\random_s2a\\s2a_540x540_raw_random\\c6edae5c-ba5a-52f5-a303-9750973832b7_5b5fe69e2eedc9328c4e6a486a46c4b89f14dc7bf04844c8126bd89ad0adb595____________________________________________________________________________________________\n",
      "in\n",
      "(540, 540)\n",
      "(540, 540)\n",
      "(540, 540)\n",
      "(540, 540)\n",
      "C:\\Users\\karm_ch\\Documents\\autocoast\\baltic_sea_data\\random_s2a\\s2a_540x540_raw_random\\c7c84939-34bd-53a2-9aec-d68afaa07a34_16efb94b6df9dc1e904193ac001e984edcaa2ee49b440dec891060aa78955511____________________________________________________________________________________________\n",
      "in\n",
      "(540, 540)\n",
      "(540, 540)\n",
      "(540, 540)\n",
      "(540, 540)\n",
      "C:\\Users\\karm_ch\\Documents\\autocoast\\baltic_sea_data\\random_s2a\\s2a_540x540_raw_random\\c84161e1-c350-5bc7-ba4b-2b349df5519c_39d526fb00460ead23d9e8d00186d64818975f3df637e11a41e5e2b96137bc3a____________________________________________________________________________________________\n",
      "in\n",
      "(540, 540)\n",
      "(540, 540)\n",
      "(540, 540)\n",
      "(540, 540)\n",
      "C:\\Users\\karm_ch\\Documents\\autocoast\\baltic_sea_data\\random_s2a\\s2a_540x540_raw_random\\c84161e1-c350-5bc7-ba4b-2b349df5519c_b84ec1515838bbb98f2d870ed3ef0786c80fdaa02701e0c4fdf89bc230caa637____________________________________________________________________________________________\n",
      "in\n",
      "(540, 540)\n",
      "(540, 540)\n",
      "(540, 540)\n",
      "(540, 540)\n",
      "C:\\Users\\karm_ch\\Documents\\autocoast\\baltic_sea_data\\random_s2a\\s2a_540x540_raw_random\\cd4f9b15-85aa-4302-89aa-c6b0a81772c5_efba89e103251511fae3f03359387c9bd8529081c8bf5ca4d9cd346de10cdb3b____________________________________________________________________________________________\n",
      "in\n",
      "(540, 540)\n",
      "(540, 540)\n",
      "(540, 540)\n",
      "(540, 540)\n",
      "C:\\Users\\karm_ch\\Documents\\autocoast\\baltic_sea_data\\random_s2a\\s2a_540x540_raw_random\\de0708e5-98a6-536f-a582-35070bdc0a27_55ac788cd5d661c640c1efd1a7725524315f69e270f756232a1e48a5e81c1570____________________________________________________________________________________________\n",
      "in\n",
      "(540, 540)\n",
      "(540, 540)\n",
      "(540, 540)\n",
      "(540, 540)\n",
      "C:\\Users\\karm_ch\\Documents\\autocoast\\baltic_sea_data\\random_s2a\\s2a_540x540_raw_random\\e0966259-be4c-53af-b197-ee1e2e362955_a41c9a4b1824e9ad511f06635373b397d44cb0ee599d32b9bc0b011286f0c64a____________________________________________________________________________________________\n",
      "in\n",
      "(540, 540)\n",
      "(540, 540)\n",
      "(540, 540)\n",
      "(540, 540)\n",
      "C:\\Users\\karm_ch\\Documents\\autocoast\\baltic_sea_data\\random_s2a\\s2a_540x540_raw_random\\e95fe58d-0a04-5c16-b9cb-b2900017038a_aaddb86dc85d293b1552cabbda8bacbec918d2edc14509f06f707cff072795fb____________________________________________________________________________________________\n",
      "in\n",
      "(540, 540)\n",
      "(540, 540)\n",
      "(540, 540)\n",
      "(540, 540)\n"
     ]
    },
    {
     "name": "stdout",
     "output_type": "stream",
     "text": [
      "C:\\Users\\karm_ch\\Documents\\autocoast\\baltic_sea_data\\random_s2a\\s2a_540x540_raw_random\\eab760b9-5011-55bc-b361-d0cc37e47bce_439f82c6e648d4638c430f847906918dff49bf78574dd545a353ab40ec6fc2d5____________________________________________________________________________________________\n",
      "in\n",
      "(540, 540)\n",
      "(540, 540)\n",
      "(540, 540)\n",
      "(540, 540)\n",
      "C:\\Users\\karm_ch\\Documents\\autocoast\\baltic_sea_data\\random_s2a\\s2a_540x540_raw_random\\f015c1b0-4607-5fad-928d-2474416a1093_b4290434fdb4067a4c78af23c3ea2801e355028fa3380efdd858bcfda96c8402____________________________________________________________________________________________\n",
      "in\n",
      "(540, 540)\n",
      "(540, 540)\n",
      "(540, 540)\n",
      "(540, 540)\n",
      "C:\\Users\\karm_ch\\Documents\\autocoast\\baltic_sea_data\\random_s2a\\s2a_540x540_raw_random\\f06a4240-b4f8-563f-8420-5221583bd791_50b08a4c4342e6c5a0db9c0f98f82f11f4817c4725b1a8baf9f4a34be3dd48ad____________________________________________________________________________________________\n",
      "in\n",
      "(540, 540)\n",
      "(540, 540)\n",
      "(540, 540)\n",
      "(540, 540)\n",
      "C:\\Users\\karm_ch\\Documents\\autocoast\\baltic_sea_data\\random_s2a\\s2a_540x540_raw_random\\f3320512-c643-504f-9714-86fd2f1d6dc5_ea56b962781cfe82ebf74cdeac34d79c41e0a74e60227f7b83cb2bd5224088b0____________________________________________________________________________________________\n",
      "in\n",
      "(540, 540)\n",
      "(540, 540)\n",
      "(540, 540)\n",
      "(540, 540)\n"
     ]
    }
   ],
   "source": [
    "\n",
    "\n",
    "# band descriptions here: https://sentinels.copernicus.eu/web/sentinel/user-guides/sentinel-2-msi/processing-levels/level-2\n",
    "# paper :https://www.nature.com/articles/s41597-022-01307-4#Sec8\n",
    "num_of_samples=0\n",
    "data=[]\n",
    "labels=[]\n",
    "\n",
    "i=0\n",
    "for folder in glob.glob(new_folder+ \"\\\\*\") :\n",
    "    print(folder + \"____________________________________________________________________________________________\")\n",
    "    os.chdir(folder)\n",
    "    print(\"in\")\n",
    "    tif_np=np.zeros((540 * 540 , 4))\n",
    "    i=0\n",
    "    for file in glob.glob(folder + \"\\\\*\"): \n",
    "        \n",
    "        split_up=os.path.splitext(file)\n",
    "        #print(split_up[1])\n",
    "        if ((split_up[1] ==\".tif\" or split_up[1]==\".tiff\") and (\"B02_10m\" in file or \"B03_10m\" in file or \"B04_10m\" in file or \"B08_10m\" in file)): \n",
    "            #print(file)\n",
    "\n",
    "            im=io.imread(file)[0:540,0:540]\n",
    "            print(im.shape)\n",
    "            tif_np[:,i]=im.reshape(540 * 540)\n",
    "            i+=1\n",
    "        #if(im.shape == (510,510) and (\"B2.tif\" in file or \"B3.tif\" in file or \"B4.tif\" in file or \"B8.tif\" in file)): \n",
    "            #print(file) \n",
    "            #print(im.shape)\n",
    "            #tif_lst.append(im) # the order is B2 B3 B4 B8\n",
    "        #img_stacked[i,:,:]=im[0:510,0:510]\n",
    "        #i+=1\n",
    "    #print(folder+\"\\\\*.TCI_B.tif\")\n",
    "    os.chdir(\"..\")\n",
    "    num_of_samples+=1\n",
    "    data.append(tif_np)\n",
    "    \n",
    "    \n",
    "    # now get the label tif from the label folder\n",
    "    #for labelfilename in  glob.glob(label_folder + \"\\\\*\"):\n",
    "    \n",
    "        #file_name, file_extension = os.path.splitext(os.path.basename(labelfilename))\n",
    "        #if (file_extension == \".tif\" and file_name in folder):\n",
    "            #print(\"label here ******************\")\n",
    "            #label_np= io.imread(labelfilename)\n",
    "            #print(file_name,label_np.shape)\n",
    "            #labels.append(label_np) \n",
    "        #else:\n",
    "            #print(\"not here\")\n",
    "    #blue_band= io.imread(folder+\"*.TCI_B.tif\")\n",
    "    \n"
   ]
  },
  {
   "cell_type": "code",
   "execution_count": 22,
   "id": "282675f7",
   "metadata": {},
   "outputs": [],
   "source": [
    "data=np.array(data)"
   ]
  },
  {
   "cell_type": "code",
   "execution_count": 23,
   "id": "13b134b9",
   "metadata": {},
   "outputs": [
    {
     "data": {
      "text/plain": [
       "(291600, 4)"
      ]
     },
     "execution_count": 23,
     "metadata": {},
     "output_type": "execute_result"
    }
   ],
   "source": [
    "data[0].shape"
   ]
  },
  {
   "cell_type": "code",
   "execution_count": 24,
   "id": "0ac935f0",
   "metadata": {},
   "outputs": [],
   "source": [
    "data_rszd= data.reshape((99 * 291600 , 4))"
   ]
  },
  {
   "cell_type": "code",
   "execution_count": 25,
   "id": "e1ec3647",
   "metadata": {},
   "outputs": [],
   "source": [
    "np.savetxt('baltic_data.txt', data_rszd, fmt='%d')\n"
   ]
  },
  {
   "cell_type": "code",
   "execution_count": 26,
   "id": "18e748d9",
   "metadata": {},
   "outputs": [],
   "source": [
    "data_baltic=data_rszd"
   ]
  },
  {
   "cell_type": "code",
   "execution_count": 24,
   "id": "77bd9737",
   "metadata": {},
   "outputs": [],
   "source": [
    "labels_np = np.array(labels)"
   ]
  },
  {
   "cell_type": "code",
   "execution_count": 25,
   "id": "5ff894f9",
   "metadata": {},
   "outputs": [
    {
     "data": {
      "text/plain": [
       "(193, 510, 510)"
      ]
     },
     "execution_count": 25,
     "metadata": {},
     "output_type": "execute_result"
    }
   ],
   "source": [
    "labels_np.shape"
   ]
  },
  {
   "cell_type": "code",
   "execution_count": 26,
   "id": "48dcb265",
   "metadata": {},
   "outputs": [],
   "source": [
    "np.savetxt('labels_np_correct.txt', labels_np.reshape(labels_np.shape[0], labels_np.shape[1] * labels_np.shape[2]), fmt='%d')"
   ]
  },
  {
   "cell_type": "code",
   "execution_count": 47,
   "id": "0313abc7",
   "metadata": {},
   "outputs": [],
   "source": [
    "data_np= np.array(data)\n",
    "data_np = data_np.reshape(data_np.shape[0] * data_np.shape[1] , data_np.shape[2])"
   ]
  },
  {
   "cell_type": "code",
   "execution_count": 48,
   "id": "6c895acf",
   "metadata": {},
   "outputs": [
    {
     "data": {
      "text/plain": [
       "(50199300, 4)"
      ]
     },
     "execution_count": 48,
     "metadata": {},
     "output_type": "execute_result"
    }
   ],
   "source": [
    "data_np.shape"
   ]
  },
  {
   "cell_type": "code",
   "execution_count": 19,
   "id": "3b054355",
   "metadata": {},
   "outputs": [],
   "source": [
    "np.savetxt('data_np_correct.txt', data_np.reshape(data_np.shape[0] * data_np.shape[1] , data_np.shape[2]), fmt='%d')"
   ]
  },
  {
   "cell_type": "markdown",
   "id": "1e18a5a2",
   "metadata": {},
   "source": [
    "# load  the data"
   ]
  },
  {
   "cell_type": "code",
   "execution_count": 3,
   "id": "4857b297",
   "metadata": {},
   "outputs": [],
   "source": [
    "data_npy=np.loadtxt(\"C:\\\\Users\\\\karm_ch\\\\Documents\\\\autocoast\\\\data\\\\s2raw\\\\data_np\\\\data_np_correct.txt\")\n",
    "#print(data_npy.shape)"
   ]
  },
  {
   "cell_type": "code",
   "execution_count": 4,
   "id": "821f671d",
   "metadata": {},
   "outputs": [],
   "source": [
    "first_20_samples= 20 * 510 *510"
   ]
  },
  {
   "cell_type": "code",
   "execution_count": 5,
   "id": "e0340003",
   "metadata": {},
   "outputs": [],
   "source": [
    "data_npy= data_npy[0:first_20_samples]"
   ]
  },
  {
   "cell_type": "code",
   "execution_count": 6,
   "id": "0e04b5c8",
   "metadata": {},
   "outputs": [
    {
     "data": {
      "text/plain": [
       "(5202000, 4)"
      ]
     },
     "execution_count": 6,
     "metadata": {},
     "output_type": "execute_result"
    }
   ],
   "source": [
    "data_npy.shape"
   ]
  },
  {
   "cell_type": "markdown",
   "id": "42ddebde",
   "metadata": {},
   "source": [
    "# what does the data look like ?"
   ]
  },
  {
   "cell_type": "markdown",
   "id": "39f821d2",
   "metadata": {},
   "source": [
    "## band B2"
   ]
  },
  {
   "cell_type": "code",
   "execution_count": 10,
   "id": "19725bb4",
   "metadata": {},
   "outputs": [
    {
     "data": {
      "image/png": "[encoded data removed]",
      "text/plain": [
       "<Figure size 432x288 with 1 Axes>"
      ]
     },
     "metadata": {
      "needs_background": "light"
     },
     "output_type": "display_data"
    }
   ],
   "source": [
    "import matplotlib.pyplot as plt\n",
    "\n",
    "plt.scatter(np.arange(data_npy.shape[0]),data_npy[:,0])\n",
    "#plt.scatter(5000, 750, color='red')\n",
    "\n",
    "plt.show()"
   ]
  },
  {
   "cell_type": "markdown",
   "id": "cb865e90",
   "metadata": {},
   "source": [
    "# band b3"
   ]
  },
  {
   "cell_type": "code",
   "execution_count": 12,
   "id": "f51febf9",
   "metadata": {},
   "outputs": [
    {
     "data": {
      "image/png": "[encoded data removed]",
      "text/plain": [
       "<Figure size 432x288 with 1 Axes>"
      ]
     },
     "metadata": {
      "needs_background": "light"
     },
     "output_type": "display_data"
    }
   ],
   "source": [
    "\n",
    "plt.scatter(np.arange(data_npy.shape[0]),data_npy[:,1])\n",
    "#plt.scatter(5000, 750, color='red')\n",
    "\n",
    "plt.show()"
   ]
  },
  {
   "cell_type": "markdown",
   "id": "d96864f0",
   "metadata": {},
   "source": [
    "# band b4"
   ]
  },
  {
   "cell_type": "code",
   "execution_count": 14,
   "id": "372a9e56",
   "metadata": {},
   "outputs": [
    {
     "data": {
      "image/png": "[encoded data removed]",
      "text/plain": [
       "<Figure size 432x288 with 1 Axes>"
      ]
     },
     "metadata": {
      "needs_background": "light"
     },
     "output_type": "display_data"
    }
   ],
   "source": [
    "\n",
    "plt.scatter(np.arange(data_npy.shape[0]) ,data_npy[:,2])\n",
    "#plt.scatter(5000, 750, color='red')\n",
    "\n",
    "plt.show()"
   ]
  },
  {
   "cell_type": "markdown",
   "id": "6898d6cb",
   "metadata": {},
   "source": [
    "# band b8"
   ]
  },
  {
   "cell_type": "code",
   "execution_count": 17,
   "id": "bacf5605",
   "metadata": {},
   "outputs": [
    {
     "data": {
      "image/png": "[encoded data removed]",
      "text/plain": [
       "<Figure size 432x288 with 1 Axes>"
      ]
     },
     "metadata": {
      "needs_background": "light"
     },
     "output_type": "display_data"
    }
   ],
   "source": [
    "\n",
    "plt.scatter(np.arange(data_npy.shape[0]) , data_npy[:,3])\n",
    "#plt.scatter(5000, 750, color='red')\n",
    "\n",
    "plt.show()"
   ]
  },
  {
   "cell_type": "markdown",
   "id": "71f76070",
   "metadata": {},
   "source": [
    "# band correlation plot"
   ]
  },
  {
   "cell_type": "markdown",
   "id": "6728f713",
   "metadata": {},
   "source": []
  },
  {
   "cell_type": "code",
   "execution_count": 38,
   "id": "a91b393b",
   "metadata": {},
   "outputs": [],
   "source": []
  },
  {
   "cell_type": "markdown",
   "id": "710814e2",
   "metadata": {},
   "source": [
    "# Finding the optimal number of clusters in the dataset"
   ]
  },
  {
   "cell_type": "markdown",
   "id": "0b13a13c",
   "metadata": {},
   "source": [
    "# Trial 1: Elbow visulalizer"
   ]
  },
  {
   "cell_type": "code",
   "execution_count": 45,
   "id": "eac5a31b",
   "metadata": {},
   "outputs": [
    {
     "name": "stdout",
     "output_type": "stream",
     "text": [
      "(30000, 4)\n"
     ]
    }
   ],
   "source": [
    "dataset=data_baltic[0:30000]\n",
    "print(dataset.shape)"
   ]
  },
  {
   "cell_type": "code",
   "execution_count": 46,
   "id": "1f0b688f",
   "metadata": {},
   "outputs": [
    {
     "name": "stdout",
     "output_type": "stream",
     "text": [
      "122\n"
     ]
    },
    {
     "name": "stderr",
     "output_type": "stream",
     "text": [
      "C:\\Users\\karm_ch\\AppData\\Local\\Continuum\\anaconda3\\envs\\gdal_env\\lib\\site-packages\\sklearn\\cluster\\_kmeans.py:870: FutureWarning: The default value of `n_init` will change from 10 to 'auto' in 1.4. Set the value of `n_init` explicitly to suppress the warning\n",
      "  warnings.warn(\n",
      "C:\\Users\\karm_ch\\AppData\\Local\\Continuum\\anaconda3\\envs\\gdal_env\\lib\\site-packages\\sklearn\\cluster\\_kmeans.py:870: FutureWarning: The default value of `n_init` will change from 10 to 'auto' in 1.4. Set the value of `n_init` explicitly to suppress the warning\n",
      "  warnings.warn(\n",
      "C:\\Users\\karm_ch\\AppData\\Local\\Continuum\\anaconda3\\envs\\gdal_env\\lib\\site-packages\\sklearn\\cluster\\_kmeans.py:870: FutureWarning: The default value of `n_init` will change from 10 to 'auto' in 1.4. Set the value of `n_init` explicitly to suppress the warning\n",
      "  warnings.warn(\n",
      "C:\\Users\\karm_ch\\AppData\\Local\\Continuum\\anaconda3\\envs\\gdal_env\\lib\\site-packages\\sklearn\\cluster\\_kmeans.py:870: FutureWarning: The default value of `n_init` will change from 10 to 'auto' in 1.4. Set the value of `n_init` explicitly to suppress the warning\n",
      "  warnings.warn(\n",
      "C:\\Users\\karm_ch\\AppData\\Local\\Continuum\\anaconda3\\envs\\gdal_env\\lib\\site-packages\\sklearn\\cluster\\_kmeans.py:870: FutureWarning: The default value of `n_init` will change from 10 to 'auto' in 1.4. Set the value of `n_init` explicitly to suppress the warning\n",
      "  warnings.warn(\n",
      "C:\\Users\\karm_ch\\AppData\\Local\\Continuum\\anaconda3\\envs\\gdal_env\\lib\\site-packages\\sklearn\\cluster\\_kmeans.py:870: FutureWarning: The default value of `n_init` will change from 10 to 'auto' in 1.4. Set the value of `n_init` explicitly to suppress the warning\n",
      "  warnings.warn(\n",
      "C:\\Users\\karm_ch\\AppData\\Local\\Continuum\\anaconda3\\envs\\gdal_env\\lib\\site-packages\\sklearn\\cluster\\_kmeans.py:870: FutureWarning: The default value of `n_init` will change from 10 to 'auto' in 1.4. Set the value of `n_init` explicitly to suppress the warning\n",
      "  warnings.warn(\n",
      "C:\\Users\\karm_ch\\AppData\\Local\\Continuum\\anaconda3\\envs\\gdal_env\\lib\\site-packages\\sklearn\\cluster\\_kmeans.py:870: FutureWarning: The default value of `n_init` will change from 10 to 'auto' in 1.4. Set the value of `n_init` explicitly to suppress the warning\n",
      "  warnings.warn(\n",
      "C:\\Users\\karm_ch\\AppData\\Local\\Continuum\\anaconda3\\envs\\gdal_env\\lib\\site-packages\\sklearn\\cluster\\_kmeans.py:870: FutureWarning: The default value of `n_init` will change from 10 to 'auto' in 1.4. Set the value of `n_init` explicitly to suppress the warning\n",
      "  warnings.warn(\n",
      "C:\\Users\\karm_ch\\AppData\\Local\\Continuum\\anaconda3\\envs\\gdal_env\\lib\\site-packages\\sklearn\\cluster\\_kmeans.py:870: FutureWarning: The default value of `n_init` will change from 10 to 'auto' in 1.4. Set the value of `n_init` explicitly to suppress the warning\n",
      "  warnings.warn(\n",
      "C:\\Users\\karm_ch\\AppData\\Local\\Continuum\\anaconda3\\envs\\gdal_env\\lib\\site-packages\\sklearn\\cluster\\_kmeans.py:870: FutureWarning: The default value of `n_init` will change from 10 to 'auto' in 1.4. Set the value of `n_init` explicitly to suppress the warning\n",
      "  warnings.warn(\n",
      "C:\\Users\\karm_ch\\AppData\\Local\\Continuum\\anaconda3\\envs\\gdal_env\\lib\\site-packages\\sklearn\\cluster\\_kmeans.py:870: FutureWarning: The default value of `n_init` will change from 10 to 'auto' in 1.4. Set the value of `n_init` explicitly to suppress the warning\n",
      "  warnings.warn(\n",
      "C:\\Users\\karm_ch\\AppData\\Local\\Continuum\\anaconda3\\envs\\gdal_env\\lib\\site-packages\\sklearn\\cluster\\_kmeans.py:870: FutureWarning: The default value of `n_init` will change from 10 to 'auto' in 1.4. Set the value of `n_init` explicitly to suppress the warning\n",
      "  warnings.warn(\n",
      "C:\\Users\\karm_ch\\AppData\\Local\\Continuum\\anaconda3\\envs\\gdal_env\\lib\\site-packages\\sklearn\\cluster\\_kmeans.py:870: FutureWarning: The default value of `n_init` will change from 10 to 'auto' in 1.4. Set the value of `n_init` explicitly to suppress the warning\n",
      "  warnings.warn(\n",
      "C:\\Users\\karm_ch\\AppData\\Local\\Continuum\\anaconda3\\envs\\gdal_env\\lib\\site-packages\\sklearn\\cluster\\_kmeans.py:870: FutureWarning: The default value of `n_init` will change from 10 to 'auto' in 1.4. Set the value of `n_init` explicitly to suppress the warning\n",
      "  warnings.warn(\n",
      "C:\\Users\\karm_ch\\AppData\\Local\\Continuum\\anaconda3\\envs\\gdal_env\\lib\\site-packages\\sklearn\\cluster\\_kmeans.py:870: FutureWarning: The default value of `n_init` will change from 10 to 'auto' in 1.4. Set the value of `n_init` explicitly to suppress the warning\n",
      "  warnings.warn(\n",
      "C:\\Users\\karm_ch\\AppData\\Local\\Continuum\\anaconda3\\envs\\gdal_env\\lib\\site-packages\\sklearn\\cluster\\_kmeans.py:870: FutureWarning: The default value of `n_init` will change from 10 to 'auto' in 1.4. Set the value of `n_init` explicitly to suppress the warning\n",
      "  warnings.warn(\n",
      "C:\\Users\\karm_ch\\AppData\\Local\\Continuum\\anaconda3\\envs\\gdal_env\\lib\\site-packages\\sklearn\\cluster\\_kmeans.py:870: FutureWarning: The default value of `n_init` will change from 10 to 'auto' in 1.4. Set the value of `n_init` explicitly to suppress the warning\n",
      "  warnings.warn(\n",
      "C:\\Users\\karm_ch\\AppData\\Local\\Continuum\\anaconda3\\envs\\gdal_env\\lib\\site-packages\\sklearn\\cluster\\_kmeans.py:870: FutureWarning: The default value of `n_init` will change from 10 to 'auto' in 1.4. Set the value of `n_init` explicitly to suppress the warning\n",
      "  warnings.warn(\n",
      "C:\\Users\\karm_ch\\AppData\\Local\\Continuum\\anaconda3\\envs\\gdal_env\\lib\\site-packages\\sklearn\\cluster\\_kmeans.py:870: FutureWarning: The default value of `n_init` will change from 10 to 'auto' in 1.4. Set the value of `n_init` explicitly to suppress the warning\n",
      "  warnings.warn(\n",
      "C:\\Users\\karm_ch\\AppData\\Local\\Continuum\\anaconda3\\envs\\gdal_env\\lib\\site-packages\\sklearn\\cluster\\_kmeans.py:870: FutureWarning: The default value of `n_init` will change from 10 to 'auto' in 1.4. Set the value of `n_init` explicitly to suppress the warning\n",
      "  warnings.warn(\n",
      "C:\\Users\\karm_ch\\AppData\\Local\\Continuum\\anaconda3\\envs\\gdal_env\\lib\\site-packages\\sklearn\\cluster\\_kmeans.py:870: FutureWarning: The default value of `n_init` will change from 10 to 'auto' in 1.4. Set the value of `n_init` explicitly to suppress the warning\n",
      "  warnings.warn(\n",
      "C:\\Users\\karm_ch\\AppData\\Local\\Continuum\\anaconda3\\envs\\gdal_env\\lib\\site-packages\\sklearn\\cluster\\_kmeans.py:870: FutureWarning: The default value of `n_init` will change from 10 to 'auto' in 1.4. Set the value of `n_init` explicitly to suppress the warning\n",
      "  warnings.warn(\n",
      "C:\\Users\\karm_ch\\AppData\\Local\\Continuum\\anaconda3\\envs\\gdal_env\\lib\\site-packages\\sklearn\\cluster\\_kmeans.py:870: FutureWarning: The default value of `n_init` will change from 10 to 'auto' in 1.4. Set the value of `n_init` explicitly to suppress the warning\n",
      "  warnings.warn(\n",
      "C:\\Users\\karm_ch\\AppData\\Local\\Continuum\\anaconda3\\envs\\gdal_env\\lib\\site-packages\\sklearn\\cluster\\_kmeans.py:870: FutureWarning: The default value of `n_init` will change from 10 to 'auto' in 1.4. Set the value of `n_init` explicitly to suppress the warning\n",
      "  warnings.warn(\n",
      "C:\\Users\\karm_ch\\AppData\\Local\\Continuum\\anaconda3\\envs\\gdal_env\\lib\\site-packages\\sklearn\\cluster\\_kmeans.py:870: FutureWarning: The default value of `n_init` will change from 10 to 'auto' in 1.4. Set the value of `n_init` explicitly to suppress the warning\n",
      "  warnings.warn(\n",
      "C:\\Users\\karm_ch\\AppData\\Local\\Continuum\\anaconda3\\envs\\gdal_env\\lib\\site-packages\\sklearn\\cluster\\_kmeans.py:870: FutureWarning: The default value of `n_init` will change from 10 to 'auto' in 1.4. Set the value of `n_init` explicitly to suppress the warning\n",
      "  warnings.warn(\n",
      "C:\\Users\\karm_ch\\AppData\\Local\\Continuum\\anaconda3\\envs\\gdal_env\\lib\\site-packages\\sklearn\\cluster\\_kmeans.py:870: FutureWarning: The default value of `n_init` will change from 10 to 'auto' in 1.4. Set the value of `n_init` explicitly to suppress the warning\n",
      "  warnings.warn(\n",
      "C:\\Users\\karm_ch\\AppData\\Local\\Continuum\\anaconda3\\envs\\gdal_env\\lib\\site-packages\\sklearn\\cluster\\_kmeans.py:870: FutureWarning: The default value of `n_init` will change from 10 to 'auto' in 1.4. Set the value of `n_init` explicitly to suppress the warning\n",
      "  warnings.warn(\n",
      "C:\\Users\\karm_ch\\AppData\\Local\\Continuum\\anaconda3\\envs\\gdal_env\\lib\\site-packages\\sklearn\\cluster\\_kmeans.py:870: FutureWarning: The default value of `n_init` will change from 10 to 'auto' in 1.4. Set the value of `n_init` explicitly to suppress the warning\n",
      "  warnings.warn(\n"
     ]
    },
    {
     "name": "stderr",
     "output_type": "stream",
     "text": [
      "C:\\Users\\karm_ch\\AppData\\Local\\Continuum\\anaconda3\\envs\\gdal_env\\lib\\site-packages\\sklearn\\cluster\\_kmeans.py:870: FutureWarning: The default value of `n_init` will change from 10 to 'auto' in 1.4. Set the value of `n_init` explicitly to suppress the warning\n",
      "  warnings.warn(\n",
      "C:\\Users\\karm_ch\\AppData\\Local\\Continuum\\anaconda3\\envs\\gdal_env\\lib\\site-packages\\sklearn\\cluster\\_kmeans.py:870: FutureWarning: The default value of `n_init` will change from 10 to 'auto' in 1.4. Set the value of `n_init` explicitly to suppress the warning\n",
      "  warnings.warn(\n",
      "C:\\Users\\karm_ch\\AppData\\Local\\Continuum\\anaconda3\\envs\\gdal_env\\lib\\site-packages\\sklearn\\cluster\\_kmeans.py:870: FutureWarning: The default value of `n_init` will change from 10 to 'auto' in 1.4. Set the value of `n_init` explicitly to suppress the warning\n",
      "  warnings.warn(\n",
      "C:\\Users\\karm_ch\\AppData\\Local\\Continuum\\anaconda3\\envs\\gdal_env\\lib\\site-packages\\sklearn\\cluster\\_kmeans.py:870: FutureWarning: The default value of `n_init` will change from 10 to 'auto' in 1.4. Set the value of `n_init` explicitly to suppress the warning\n",
      "  warnings.warn(\n",
      "C:\\Users\\karm_ch\\AppData\\Local\\Continuum\\anaconda3\\envs\\gdal_env\\lib\\site-packages\\sklearn\\cluster\\_kmeans.py:870: FutureWarning: The default value of `n_init` will change from 10 to 'auto' in 1.4. Set the value of `n_init` explicitly to suppress the warning\n",
      "  warnings.warn(\n",
      "C:\\Users\\karm_ch\\AppData\\Local\\Continuum\\anaconda3\\envs\\gdal_env\\lib\\site-packages\\sklearn\\cluster\\_kmeans.py:870: FutureWarning: The default value of `n_init` will change from 10 to 'auto' in 1.4. Set the value of `n_init` explicitly to suppress the warning\n",
      "  warnings.warn(\n",
      "C:\\Users\\karm_ch\\AppData\\Local\\Continuum\\anaconda3\\envs\\gdal_env\\lib\\site-packages\\sklearn\\cluster\\_kmeans.py:870: FutureWarning: The default value of `n_init` will change from 10 to 'auto' in 1.4. Set the value of `n_init` explicitly to suppress the warning\n",
      "  warnings.warn(\n",
      "C:\\Users\\karm_ch\\AppData\\Local\\Continuum\\anaconda3\\envs\\gdal_env\\lib\\site-packages\\sklearn\\cluster\\_kmeans.py:870: FutureWarning: The default value of `n_init` will change from 10 to 'auto' in 1.4. Set the value of `n_init` explicitly to suppress the warning\n",
      "  warnings.warn(\n",
      "C:\\Users\\karm_ch\\AppData\\Local\\Continuum\\anaconda3\\envs\\gdal_env\\lib\\site-packages\\sklearn\\cluster\\_kmeans.py:870: FutureWarning: The default value of `n_init` will change from 10 to 'auto' in 1.4. Set the value of `n_init` explicitly to suppress the warning\n",
      "  warnings.warn(\n",
      "C:\\Users\\karm_ch\\AppData\\Local\\Continuum\\anaconda3\\envs\\gdal_env\\lib\\site-packages\\sklearn\\cluster\\_kmeans.py:870: FutureWarning: The default value of `n_init` will change from 10 to 'auto' in 1.4. Set the value of `n_init` explicitly to suppress the warning\n",
      "  warnings.warn(\n",
      "C:\\Users\\karm_ch\\AppData\\Local\\Continuum\\anaconda3\\envs\\gdal_env\\lib\\site-packages\\sklearn\\cluster\\_kmeans.py:870: FutureWarning: The default value of `n_init` will change from 10 to 'auto' in 1.4. Set the value of `n_init` explicitly to suppress the warning\n",
      "  warnings.warn(\n",
      "C:\\Users\\karm_ch\\AppData\\Local\\Continuum\\anaconda3\\envs\\gdal_env\\lib\\site-packages\\sklearn\\cluster\\_kmeans.py:870: FutureWarning: The default value of `n_init` will change from 10 to 'auto' in 1.4. Set the value of `n_init` explicitly to suppress the warning\n",
      "  warnings.warn(\n",
      "C:\\Users\\karm_ch\\AppData\\Local\\Continuum\\anaconda3\\envs\\gdal_env\\lib\\site-packages\\sklearn\\cluster\\_kmeans.py:870: FutureWarning: The default value of `n_init` will change from 10 to 'auto' in 1.4. Set the value of `n_init` explicitly to suppress the warning\n",
      "  warnings.warn(\n",
      "C:\\Users\\karm_ch\\AppData\\Local\\Continuum\\anaconda3\\envs\\gdal_env\\lib\\site-packages\\sklearn\\cluster\\_kmeans.py:870: FutureWarning: The default value of `n_init` will change from 10 to 'auto' in 1.4. Set the value of `n_init` explicitly to suppress the warning\n",
      "  warnings.warn(\n",
      "C:\\Users\\karm_ch\\AppData\\Local\\Continuum\\anaconda3\\envs\\gdal_env\\lib\\site-packages\\sklearn\\cluster\\_kmeans.py:870: FutureWarning: The default value of `n_init` will change from 10 to 'auto' in 1.4. Set the value of `n_init` explicitly to suppress the warning\n",
      "  warnings.warn(\n",
      "C:\\Users\\karm_ch\\AppData\\Local\\Continuum\\anaconda3\\envs\\gdal_env\\lib\\site-packages\\sklearn\\cluster\\_kmeans.py:870: FutureWarning: The default value of `n_init` will change from 10 to 'auto' in 1.4. Set the value of `n_init` explicitly to suppress the warning\n",
      "  warnings.warn(\n",
      "C:\\Users\\karm_ch\\AppData\\Local\\Continuum\\anaconda3\\envs\\gdal_env\\lib\\site-packages\\sklearn\\cluster\\_kmeans.py:870: FutureWarning: The default value of `n_init` will change from 10 to 'auto' in 1.4. Set the value of `n_init` explicitly to suppress the warning\n",
      "  warnings.warn(\n",
      "C:\\Users\\karm_ch\\AppData\\Local\\Continuum\\anaconda3\\envs\\gdal_env\\lib\\site-packages\\sklearn\\cluster\\_kmeans.py:870: FutureWarning: The default value of `n_init` will change from 10 to 'auto' in 1.4. Set the value of `n_init` explicitly to suppress the warning\n",
      "  warnings.warn(\n",
      "C:\\Users\\karm_ch\\AppData\\Local\\Continuum\\anaconda3\\envs\\gdal_env\\lib\\site-packages\\sklearn\\cluster\\_kmeans.py:870: FutureWarning: The default value of `n_init` will change from 10 to 'auto' in 1.4. Set the value of `n_init` explicitly to suppress the warning\n",
      "  warnings.warn(\n",
      "C:\\Users\\karm_ch\\AppData\\Local\\Continuum\\anaconda3\\envs\\gdal_env\\lib\\site-packages\\sklearn\\cluster\\_kmeans.py:870: FutureWarning: The default value of `n_init` will change from 10 to 'auto' in 1.4. Set the value of `n_init` explicitly to suppress the warning\n",
      "  warnings.warn(\n",
      "C:\\Users\\karm_ch\\AppData\\Local\\Continuum\\anaconda3\\envs\\gdal_env\\lib\\site-packages\\sklearn\\cluster\\_kmeans.py:870: FutureWarning: The default value of `n_init` will change from 10 to 'auto' in 1.4. Set the value of `n_init` explicitly to suppress the warning\n",
      "  warnings.warn(\n",
      "C:\\Users\\karm_ch\\AppData\\Local\\Continuum\\anaconda3\\envs\\gdal_env\\lib\\site-packages\\sklearn\\cluster\\_kmeans.py:870: FutureWarning: The default value of `n_init` will change from 10 to 'auto' in 1.4. Set the value of `n_init` explicitly to suppress the warning\n",
      "  warnings.warn(\n",
      "C:\\Users\\karm_ch\\AppData\\Local\\Continuum\\anaconda3\\envs\\gdal_env\\lib\\site-packages\\sklearn\\cluster\\_kmeans.py:870: FutureWarning: The default value of `n_init` will change from 10 to 'auto' in 1.4. Set the value of `n_init` explicitly to suppress the warning\n",
      "  warnings.warn(\n",
      "C:\\Users\\karm_ch\\AppData\\Local\\Continuum\\anaconda3\\envs\\gdal_env\\lib\\site-packages\\sklearn\\cluster\\_kmeans.py:870: FutureWarning: The default value of `n_init` will change from 10 to 'auto' in 1.4. Set the value of `n_init` explicitly to suppress the warning\n",
      "  warnings.warn(\n",
      "C:\\Users\\karm_ch\\AppData\\Local\\Continuum\\anaconda3\\envs\\gdal_env\\lib\\site-packages\\sklearn\\cluster\\_kmeans.py:870: FutureWarning: The default value of `n_init` will change from 10 to 'auto' in 1.4. Set the value of `n_init` explicitly to suppress the warning\n",
      "  warnings.warn(\n",
      "C:\\Users\\karm_ch\\AppData\\Local\\Continuum\\anaconda3\\envs\\gdal_env\\lib\\site-packages\\sklearn\\cluster\\_kmeans.py:870: FutureWarning: The default value of `n_init` will change from 10 to 'auto' in 1.4. Set the value of `n_init` explicitly to suppress the warning\n",
      "  warnings.warn(\n",
      "C:\\Users\\karm_ch\\AppData\\Local\\Continuum\\anaconda3\\envs\\gdal_env\\lib\\site-packages\\sklearn\\cluster\\_kmeans.py:870: FutureWarning: The default value of `n_init` will change from 10 to 'auto' in 1.4. Set the value of `n_init` explicitly to suppress the warning\n",
      "  warnings.warn(\n",
      "C:\\Users\\karm_ch\\AppData\\Local\\Continuum\\anaconda3\\envs\\gdal_env\\lib\\site-packages\\sklearn\\cluster\\_kmeans.py:870: FutureWarning: The default value of `n_init` will change from 10 to 'auto' in 1.4. Set the value of `n_init` explicitly to suppress the warning\n",
      "  warnings.warn(\n",
      "C:\\Users\\karm_ch\\AppData\\Local\\Continuum\\anaconda3\\envs\\gdal_env\\lib\\site-packages\\sklearn\\cluster\\_kmeans.py:870: FutureWarning: The default value of `n_init` will change from 10 to 'auto' in 1.4. Set the value of `n_init` explicitly to suppress the warning\n",
      "  warnings.warn(\n",
      "C:\\Users\\karm_ch\\AppData\\Local\\Continuum\\anaconda3\\envs\\gdal_env\\lib\\site-packages\\sklearn\\cluster\\_kmeans.py:870: FutureWarning: The default value of `n_init` will change from 10 to 'auto' in 1.4. Set the value of `n_init` explicitly to suppress the warning\n",
      "  warnings.warn(\n"
     ]
    },
    {
     "name": "stderr",
     "output_type": "stream",
     "text": [
      "C:\\Users\\karm_ch\\AppData\\Local\\Continuum\\anaconda3\\envs\\gdal_env\\lib\\site-packages\\sklearn\\cluster\\_kmeans.py:870: FutureWarning: The default value of `n_init` will change from 10 to 'auto' in 1.4. Set the value of `n_init` explicitly to suppress the warning\n",
      "  warnings.warn(\n",
      "C:\\Users\\karm_ch\\AppData\\Local\\Continuum\\anaconda3\\envs\\gdal_env\\lib\\site-packages\\sklearn\\cluster\\_kmeans.py:870: FutureWarning: The default value of `n_init` will change from 10 to 'auto' in 1.4. Set the value of `n_init` explicitly to suppress the warning\n",
      "  warnings.warn(\n",
      "C:\\Users\\karm_ch\\AppData\\Local\\Continuum\\anaconda3\\envs\\gdal_env\\lib\\site-packages\\sklearn\\cluster\\_kmeans.py:870: FutureWarning: The default value of `n_init` will change from 10 to 'auto' in 1.4. Set the value of `n_init` explicitly to suppress the warning\n",
      "  warnings.warn(\n",
      "C:\\Users\\karm_ch\\AppData\\Local\\Continuum\\anaconda3\\envs\\gdal_env\\lib\\site-packages\\sklearn\\cluster\\_kmeans.py:870: FutureWarning: The default value of `n_init` will change from 10 to 'auto' in 1.4. Set the value of `n_init` explicitly to suppress the warning\n",
      "  warnings.warn(\n",
      "C:\\Users\\karm_ch\\AppData\\Local\\Continuum\\anaconda3\\envs\\gdal_env\\lib\\site-packages\\sklearn\\cluster\\_kmeans.py:870: FutureWarning: The default value of `n_init` will change from 10 to 'auto' in 1.4. Set the value of `n_init` explicitly to suppress the warning\n",
      "  warnings.warn(\n",
      "C:\\Users\\karm_ch\\AppData\\Local\\Continuum\\anaconda3\\envs\\gdal_env\\lib\\site-packages\\sklearn\\cluster\\_kmeans.py:870: FutureWarning: The default value of `n_init` will change from 10 to 'auto' in 1.4. Set the value of `n_init` explicitly to suppress the warning\n",
      "  warnings.warn(\n",
      "C:\\Users\\karm_ch\\AppData\\Local\\Continuum\\anaconda3\\envs\\gdal_env\\lib\\site-packages\\sklearn\\cluster\\_kmeans.py:870: FutureWarning: The default value of `n_init` will change from 10 to 'auto' in 1.4. Set the value of `n_init` explicitly to suppress the warning\n",
      "  warnings.warn(\n",
      "C:\\Users\\karm_ch\\AppData\\Local\\Continuum\\anaconda3\\envs\\gdal_env\\lib\\site-packages\\sklearn\\cluster\\_kmeans.py:870: FutureWarning: The default value of `n_init` will change from 10 to 'auto' in 1.4. Set the value of `n_init` explicitly to suppress the warning\n",
      "  warnings.warn(\n",
      "C:\\Users\\karm_ch\\AppData\\Local\\Continuum\\anaconda3\\envs\\gdal_env\\lib\\site-packages\\sklearn\\cluster\\_kmeans.py:870: FutureWarning: The default value of `n_init` will change from 10 to 'auto' in 1.4. Set the value of `n_init` explicitly to suppress the warning\n",
      "  warnings.warn(\n",
      "C:\\Users\\karm_ch\\AppData\\Local\\Continuum\\anaconda3\\envs\\gdal_env\\lib\\site-packages\\sklearn\\cluster\\_kmeans.py:870: FutureWarning: The default value of `n_init` will change from 10 to 'auto' in 1.4. Set the value of `n_init` explicitly to suppress the warning\n",
      "  warnings.warn(\n",
      "C:\\Users\\karm_ch\\AppData\\Local\\Continuum\\anaconda3\\envs\\gdal_env\\lib\\site-packages\\sklearn\\cluster\\_kmeans.py:870: FutureWarning: The default value of `n_init` will change from 10 to 'auto' in 1.4. Set the value of `n_init` explicitly to suppress the warning\n",
      "  warnings.warn(\n",
      "C:\\Users\\karm_ch\\AppData\\Local\\Continuum\\anaconda3\\envs\\gdal_env\\lib\\site-packages\\sklearn\\cluster\\_kmeans.py:870: FutureWarning: The default value of `n_init` will change from 10 to 'auto' in 1.4. Set the value of `n_init` explicitly to suppress the warning\n",
      "  warnings.warn(\n",
      "C:\\Users\\karm_ch\\AppData\\Local\\Continuum\\anaconda3\\envs\\gdal_env\\lib\\site-packages\\sklearn\\cluster\\_kmeans.py:870: FutureWarning: The default value of `n_init` will change from 10 to 'auto' in 1.4. Set the value of `n_init` explicitly to suppress the warning\n",
      "  warnings.warn(\n",
      "C:\\Users\\karm_ch\\AppData\\Local\\Continuum\\anaconda3\\envs\\gdal_env\\lib\\site-packages\\sklearn\\cluster\\_kmeans.py:870: FutureWarning: The default value of `n_init` will change from 10 to 'auto' in 1.4. Set the value of `n_init` explicitly to suppress the warning\n",
      "  warnings.warn(\n",
      "C:\\Users\\karm_ch\\AppData\\Local\\Continuum\\anaconda3\\envs\\gdal_env\\lib\\site-packages\\sklearn\\cluster\\_kmeans.py:870: FutureWarning: The default value of `n_init` will change from 10 to 'auto' in 1.4. Set the value of `n_init` explicitly to suppress the warning\n",
      "  warnings.warn(\n",
      "C:\\Users\\karm_ch\\AppData\\Local\\Continuum\\anaconda3\\envs\\gdal_env\\lib\\site-packages\\sklearn\\cluster\\_kmeans.py:870: FutureWarning: The default value of `n_init` will change from 10 to 'auto' in 1.4. Set the value of `n_init` explicitly to suppress the warning\n",
      "  warnings.warn(\n",
      "C:\\Users\\karm_ch\\AppData\\Local\\Continuum\\anaconda3\\envs\\gdal_env\\lib\\site-packages\\sklearn\\cluster\\_kmeans.py:870: FutureWarning: The default value of `n_init` will change from 10 to 'auto' in 1.4. Set the value of `n_init` explicitly to suppress the warning\n",
      "  warnings.warn(\n",
      "C:\\Users\\karm_ch\\AppData\\Local\\Continuum\\anaconda3\\envs\\gdal_env\\lib\\site-packages\\sklearn\\cluster\\_kmeans.py:870: FutureWarning: The default value of `n_init` will change from 10 to 'auto' in 1.4. Set the value of `n_init` explicitly to suppress the warning\n",
      "  warnings.warn(\n",
      "C:\\Users\\karm_ch\\AppData\\Local\\Continuum\\anaconda3\\envs\\gdal_env\\lib\\site-packages\\sklearn\\cluster\\_kmeans.py:870: FutureWarning: The default value of `n_init` will change from 10 to 'auto' in 1.4. Set the value of `n_init` explicitly to suppress the warning\n",
      "  warnings.warn(\n",
      "C:\\Users\\karm_ch\\AppData\\Local\\Continuum\\anaconda3\\envs\\gdal_env\\lib\\site-packages\\sklearn\\cluster\\_kmeans.py:870: FutureWarning: The default value of `n_init` will change from 10 to 'auto' in 1.4. Set the value of `n_init` explicitly to suppress the warning\n",
      "  warnings.warn(\n",
      "C:\\Users\\karm_ch\\AppData\\Local\\Continuum\\anaconda3\\envs\\gdal_env\\lib\\site-packages\\sklearn\\cluster\\_kmeans.py:870: FutureWarning: The default value of `n_init` will change from 10 to 'auto' in 1.4. Set the value of `n_init` explicitly to suppress the warning\n",
      "  warnings.warn(\n",
      "C:\\Users\\karm_ch\\AppData\\Local\\Continuum\\anaconda3\\envs\\gdal_env\\lib\\site-packages\\sklearn\\cluster\\_kmeans.py:870: FutureWarning: The default value of `n_init` will change from 10 to 'auto' in 1.4. Set the value of `n_init` explicitly to suppress the warning\n",
      "  warnings.warn(\n",
      "C:\\Users\\karm_ch\\AppData\\Local\\Continuum\\anaconda3\\envs\\gdal_env\\lib\\site-packages\\sklearn\\cluster\\_kmeans.py:870: FutureWarning: The default value of `n_init` will change from 10 to 'auto' in 1.4. Set the value of `n_init` explicitly to suppress the warning\n",
      "  warnings.warn(\n",
      "C:\\Users\\karm_ch\\AppData\\Local\\Continuum\\anaconda3\\envs\\gdal_env\\lib\\site-packages\\sklearn\\cluster\\_kmeans.py:870: FutureWarning: The default value of `n_init` will change from 10 to 'auto' in 1.4. Set the value of `n_init` explicitly to suppress the warning\n",
      "  warnings.warn(\n",
      "C:\\Users\\karm_ch\\AppData\\Local\\Continuum\\anaconda3\\envs\\gdal_env\\lib\\site-packages\\sklearn\\cluster\\_kmeans.py:870: FutureWarning: The default value of `n_init` will change from 10 to 'auto' in 1.4. Set the value of `n_init` explicitly to suppress the warning\n",
      "  warnings.warn(\n",
      "C:\\Users\\karm_ch\\AppData\\Local\\Continuum\\anaconda3\\envs\\gdal_env\\lib\\site-packages\\sklearn\\cluster\\_kmeans.py:870: FutureWarning: The default value of `n_init` will change from 10 to 'auto' in 1.4. Set the value of `n_init` explicitly to suppress the warning\n",
      "  warnings.warn(\n",
      "C:\\Users\\karm_ch\\AppData\\Local\\Continuum\\anaconda3\\envs\\gdal_env\\lib\\site-packages\\sklearn\\cluster\\_kmeans.py:870: FutureWarning: The default value of `n_init` will change from 10 to 'auto' in 1.4. Set the value of `n_init` explicitly to suppress the warning\n",
      "  warnings.warn(\n",
      "C:\\Users\\karm_ch\\AppData\\Local\\Continuum\\anaconda3\\envs\\gdal_env\\lib\\site-packages\\sklearn\\cluster\\_kmeans.py:870: FutureWarning: The default value of `n_init` will change from 10 to 'auto' in 1.4. Set the value of `n_init` explicitly to suppress the warning\n",
      "  warnings.warn(\n",
      "C:\\Users\\karm_ch\\AppData\\Local\\Continuum\\anaconda3\\envs\\gdal_env\\lib\\site-packages\\sklearn\\cluster\\_kmeans.py:870: FutureWarning: The default value of `n_init` will change from 10 to 'auto' in 1.4. Set the value of `n_init` explicitly to suppress the warning\n",
      "  warnings.warn(\n",
      "C:\\Users\\karm_ch\\AppData\\Local\\Continuum\\anaconda3\\envs\\gdal_env\\lib\\site-packages\\sklearn\\cluster\\_kmeans.py:870: FutureWarning: The default value of `n_init` will change from 10 to 'auto' in 1.4. Set the value of `n_init` explicitly to suppress the warning\n",
      "  warnings.warn(\n"
     ]
    },
    {
     "name": "stderr",
     "output_type": "stream",
     "text": [
      "C:\\Users\\karm_ch\\AppData\\Local\\Continuum\\anaconda3\\envs\\gdal_env\\lib\\site-packages\\sklearn\\cluster\\_kmeans.py:870: FutureWarning: The default value of `n_init` will change from 10 to 'auto' in 1.4. Set the value of `n_init` explicitly to suppress the warning\n",
      "  warnings.warn(\n",
      "C:\\Users\\karm_ch\\AppData\\Local\\Continuum\\anaconda3\\envs\\gdal_env\\lib\\site-packages\\sklearn\\cluster\\_kmeans.py:870: FutureWarning: The default value of `n_init` will change from 10 to 'auto' in 1.4. Set the value of `n_init` explicitly to suppress the warning\n",
      "  warnings.warn(\n",
      "C:\\Users\\karm_ch\\AppData\\Local\\Continuum\\anaconda3\\envs\\gdal_env\\lib\\site-packages\\sklearn\\cluster\\_kmeans.py:870: FutureWarning: The default value of `n_init` will change from 10 to 'auto' in 1.4. Set the value of `n_init` explicitly to suppress the warning\n",
      "  warnings.warn(\n",
      "C:\\Users\\karm_ch\\AppData\\Local\\Continuum\\anaconda3\\envs\\gdal_env\\lib\\site-packages\\sklearn\\cluster\\_kmeans.py:870: FutureWarning: The default value of `n_init` will change from 10 to 'auto' in 1.4. Set the value of `n_init` explicitly to suppress the warning\n",
      "  warnings.warn(\n",
      "C:\\Users\\karm_ch\\AppData\\Local\\Continuum\\anaconda3\\envs\\gdal_env\\lib\\site-packages\\sklearn\\cluster\\_kmeans.py:870: FutureWarning: The default value of `n_init` will change from 10 to 'auto' in 1.4. Set the value of `n_init` explicitly to suppress the warning\n",
      "  warnings.warn(\n",
      "C:\\Users\\karm_ch\\AppData\\Local\\Continuum\\anaconda3\\envs\\gdal_env\\lib\\site-packages\\sklearn\\cluster\\_kmeans.py:870: FutureWarning: The default value of `n_init` will change from 10 to 'auto' in 1.4. Set the value of `n_init` explicitly to suppress the warning\n",
      "  warnings.warn(\n",
      "C:\\Users\\karm_ch\\AppData\\Local\\Continuum\\anaconda3\\envs\\gdal_env\\lib\\site-packages\\sklearn\\cluster\\_kmeans.py:870: FutureWarning: The default value of `n_init` will change from 10 to 'auto' in 1.4. Set the value of `n_init` explicitly to suppress the warning\n",
      "  warnings.warn(\n",
      "C:\\Users\\karm_ch\\AppData\\Local\\Continuum\\anaconda3\\envs\\gdal_env\\lib\\site-packages\\sklearn\\cluster\\_kmeans.py:870: FutureWarning: The default value of `n_init` will change from 10 to 'auto' in 1.4. Set the value of `n_init` explicitly to suppress the warning\n",
      "  warnings.warn(\n",
      "C:\\Users\\karm_ch\\AppData\\Local\\Continuum\\anaconda3\\envs\\gdal_env\\lib\\site-packages\\sklearn\\cluster\\_kmeans.py:870: FutureWarning: The default value of `n_init` will change from 10 to 'auto' in 1.4. Set the value of `n_init` explicitly to suppress the warning\n",
      "  warnings.warn(\n",
      "C:\\Users\\karm_ch\\AppData\\Local\\Continuum\\anaconda3\\envs\\gdal_env\\lib\\site-packages\\sklearn\\cluster\\_kmeans.py:870: FutureWarning: The default value of `n_init` will change from 10 to 'auto' in 1.4. Set the value of `n_init` explicitly to suppress the warning\n",
      "  warnings.warn(\n",
      "C:\\Users\\karm_ch\\AppData\\Local\\Continuum\\anaconda3\\envs\\gdal_env\\lib\\site-packages\\sklearn\\cluster\\_kmeans.py:870: FutureWarning: The default value of `n_init` will change from 10 to 'auto' in 1.4. Set the value of `n_init` explicitly to suppress the warning\n",
      "  warnings.warn(\n",
      "C:\\Users\\karm_ch\\AppData\\Local\\Continuum\\anaconda3\\envs\\gdal_env\\lib\\site-packages\\sklearn\\cluster\\_kmeans.py:870: FutureWarning: The default value of `n_init` will change from 10 to 'auto' in 1.4. Set the value of `n_init` explicitly to suppress the warning\n",
      "  warnings.warn(\n",
      "C:\\Users\\karm_ch\\AppData\\Local\\Continuum\\anaconda3\\envs\\gdal_env\\lib\\site-packages\\sklearn\\cluster\\_kmeans.py:870: FutureWarning: The default value of `n_init` will change from 10 to 'auto' in 1.4. Set the value of `n_init` explicitly to suppress the warning\n",
      "  warnings.warn(\n",
      "C:\\Users\\karm_ch\\AppData\\Local\\Continuum\\anaconda3\\envs\\gdal_env\\lib\\site-packages\\sklearn\\cluster\\_kmeans.py:870: FutureWarning: The default value of `n_init` will change from 10 to 'auto' in 1.4. Set the value of `n_init` explicitly to suppress the warning\n",
      "  warnings.warn(\n",
      "C:\\Users\\karm_ch\\AppData\\Local\\Continuum\\anaconda3\\envs\\gdal_env\\lib\\site-packages\\sklearn\\cluster\\_kmeans.py:870: FutureWarning: The default value of `n_init` will change from 10 to 'auto' in 1.4. Set the value of `n_init` explicitly to suppress the warning\n",
      "  warnings.warn(\n",
      "C:\\Users\\karm_ch\\AppData\\Local\\Continuum\\anaconda3\\envs\\gdal_env\\lib\\site-packages\\sklearn\\cluster\\_kmeans.py:870: FutureWarning: The default value of `n_init` will change from 10 to 'auto' in 1.4. Set the value of `n_init` explicitly to suppress the warning\n",
      "  warnings.warn(\n",
      "C:\\Users\\karm_ch\\AppData\\Local\\Continuum\\anaconda3\\envs\\gdal_env\\lib\\site-packages\\sklearn\\cluster\\_kmeans.py:870: FutureWarning: The default value of `n_init` will change from 10 to 'auto' in 1.4. Set the value of `n_init` explicitly to suppress the warning\n",
      "  warnings.warn(\n",
      "C:\\Users\\karm_ch\\AppData\\Local\\Continuum\\anaconda3\\envs\\gdal_env\\lib\\site-packages\\sklearn\\cluster\\_kmeans.py:870: FutureWarning: The default value of `n_init` will change from 10 to 'auto' in 1.4. Set the value of `n_init` explicitly to suppress the warning\n",
      "  warnings.warn(\n",
      "C:\\Users\\karm_ch\\AppData\\Local\\Continuum\\anaconda3\\envs\\gdal_env\\lib\\site-packages\\sklearn\\cluster\\_kmeans.py:870: FutureWarning: The default value of `n_init` will change from 10 to 'auto' in 1.4. Set the value of `n_init` explicitly to suppress the warning\n",
      "  warnings.warn(\n",
      "C:\\Users\\karm_ch\\AppData\\Local\\Continuum\\anaconda3\\envs\\gdal_env\\lib\\site-packages\\sklearn\\cluster\\_kmeans.py:870: FutureWarning: The default value of `n_init` will change from 10 to 'auto' in 1.4. Set the value of `n_init` explicitly to suppress the warning\n",
      "  warnings.warn(\n",
      "C:\\Users\\karm_ch\\AppData\\Local\\Continuum\\anaconda3\\envs\\gdal_env\\lib\\site-packages\\sklearn\\cluster\\_kmeans.py:870: FutureWarning: The default value of `n_init` will change from 10 to 'auto' in 1.4. Set the value of `n_init` explicitly to suppress the warning\n",
      "  warnings.warn(\n",
      "C:\\Users\\karm_ch\\AppData\\Local\\Continuum\\anaconda3\\envs\\gdal_env\\lib\\site-packages\\sklearn\\cluster\\_kmeans.py:870: FutureWarning: The default value of `n_init` will change from 10 to 'auto' in 1.4. Set the value of `n_init` explicitly to suppress the warning\n",
      "  warnings.warn(\n",
      "C:\\Users\\karm_ch\\AppData\\Local\\Continuum\\anaconda3\\envs\\gdal_env\\lib\\site-packages\\sklearn\\cluster\\_kmeans.py:870: FutureWarning: The default value of `n_init` will change from 10 to 'auto' in 1.4. Set the value of `n_init` explicitly to suppress the warning\n",
      "  warnings.warn(\n",
      "C:\\Users\\karm_ch\\AppData\\Local\\Continuum\\anaconda3\\envs\\gdal_env\\lib\\site-packages\\sklearn\\cluster\\_kmeans.py:870: FutureWarning: The default value of `n_init` will change from 10 to 'auto' in 1.4. Set the value of `n_init` explicitly to suppress the warning\n",
      "  warnings.warn(\n",
      "C:\\Users\\karm_ch\\AppData\\Local\\Continuum\\anaconda3\\envs\\gdal_env\\lib\\site-packages\\sklearn\\cluster\\_kmeans.py:870: FutureWarning: The default value of `n_init` will change from 10 to 'auto' in 1.4. Set the value of `n_init` explicitly to suppress the warning\n",
      "  warnings.warn(\n",
      "C:\\Users\\karm_ch\\AppData\\Local\\Continuum\\anaconda3\\envs\\gdal_env\\lib\\site-packages\\sklearn\\cluster\\_kmeans.py:870: FutureWarning: The default value of `n_init` will change from 10 to 'auto' in 1.4. Set the value of `n_init` explicitly to suppress the warning\n",
      "  warnings.warn(\n",
      "C:\\Users\\karm_ch\\AppData\\Local\\Continuum\\anaconda3\\envs\\gdal_env\\lib\\site-packages\\sklearn\\cluster\\_kmeans.py:870: FutureWarning: The default value of `n_init` will change from 10 to 'auto' in 1.4. Set the value of `n_init` explicitly to suppress the warning\n",
      "  warnings.warn(\n",
      "C:\\Users\\karm_ch\\AppData\\Local\\Continuum\\anaconda3\\envs\\gdal_env\\lib\\site-packages\\sklearn\\cluster\\_kmeans.py:870: FutureWarning: The default value of `n_init` will change from 10 to 'auto' in 1.4. Set the value of `n_init` explicitly to suppress the warning\n",
      "  warnings.warn(\n",
      "C:\\Users\\karm_ch\\AppData\\Local\\Continuum\\anaconda3\\envs\\gdal_env\\lib\\site-packages\\sklearn\\cluster\\_kmeans.py:870: FutureWarning: The default value of `n_init` will change from 10 to 'auto' in 1.4. Set the value of `n_init` explicitly to suppress the warning\n",
      "  warnings.warn(\n",
      "C:\\Users\\karm_ch\\AppData\\Local\\Continuum\\anaconda3\\envs\\gdal_env\\lib\\site-packages\\sklearn\\cluster\\_kmeans.py:870: FutureWarning: The default value of `n_init` will change from 10 to 'auto' in 1.4. Set the value of `n_init` explicitly to suppress the warning\n",
      "  warnings.warn(\n"
     ]
    },
    {
     "name": "stderr",
     "output_type": "stream",
     "text": [
      "C:\\Users\\karm_ch\\AppData\\Local\\Continuum\\anaconda3\\envs\\gdal_env\\lib\\site-packages\\sklearn\\cluster\\_kmeans.py:870: FutureWarning: The default value of `n_init` will change from 10 to 'auto' in 1.4. Set the value of `n_init` explicitly to suppress the warning\n",
      "  warnings.warn(\n"
     ]
    },
    {
     "data": {
      "image/png": "[encoded data removed]",
      "text/plain": [
       "<Figure size 432x288 with 1 Axes>"
      ]
     },
     "metadata": {
      "needs_background": "light"
     },
     "output_type": "display_data"
    }
   ],
   "source": [
    "\n",
    "# determining the maximum number of clusters\n",
    "# using the simple method\n",
    "limit = int((dataset.shape[0]//2)**0.5)\n",
    "print(limit)\n",
    "\n",
    "# selecting optimal value of 'k'\n",
    "# using elbow method\n",
    "\n",
    "# wcss - within cluster sum of\n",
    "# squared distances\n",
    "wcss = {}\n",
    "\n",
    "for k in range(2,limit+1):\n",
    "    model = KMeans(n_clusters=k)\n",
    "    model.fit(dataset)\n",
    "    wcss[k] = model.inertia_\n",
    "\n",
    "# plotting the wcss values\n",
    "# to find out the elbow value\n",
    "plt.plot(wcss.keys(), wcss.values(), 'gs-')\n",
    "plt.xlabel('Values of \"k\"')\n",
    "plt.ylabel('WCSS')\n",
    "plt.show()"
   ]
  },
  {
   "cell_type": "markdown",
   "id": "4838c5fb",
   "metadata": {},
   "source": [
    "# some experiments with k-means initialization"
   ]
  },
  {
   "cell_type": "markdown",
   "id": "52098219",
   "metadata": {},
   "source": [
    "# Trial 2: Silhouette plots"
   ]
  },
  {
   "cell_type": "markdown",
   "id": "43b2a502",
   "metadata": {},
   "source": [
    "Silhouette Score = (b-a)/max(a,b)\n",
    "\n",
    "where\n",
    "\n",
    "a= average intra-cluster distance i.e the average distance between each point within a cluster.\n",
    "\n",
    "b= average inter-cluster distance i.e the average distance between all clusters."
   ]
  },
  {
   "cell_type": "code",
   "execution_count": 32,
   "id": "a9fd87bd",
   "metadata": {},
   "outputs": [
    {
     "name": "stderr",
     "output_type": "stream",
     "text": [
      "C:\\Users\\karm_ch\\AppData\\Local\\Continuum\\anaconda3\\envs\\gdal_env\\lib\\site-packages\\sklearn\\cluster\\_kmeans.py:870: FutureWarning: The default value of `n_init` will change from 10 to 'auto' in 1.4. Set the value of `n_init` explicitly to suppress the warning\n",
      "  warnings.warn(\n"
     ]
    },
    {
     "name": "stdout",
     "output_type": "stream",
     "text": [
      "Silhouette Score for k = 2: 0.732\n"
     ]
    },
    {
     "name": "stderr",
     "output_type": "stream",
     "text": [
      "C:\\Users\\karm_ch\\AppData\\Local\\Continuum\\anaconda3\\envs\\gdal_env\\lib\\site-packages\\sklearn\\cluster\\_kmeans.py:870: FutureWarning: The default value of `n_init` will change from 10 to 'auto' in 1.4. Set the value of `n_init` explicitly to suppress the warning\n",
      "  warnings.warn(\n"
     ]
    },
    {
     "name": "stdout",
     "output_type": "stream",
     "text": [
      "Silhouette Score for k = 3: 0.644\n"
     ]
    },
    {
     "name": "stderr",
     "output_type": "stream",
     "text": [
      "C:\\Users\\karm_ch\\AppData\\Local\\Continuum\\anaconda3\\envs\\gdal_env\\lib\\site-packages\\sklearn\\cluster\\_kmeans.py:870: FutureWarning: The default value of `n_init` will change from 10 to 'auto' in 1.4. Set the value of `n_init` explicitly to suppress the warning\n",
      "  warnings.warn(\n"
     ]
    },
    {
     "name": "stdout",
     "output_type": "stream",
     "text": [
      "Silhouette Score for k = 4: 0.614\n"
     ]
    },
    {
     "name": "stderr",
     "output_type": "stream",
     "text": [
      "C:\\Users\\karm_ch\\AppData\\Local\\Continuum\\anaconda3\\envs\\gdal_env\\lib\\site-packages\\sklearn\\cluster\\_kmeans.py:870: FutureWarning: The default value of `n_init` will change from 10 to 'auto' in 1.4. Set the value of `n_init` explicitly to suppress the warning\n",
      "  warnings.warn(\n"
     ]
    },
    {
     "name": "stdout",
     "output_type": "stream",
     "text": [
      "Silhouette Score for k = 5: 0.554\n"
     ]
    },
    {
     "name": "stderr",
     "output_type": "stream",
     "text": [
      "C:\\Users\\karm_ch\\AppData\\Local\\Continuum\\anaconda3\\envs\\gdal_env\\lib\\site-packages\\sklearn\\cluster\\_kmeans.py:870: FutureWarning: The default value of `n_init` will change from 10 to 'auto' in 1.4. Set the value of `n_init` explicitly to suppress the warning\n",
      "  warnings.warn(\n"
     ]
    },
    {
     "name": "stdout",
     "output_type": "stream",
     "text": [
      "Silhouette Score for k = 6: 0.545\n"
     ]
    },
    {
     "name": "stderr",
     "output_type": "stream",
     "text": [
      "C:\\Users\\karm_ch\\AppData\\Local\\Continuum\\anaconda3\\envs\\gdal_env\\lib\\site-packages\\sklearn\\cluster\\_kmeans.py:870: FutureWarning: The default value of `n_init` will change from 10 to 'auto' in 1.4. Set the value of `n_init` explicitly to suppress the warning\n",
      "  warnings.warn(\n"
     ]
    },
    {
     "name": "stdout",
     "output_type": "stream",
     "text": [
      "Silhouette Score for k = 7: 0.518\n"
     ]
    },
    {
     "name": "stderr",
     "output_type": "stream",
     "text": [
      "C:\\Users\\karm_ch\\AppData\\Local\\Continuum\\anaconda3\\envs\\gdal_env\\lib\\site-packages\\sklearn\\cluster\\_kmeans.py:870: FutureWarning: The default value of `n_init` will change from 10 to 'auto' in 1.4. Set the value of `n_init` explicitly to suppress the warning\n",
      "  warnings.warn(\n"
     ]
    },
    {
     "name": "stdout",
     "output_type": "stream",
     "text": [
      "Silhouette Score for k = 8: 0.515\n"
     ]
    },
    {
     "name": "stderr",
     "output_type": "stream",
     "text": [
      "C:\\Users\\karm_ch\\AppData\\Local\\Continuum\\anaconda3\\envs\\gdal_env\\lib\\site-packages\\sklearn\\cluster\\_kmeans.py:870: FutureWarning: The default value of `n_init` will change from 10 to 'auto' in 1.4. Set the value of `n_init` explicitly to suppress the warning\n",
      "  warnings.warn(\n"
     ]
    },
    {
     "name": "stdout",
     "output_type": "stream",
     "text": [
      "Silhouette Score for k = 9: 0.516\n"
     ]
    },
    {
     "name": "stderr",
     "output_type": "stream",
     "text": [
      "C:\\Users\\karm_ch\\AppData\\Local\\Continuum\\anaconda3\\envs\\gdal_env\\lib\\site-packages\\sklearn\\cluster\\_kmeans.py:870: FutureWarning: The default value of `n_init` will change from 10 to 'auto' in 1.4. Set the value of `n_init` explicitly to suppress the warning\n",
      "  warnings.warn(\n"
     ]
    },
    {
     "name": "stdout",
     "output_type": "stream",
     "text": [
      "Silhouette Score for k = 10: 0.501\n"
     ]
    },
    {
     "name": "stderr",
     "output_type": "stream",
     "text": [
      "C:\\Users\\karm_ch\\AppData\\Local\\Continuum\\anaconda3\\envs\\gdal_env\\lib\\site-packages\\sklearn\\cluster\\_kmeans.py:870: FutureWarning: The default value of `n_init` will change from 10 to 'auto' in 1.4. Set the value of `n_init` explicitly to suppress the warning\n",
      "  warnings.warn(\n"
     ]
    },
    {
     "name": "stdout",
     "output_type": "stream",
     "text": [
      "Silhouette Score for k = 11: 0.497\n"
     ]
    },
    {
     "name": "stderr",
     "output_type": "stream",
     "text": [
      "C:\\Users\\karm_ch\\AppData\\Local\\Continuum\\anaconda3\\envs\\gdal_env\\lib\\site-packages\\sklearn\\cluster\\_kmeans.py:870: FutureWarning: The default value of `n_init` will change from 10 to 'auto' in 1.4. Set the value of `n_init` explicitly to suppress the warning\n",
      "  warnings.warn(\n"
     ]
    },
    {
     "name": "stdout",
     "output_type": "stream",
     "text": [
      "Silhouette Score for k = 12: 0.479\n"
     ]
    },
    {
     "name": "stderr",
     "output_type": "stream",
     "text": [
      "C:\\Users\\karm_ch\\AppData\\Local\\Continuum\\anaconda3\\envs\\gdal_env\\lib\\site-packages\\sklearn\\cluster\\_kmeans.py:870: FutureWarning: The default value of `n_init` will change from 10 to 'auto' in 1.4. Set the value of `n_init` explicitly to suppress the warning\n",
      "  warnings.warn(\n"
     ]
    },
    {
     "name": "stdout",
     "output_type": "stream",
     "text": [
      "Silhouette Score for k = 13: 0.477\n"
     ]
    },
    {
     "name": "stderr",
     "output_type": "stream",
     "text": [
      "C:\\Users\\karm_ch\\AppData\\Local\\Continuum\\anaconda3\\envs\\gdal_env\\lib\\site-packages\\sklearn\\cluster\\_kmeans.py:870: FutureWarning: The default value of `n_init` will change from 10 to 'auto' in 1.4. Set the value of `n_init` explicitly to suppress the warning\n",
      "  warnings.warn(\n"
     ]
    },
    {
     "name": "stdout",
     "output_type": "stream",
     "text": [
      "Silhouette Score for k = 14: 0.458\n"
     ]
    },
    {
     "name": "stderr",
     "output_type": "stream",
     "text": [
      "C:\\Users\\karm_ch\\AppData\\Local\\Continuum\\anaconda3\\envs\\gdal_env\\lib\\site-packages\\sklearn\\cluster\\_kmeans.py:870: FutureWarning: The default value of `n_init` will change from 10 to 'auto' in 1.4. Set the value of `n_init` explicitly to suppress the warning\n",
      "  warnings.warn(\n"
     ]
    },
    {
     "name": "stdout",
     "output_type": "stream",
     "text": [
      "Silhouette Score for k = 15: 0.419\n"
     ]
    },
    {
     "name": "stderr",
     "output_type": "stream",
     "text": [
      "C:\\Users\\karm_ch\\AppData\\Local\\Continuum\\anaconda3\\envs\\gdal_env\\lib\\site-packages\\sklearn\\cluster\\_kmeans.py:870: FutureWarning: The default value of `n_init` will change from 10 to 'auto' in 1.4. Set the value of `n_init` explicitly to suppress the warning\n",
      "  warnings.warn(\n"
     ]
    },
    {
     "name": "stdout",
     "output_type": "stream",
     "text": [
      "Silhouette Score for k = 16: 0.429\n"
     ]
    },
    {
     "name": "stderr",
     "output_type": "stream",
     "text": [
      "C:\\Users\\karm_ch\\AppData\\Local\\Continuum\\anaconda3\\envs\\gdal_env\\lib\\site-packages\\sklearn\\cluster\\_kmeans.py:870: FutureWarning: The default value of `n_init` will change from 10 to 'auto' in 1.4. Set the value of `n_init` explicitly to suppress the warning\n",
      "  warnings.warn(\n"
     ]
    },
    {
     "name": "stdout",
     "output_type": "stream",
     "text": [
      "Silhouette Score for k = 17: 0.415\n"
     ]
    },
    {
     "name": "stderr",
     "output_type": "stream",
     "text": [
      "C:\\Users\\karm_ch\\AppData\\Local\\Continuum\\anaconda3\\envs\\gdal_env\\lib\\site-packages\\sklearn\\cluster\\_kmeans.py:870: FutureWarning: The default value of `n_init` will change from 10 to 'auto' in 1.4. Set the value of `n_init` explicitly to suppress the warning\n",
      "  warnings.warn(\n"
     ]
    },
    {
     "name": "stdout",
     "output_type": "stream",
     "text": [
      "Silhouette Score for k = 18: 0.403\n"
     ]
    },
    {
     "name": "stderr",
     "output_type": "stream",
     "text": [
      "C:\\Users\\karm_ch\\AppData\\Local\\Continuum\\anaconda3\\envs\\gdal_env\\lib\\site-packages\\sklearn\\cluster\\_kmeans.py:870: FutureWarning: The default value of `n_init` will change from 10 to 'auto' in 1.4. Set the value of `n_init` explicitly to suppress the warning\n",
      "  warnings.warn(\n"
     ]
    },
    {
     "name": "stdout",
     "output_type": "stream",
     "text": [
      "Silhouette Score for k = 19: 0.396\n"
     ]
    },
    {
     "name": "stderr",
     "output_type": "stream",
     "text": [
      "C:\\Users\\karm_ch\\AppData\\Local\\Continuum\\anaconda3\\envs\\gdal_env\\lib\\site-packages\\sklearn\\cluster\\_kmeans.py:870: FutureWarning: The default value of `n_init` will change from 10 to 'auto' in 1.4. Set the value of `n_init` explicitly to suppress the warning\n",
      "  warnings.warn(\n"
     ]
    },
    {
     "name": "stdout",
     "output_type": "stream",
     "text": [
      "Silhouette Score for k = 20: 0.384\n"
     ]
    },
    {
     "name": "stderr",
     "output_type": "stream",
     "text": [
      "C:\\Users\\karm_ch\\AppData\\Local\\Continuum\\anaconda3\\envs\\gdal_env\\lib\\site-packages\\sklearn\\cluster\\_kmeans.py:870: FutureWarning: The default value of `n_init` will change from 10 to 'auto' in 1.4. Set the value of `n_init` explicitly to suppress the warning\n",
      "  warnings.warn(\n"
     ]
    },
    {
     "name": "stdout",
     "output_type": "stream",
     "text": [
      "Silhouette Score for k = 21: 0.396\n"
     ]
    },
    {
     "name": "stderr",
     "output_type": "stream",
     "text": [
      "C:\\Users\\karm_ch\\AppData\\Local\\Continuum\\anaconda3\\envs\\gdal_env\\lib\\site-packages\\sklearn\\cluster\\_kmeans.py:870: FutureWarning: The default value of `n_init` will change from 10 to 'auto' in 1.4. Set the value of `n_init` explicitly to suppress the warning\n",
      "  warnings.warn(\n"
     ]
    },
    {
     "name": "stdout",
     "output_type": "stream",
     "text": [
      "Silhouette Score for k = 22: 0.388\n"
     ]
    },
    {
     "name": "stderr",
     "output_type": "stream",
     "text": [
      "C:\\Users\\karm_ch\\AppData\\Local\\Continuum\\anaconda3\\envs\\gdal_env\\lib\\site-packages\\sklearn\\cluster\\_kmeans.py:870: FutureWarning: The default value of `n_init` will change from 10 to 'auto' in 1.4. Set the value of `n_init` explicitly to suppress the warning\n",
      "  warnings.warn(\n"
     ]
    },
    {
     "name": "stdout",
     "output_type": "stream",
     "text": [
      "Silhouette Score for k = 23: 0.391\n"
     ]
    },
    {
     "name": "stderr",
     "output_type": "stream",
     "text": [
      "C:\\Users\\karm_ch\\AppData\\Local\\Continuum\\anaconda3\\envs\\gdal_env\\lib\\site-packages\\sklearn\\cluster\\_kmeans.py:870: FutureWarning: The default value of `n_init` will change from 10 to 'auto' in 1.4. Set the value of `n_init` explicitly to suppress the warning\n",
      "  warnings.warn(\n"
     ]
    },
    {
     "name": "stdout",
     "output_type": "stream",
     "text": [
      "Silhouette Score for k = 24: 0.376\n"
     ]
    },
    {
     "name": "stderr",
     "output_type": "stream",
     "text": [
      "C:\\Users\\karm_ch\\AppData\\Local\\Continuum\\anaconda3\\envs\\gdal_env\\lib\\site-packages\\sklearn\\cluster\\_kmeans.py:870: FutureWarning: The default value of `n_init` will change from 10 to 'auto' in 1.4. Set the value of `n_init` explicitly to suppress the warning\n",
      "  warnings.warn(\n"
     ]
    },
    {
     "name": "stdout",
     "output_type": "stream",
     "text": [
      "Silhouette Score for k = 25: 0.383\n"
     ]
    },
    {
     "name": "stderr",
     "output_type": "stream",
     "text": [
      "C:\\Users\\karm_ch\\AppData\\Local\\Continuum\\anaconda3\\envs\\gdal_env\\lib\\site-packages\\sklearn\\cluster\\_kmeans.py:870: FutureWarning: The default value of `n_init` will change from 10 to 'auto' in 1.4. Set the value of `n_init` explicitly to suppress the warning\n",
      "  warnings.warn(\n"
     ]
    },
    {
     "name": "stdout",
     "output_type": "stream",
     "text": [
      "Silhouette Score for k = 26: 0.374\n"
     ]
    },
    {
     "name": "stderr",
     "output_type": "stream",
     "text": [
      "C:\\Users\\karm_ch\\AppData\\Local\\Continuum\\anaconda3\\envs\\gdal_env\\lib\\site-packages\\sklearn\\cluster\\_kmeans.py:870: FutureWarning: The default value of `n_init` will change from 10 to 'auto' in 1.4. Set the value of `n_init` explicitly to suppress the warning\n",
      "  warnings.warn(\n"
     ]
    },
    {
     "name": "stdout",
     "output_type": "stream",
     "text": [
      "Silhouette Score for k = 27: 0.367\n"
     ]
    },
    {
     "name": "stderr",
     "output_type": "stream",
     "text": [
      "C:\\Users\\karm_ch\\AppData\\Local\\Continuum\\anaconda3\\envs\\gdal_env\\lib\\site-packages\\sklearn\\cluster\\_kmeans.py:870: FutureWarning: The default value of `n_init` will change from 10 to 'auto' in 1.4. Set the value of `n_init` explicitly to suppress the warning\n",
      "  warnings.warn(\n"
     ]
    },
    {
     "name": "stdout",
     "output_type": "stream",
     "text": [
      "Silhouette Score for k = 28: 0.365\n"
     ]
    },
    {
     "name": "stderr",
     "output_type": "stream",
     "text": [
      "C:\\Users\\karm_ch\\AppData\\Local\\Continuum\\anaconda3\\envs\\gdal_env\\lib\\site-packages\\sklearn\\cluster\\_kmeans.py:870: FutureWarning: The default value of `n_init` will change from 10 to 'auto' in 1.4. Set the value of `n_init` explicitly to suppress the warning\n",
      "  warnings.warn(\n"
     ]
    },
    {
     "name": "stdout",
     "output_type": "stream",
     "text": [
      "Silhouette Score for k = 29: 0.367\n"
     ]
    },
    {
     "name": "stderr",
     "output_type": "stream",
     "text": [
      "C:\\Users\\karm_ch\\AppData\\Local\\Continuum\\anaconda3\\envs\\gdal_env\\lib\\site-packages\\sklearn\\cluster\\_kmeans.py:870: FutureWarning: The default value of `n_init` will change from 10 to 'auto' in 1.4. Set the value of `n_init` explicitly to suppress the warning\n",
      "  warnings.warn(\n"
     ]
    },
    {
     "name": "stdout",
     "output_type": "stream",
     "text": [
      "Silhouette Score for k = 30: 0.358\n"
     ]
    },
    {
     "name": "stderr",
     "output_type": "stream",
     "text": [
      "C:\\Users\\karm_ch\\AppData\\Local\\Continuum\\anaconda3\\envs\\gdal_env\\lib\\site-packages\\sklearn\\cluster\\_kmeans.py:870: FutureWarning: The default value of `n_init` will change from 10 to 'auto' in 1.4. Set the value of `n_init` explicitly to suppress the warning\n",
      "  warnings.warn(\n"
     ]
    },
    {
     "name": "stdout",
     "output_type": "stream",
     "text": [
      "Silhouette Score for k = 31: 0.351\n"
     ]
    },
    {
     "name": "stderr",
     "output_type": "stream",
     "text": [
      "C:\\Users\\karm_ch\\AppData\\Local\\Continuum\\anaconda3\\envs\\gdal_env\\lib\\site-packages\\sklearn\\cluster\\_kmeans.py:870: FutureWarning: The default value of `n_init` will change from 10 to 'auto' in 1.4. Set the value of `n_init` explicitly to suppress the warning\n",
      "  warnings.warn(\n"
     ]
    },
    {
     "name": "stdout",
     "output_type": "stream",
     "text": [
      "Silhouette Score for k = 32: 0.340\n"
     ]
    },
    {
     "name": "stderr",
     "output_type": "stream",
     "text": [
      "C:\\Users\\karm_ch\\AppData\\Local\\Continuum\\anaconda3\\envs\\gdal_env\\lib\\site-packages\\sklearn\\cluster\\_kmeans.py:870: FutureWarning: The default value of `n_init` will change from 10 to 'auto' in 1.4. Set the value of `n_init` explicitly to suppress the warning\n",
      "  warnings.warn(\n"
     ]
    },
    {
     "name": "stdout",
     "output_type": "stream",
     "text": [
      "Silhouette Score for k = 33: 0.356\n"
     ]
    },
    {
     "name": "stderr",
     "output_type": "stream",
     "text": [
      "C:\\Users\\karm_ch\\AppData\\Local\\Continuum\\anaconda3\\envs\\gdal_env\\lib\\site-packages\\sklearn\\cluster\\_kmeans.py:870: FutureWarning: The default value of `n_init` will change from 10 to 'auto' in 1.4. Set the value of `n_init` explicitly to suppress the warning\n",
      "  warnings.warn(\n"
     ]
    },
    {
     "name": "stdout",
     "output_type": "stream",
     "text": [
      "Silhouette Score for k = 34: 0.342\n"
     ]
    },
    {
     "name": "stderr",
     "output_type": "stream",
     "text": [
      "C:\\Users\\karm_ch\\AppData\\Local\\Continuum\\anaconda3\\envs\\gdal_env\\lib\\site-packages\\sklearn\\cluster\\_kmeans.py:870: FutureWarning: The default value of `n_init` will change from 10 to 'auto' in 1.4. Set the value of `n_init` explicitly to suppress the warning\n",
      "  warnings.warn(\n"
     ]
    },
    {
     "name": "stdout",
     "output_type": "stream",
     "text": [
      "Silhouette Score for k = 35: 0.343\n"
     ]
    },
    {
     "name": "stderr",
     "output_type": "stream",
     "text": [
      "C:\\Users\\karm_ch\\AppData\\Local\\Continuum\\anaconda3\\envs\\gdal_env\\lib\\site-packages\\sklearn\\cluster\\_kmeans.py:870: FutureWarning: The default value of `n_init` will change from 10 to 'auto' in 1.4. Set the value of `n_init` explicitly to suppress the warning\n",
      "  warnings.warn(\n"
     ]
    },
    {
     "name": "stdout",
     "output_type": "stream",
     "text": [
      "Silhouette Score for k = 36: 0.342\n"
     ]
    },
    {
     "name": "stderr",
     "output_type": "stream",
     "text": [
      "C:\\Users\\karm_ch\\AppData\\Local\\Continuum\\anaconda3\\envs\\gdal_env\\lib\\site-packages\\sklearn\\cluster\\_kmeans.py:870: FutureWarning: The default value of `n_init` will change from 10 to 'auto' in 1.4. Set the value of `n_init` explicitly to suppress the warning\n",
      "  warnings.warn(\n"
     ]
    },
    {
     "name": "stdout",
     "output_type": "stream",
     "text": [
      "Silhouette Score for k = 37: 0.339\n"
     ]
    },
    {
     "name": "stderr",
     "output_type": "stream",
     "text": [
      "C:\\Users\\karm_ch\\AppData\\Local\\Continuum\\anaconda3\\envs\\gdal_env\\lib\\site-packages\\sklearn\\cluster\\_kmeans.py:870: FutureWarning: The default value of `n_init` will change from 10 to 'auto' in 1.4. Set the value of `n_init` explicitly to suppress the warning\n",
      "  warnings.warn(\n"
     ]
    },
    {
     "name": "stdout",
     "output_type": "stream",
     "text": [
      "Silhouette Score for k = 38: 0.344\n"
     ]
    },
    {
     "name": "stderr",
     "output_type": "stream",
     "text": [
      "C:\\Users\\karm_ch\\AppData\\Local\\Continuum\\anaconda3\\envs\\gdal_env\\lib\\site-packages\\sklearn\\cluster\\_kmeans.py:870: FutureWarning: The default value of `n_init` will change from 10 to 'auto' in 1.4. Set the value of `n_init` explicitly to suppress the warning\n",
      "  warnings.warn(\n"
     ]
    },
    {
     "name": "stdout",
     "output_type": "stream",
     "text": [
      "Silhouette Score for k = 39: 0.339\n"
     ]
    },
    {
     "name": "stderr",
     "output_type": "stream",
     "text": [
      "C:\\Users\\karm_ch\\AppData\\Local\\Continuum\\anaconda3\\envs\\gdal_env\\lib\\site-packages\\sklearn\\cluster\\_kmeans.py:870: FutureWarning: The default value of `n_init` will change from 10 to 'auto' in 1.4. Set the value of `n_init` explicitly to suppress the warning\n",
      "  warnings.warn(\n"
     ]
    },
    {
     "name": "stdout",
     "output_type": "stream",
     "text": [
      "Silhouette Score for k = 40: 0.333\n"
     ]
    },
    {
     "name": "stderr",
     "output_type": "stream",
     "text": [
      "C:\\Users\\karm_ch\\AppData\\Local\\Continuum\\anaconda3\\envs\\gdal_env\\lib\\site-packages\\sklearn\\cluster\\_kmeans.py:870: FutureWarning: The default value of `n_init` will change from 10 to 'auto' in 1.4. Set the value of `n_init` explicitly to suppress the warning\n",
      "  warnings.warn(\n"
     ]
    },
    {
     "name": "stdout",
     "output_type": "stream",
     "text": [
      "Silhouette Score for k = 41: 0.327\n"
     ]
    },
    {
     "name": "stderr",
     "output_type": "stream",
     "text": [
      "C:\\Users\\karm_ch\\AppData\\Local\\Continuum\\anaconda3\\envs\\gdal_env\\lib\\site-packages\\sklearn\\cluster\\_kmeans.py:870: FutureWarning: The default value of `n_init` will change from 10 to 'auto' in 1.4. Set the value of `n_init` explicitly to suppress the warning\n",
      "  warnings.warn(\n"
     ]
    },
    {
     "name": "stdout",
     "output_type": "stream",
     "text": [
      "Silhouette Score for k = 42: 0.339\n"
     ]
    },
    {
     "name": "stderr",
     "output_type": "stream",
     "text": [
      "C:\\Users\\karm_ch\\AppData\\Local\\Continuum\\anaconda3\\envs\\gdal_env\\lib\\site-packages\\sklearn\\cluster\\_kmeans.py:870: FutureWarning: The default value of `n_init` will change from 10 to 'auto' in 1.4. Set the value of `n_init` explicitly to suppress the warning\n",
      "  warnings.warn(\n"
     ]
    },
    {
     "name": "stdout",
     "output_type": "stream",
     "text": [
      "Silhouette Score for k = 43: 0.331\n"
     ]
    },
    {
     "name": "stderr",
     "output_type": "stream",
     "text": [
      "C:\\Users\\karm_ch\\AppData\\Local\\Continuum\\anaconda3\\envs\\gdal_env\\lib\\site-packages\\sklearn\\cluster\\_kmeans.py:870: FutureWarning: The default value of `n_init` will change from 10 to 'auto' in 1.4. Set the value of `n_init` explicitly to suppress the warning\n",
      "  warnings.warn(\n"
     ]
    },
    {
     "name": "stdout",
     "output_type": "stream",
     "text": [
      "Silhouette Score for k = 44: 0.319\n"
     ]
    },
    {
     "name": "stderr",
     "output_type": "stream",
     "text": [
      "C:\\Users\\karm_ch\\AppData\\Local\\Continuum\\anaconda3\\envs\\gdal_env\\lib\\site-packages\\sklearn\\cluster\\_kmeans.py:870: FutureWarning: The default value of `n_init` will change from 10 to 'auto' in 1.4. Set the value of `n_init` explicitly to suppress the warning\n",
      "  warnings.warn(\n"
     ]
    },
    {
     "name": "stdout",
     "output_type": "stream",
     "text": [
      "Silhouette Score for k = 45: 0.329\n"
     ]
    },
    {
     "name": "stderr",
     "output_type": "stream",
     "text": [
      "C:\\Users\\karm_ch\\AppData\\Local\\Continuum\\anaconda3\\envs\\gdal_env\\lib\\site-packages\\sklearn\\cluster\\_kmeans.py:870: FutureWarning: The default value of `n_init` will change from 10 to 'auto' in 1.4. Set the value of `n_init` explicitly to suppress the warning\n",
      "  warnings.warn(\n"
     ]
    },
    {
     "name": "stdout",
     "output_type": "stream",
     "text": [
      "Silhouette Score for k = 46: 0.333\n"
     ]
    },
    {
     "name": "stderr",
     "output_type": "stream",
     "text": [
      "C:\\Users\\karm_ch\\AppData\\Local\\Continuum\\anaconda3\\envs\\gdal_env\\lib\\site-packages\\sklearn\\cluster\\_kmeans.py:870: FutureWarning: The default value of `n_init` will change from 10 to 'auto' in 1.4. Set the value of `n_init` explicitly to suppress the warning\n",
      "  warnings.warn(\n"
     ]
    },
    {
     "name": "stdout",
     "output_type": "stream",
     "text": [
      "Silhouette Score for k = 47: 0.322\n"
     ]
    },
    {
     "name": "stderr",
     "output_type": "stream",
     "text": [
      "C:\\Users\\karm_ch\\AppData\\Local\\Continuum\\anaconda3\\envs\\gdal_env\\lib\\site-packages\\sklearn\\cluster\\_kmeans.py:870: FutureWarning: The default value of `n_init` will change from 10 to 'auto' in 1.4. Set the value of `n_init` explicitly to suppress the warning\n",
      "  warnings.warn(\n"
     ]
    },
    {
     "name": "stdout",
     "output_type": "stream",
     "text": [
      "Silhouette Score for k = 48: 0.312\n"
     ]
    },
    {
     "name": "stderr",
     "output_type": "stream",
     "text": [
      "C:\\Users\\karm_ch\\AppData\\Local\\Continuum\\anaconda3\\envs\\gdal_env\\lib\\site-packages\\sklearn\\cluster\\_kmeans.py:870: FutureWarning: The default value of `n_init` will change from 10 to 'auto' in 1.4. Set the value of `n_init` explicitly to suppress the warning\n",
      "  warnings.warn(\n"
     ]
    },
    {
     "name": "stdout",
     "output_type": "stream",
     "text": [
      "Silhouette Score for k = 49: 0.320\n"
     ]
    },
    {
     "name": "stderr",
     "output_type": "stream",
     "text": [
      "C:\\Users\\karm_ch\\AppData\\Local\\Continuum\\anaconda3\\envs\\gdal_env\\lib\\site-packages\\sklearn\\cluster\\_kmeans.py:870: FutureWarning: The default value of `n_init` will change from 10 to 'auto' in 1.4. Set the value of `n_init` explicitly to suppress the warning\n",
      "  warnings.warn(\n"
     ]
    },
    {
     "name": "stdout",
     "output_type": "stream",
     "text": [
      "Silhouette Score for k = 50: 0.319\n"
     ]
    },
    {
     "name": "stderr",
     "output_type": "stream",
     "text": [
      "C:\\Users\\karm_ch\\AppData\\Local\\Continuum\\anaconda3\\envs\\gdal_env\\lib\\site-packages\\sklearn\\cluster\\_kmeans.py:870: FutureWarning: The default value of `n_init` will change from 10 to 'auto' in 1.4. Set the value of `n_init` explicitly to suppress the warning\n",
      "  warnings.warn(\n"
     ]
    },
    {
     "name": "stdout",
     "output_type": "stream",
     "text": [
      "Silhouette Score for k = 51: 0.318\n"
     ]
    },
    {
     "name": "stderr",
     "output_type": "stream",
     "text": [
      "C:\\Users\\karm_ch\\AppData\\Local\\Continuum\\anaconda3\\envs\\gdal_env\\lib\\site-packages\\sklearn\\cluster\\_kmeans.py:870: FutureWarning: The default value of `n_init` will change from 10 to 'auto' in 1.4. Set the value of `n_init` explicitly to suppress the warning\n",
      "  warnings.warn(\n"
     ]
    },
    {
     "name": "stdout",
     "output_type": "stream",
     "text": [
      "Silhouette Score for k = 52: 0.323\n"
     ]
    },
    {
     "name": "stderr",
     "output_type": "stream",
     "text": [
      "C:\\Users\\karm_ch\\AppData\\Local\\Continuum\\anaconda3\\envs\\gdal_env\\lib\\site-packages\\sklearn\\cluster\\_kmeans.py:870: FutureWarning: The default value of `n_init` will change from 10 to 'auto' in 1.4. Set the value of `n_init` explicitly to suppress the warning\n",
      "  warnings.warn(\n"
     ]
    },
    {
     "name": "stdout",
     "output_type": "stream",
     "text": [
      "Silhouette Score for k = 53: 0.313\n"
     ]
    },
    {
     "name": "stderr",
     "output_type": "stream",
     "text": [
      "C:\\Users\\karm_ch\\AppData\\Local\\Continuum\\anaconda3\\envs\\gdal_env\\lib\\site-packages\\sklearn\\cluster\\_kmeans.py:870: FutureWarning: The default value of `n_init` will change from 10 to 'auto' in 1.4. Set the value of `n_init` explicitly to suppress the warning\n",
      "  warnings.warn(\n"
     ]
    },
    {
     "name": "stdout",
     "output_type": "stream",
     "text": [
      "Silhouette Score for k = 54: 0.314\n"
     ]
    },
    {
     "name": "stderr",
     "output_type": "stream",
     "text": [
      "C:\\Users\\karm_ch\\AppData\\Local\\Continuum\\anaconda3\\envs\\gdal_env\\lib\\site-packages\\sklearn\\cluster\\_kmeans.py:870: FutureWarning: The default value of `n_init` will change from 10 to 'auto' in 1.4. Set the value of `n_init` explicitly to suppress the warning\n",
      "  warnings.warn(\n"
     ]
    },
    {
     "name": "stdout",
     "output_type": "stream",
     "text": [
      "Silhouette Score for k = 55: 0.309\n"
     ]
    },
    {
     "name": "stderr",
     "output_type": "stream",
     "text": [
      "C:\\Users\\karm_ch\\AppData\\Local\\Continuum\\anaconda3\\envs\\gdal_env\\lib\\site-packages\\sklearn\\cluster\\_kmeans.py:870: FutureWarning: The default value of `n_init` will change from 10 to 'auto' in 1.4. Set the value of `n_init` explicitly to suppress the warning\n",
      "  warnings.warn(\n"
     ]
    },
    {
     "name": "stdout",
     "output_type": "stream",
     "text": [
      "Silhouette Score for k = 56: 0.315\n"
     ]
    },
    {
     "name": "stderr",
     "output_type": "stream",
     "text": [
      "C:\\Users\\karm_ch\\AppData\\Local\\Continuum\\anaconda3\\envs\\gdal_env\\lib\\site-packages\\sklearn\\cluster\\_kmeans.py:870: FutureWarning: The default value of `n_init` will change from 10 to 'auto' in 1.4. Set the value of `n_init` explicitly to suppress the warning\n",
      "  warnings.warn(\n"
     ]
    },
    {
     "name": "stdout",
     "output_type": "stream",
     "text": [
      "Silhouette Score for k = 57: 0.315\n"
     ]
    },
    {
     "name": "stderr",
     "output_type": "stream",
     "text": [
      "C:\\Users\\karm_ch\\AppData\\Local\\Continuum\\anaconda3\\envs\\gdal_env\\lib\\site-packages\\sklearn\\cluster\\_kmeans.py:870: FutureWarning: The default value of `n_init` will change from 10 to 'auto' in 1.4. Set the value of `n_init` explicitly to suppress the warning\n",
      "  warnings.warn(\n"
     ]
    },
    {
     "name": "stdout",
     "output_type": "stream",
     "text": [
      "Silhouette Score for k = 58: 0.311\n"
     ]
    },
    {
     "name": "stderr",
     "output_type": "stream",
     "text": [
      "C:\\Users\\karm_ch\\AppData\\Local\\Continuum\\anaconda3\\envs\\gdal_env\\lib\\site-packages\\sklearn\\cluster\\_kmeans.py:870: FutureWarning: The default value of `n_init` will change from 10 to 'auto' in 1.4. Set the value of `n_init` explicitly to suppress the warning\n",
      "  warnings.warn(\n"
     ]
    },
    {
     "name": "stdout",
     "output_type": "stream",
     "text": [
      "Silhouette Score for k = 59: 0.311\n"
     ]
    },
    {
     "name": "stderr",
     "output_type": "stream",
     "text": [
      "C:\\Users\\karm_ch\\AppData\\Local\\Continuum\\anaconda3\\envs\\gdal_env\\lib\\site-packages\\sklearn\\cluster\\_kmeans.py:870: FutureWarning: The default value of `n_init` will change from 10 to 'auto' in 1.4. Set the value of `n_init` explicitly to suppress the warning\n",
      "  warnings.warn(\n"
     ]
    },
    {
     "name": "stdout",
     "output_type": "stream",
     "text": [
      "Silhouette Score for k = 60: 0.309\n"
     ]
    },
    {
     "name": "stderr",
     "output_type": "stream",
     "text": [
      "C:\\Users\\karm_ch\\AppData\\Local\\Continuum\\anaconda3\\envs\\gdal_env\\lib\\site-packages\\sklearn\\cluster\\_kmeans.py:870: FutureWarning: The default value of `n_init` will change from 10 to 'auto' in 1.4. Set the value of `n_init` explicitly to suppress the warning\n",
      "  warnings.warn(\n"
     ]
    },
    {
     "name": "stdout",
     "output_type": "stream",
     "text": [
      "Silhouette Score for k = 61: 0.320\n"
     ]
    },
    {
     "name": "stderr",
     "output_type": "stream",
     "text": [
      "C:\\Users\\karm_ch\\AppData\\Local\\Continuum\\anaconda3\\envs\\gdal_env\\lib\\site-packages\\sklearn\\cluster\\_kmeans.py:870: FutureWarning: The default value of `n_init` will change from 10 to 'auto' in 1.4. Set the value of `n_init` explicitly to suppress the warning\n",
      "  warnings.warn(\n"
     ]
    },
    {
     "name": "stdout",
     "output_type": "stream",
     "text": [
      "Silhouette Score for k = 62: 0.309\n"
     ]
    },
    {
     "name": "stderr",
     "output_type": "stream",
     "text": [
      "C:\\Users\\karm_ch\\AppData\\Local\\Continuum\\anaconda3\\envs\\gdal_env\\lib\\site-packages\\sklearn\\cluster\\_kmeans.py:870: FutureWarning: The default value of `n_init` will change from 10 to 'auto' in 1.4. Set the value of `n_init` explicitly to suppress the warning\n",
      "  warnings.warn(\n"
     ]
    },
    {
     "name": "stdout",
     "output_type": "stream",
     "text": [
      "Silhouette Score for k = 63: 0.306\n"
     ]
    },
    {
     "name": "stderr",
     "output_type": "stream",
     "text": [
      "C:\\Users\\karm_ch\\AppData\\Local\\Continuum\\anaconda3\\envs\\gdal_env\\lib\\site-packages\\sklearn\\cluster\\_kmeans.py:870: FutureWarning: The default value of `n_init` will change from 10 to 'auto' in 1.4. Set the value of `n_init` explicitly to suppress the warning\n",
      "  warnings.warn(\n"
     ]
    },
    {
     "name": "stdout",
     "output_type": "stream",
     "text": [
      "Silhouette Score for k = 64: 0.301\n"
     ]
    },
    {
     "name": "stderr",
     "output_type": "stream",
     "text": [
      "C:\\Users\\karm_ch\\AppData\\Local\\Continuum\\anaconda3\\envs\\gdal_env\\lib\\site-packages\\sklearn\\cluster\\_kmeans.py:870: FutureWarning: The default value of `n_init` will change from 10 to 'auto' in 1.4. Set the value of `n_init` explicitly to suppress the warning\n",
      "  warnings.warn(\n"
     ]
    },
    {
     "name": "stdout",
     "output_type": "stream",
     "text": [
      "Silhouette Score for k = 65: 0.313\n"
     ]
    },
    {
     "name": "stderr",
     "output_type": "stream",
     "text": [
      "C:\\Users\\karm_ch\\AppData\\Local\\Continuum\\anaconda3\\envs\\gdal_env\\lib\\site-packages\\sklearn\\cluster\\_kmeans.py:870: FutureWarning: The default value of `n_init` will change from 10 to 'auto' in 1.4. Set the value of `n_init` explicitly to suppress the warning\n",
      "  warnings.warn(\n"
     ]
    },
    {
     "name": "stdout",
     "output_type": "stream",
     "text": [
      "Silhouette Score for k = 66: 0.299\n"
     ]
    },
    {
     "name": "stderr",
     "output_type": "stream",
     "text": [
      "C:\\Users\\karm_ch\\AppData\\Local\\Continuum\\anaconda3\\envs\\gdal_env\\lib\\site-packages\\sklearn\\cluster\\_kmeans.py:870: FutureWarning: The default value of `n_init` will change from 10 to 'auto' in 1.4. Set the value of `n_init` explicitly to suppress the warning\n",
      "  warnings.warn(\n"
     ]
    },
    {
     "name": "stdout",
     "output_type": "stream",
     "text": [
      "Silhouette Score for k = 67: 0.302\n"
     ]
    },
    {
     "name": "stderr",
     "output_type": "stream",
     "text": [
      "C:\\Users\\karm_ch\\AppData\\Local\\Continuum\\anaconda3\\envs\\gdal_env\\lib\\site-packages\\sklearn\\cluster\\_kmeans.py:870: FutureWarning: The default value of `n_init` will change from 10 to 'auto' in 1.4. Set the value of `n_init` explicitly to suppress the warning\n",
      "  warnings.warn(\n"
     ]
    },
    {
     "name": "stdout",
     "output_type": "stream",
     "text": [
      "Silhouette Score for k = 68: 0.309\n"
     ]
    },
    {
     "name": "stderr",
     "output_type": "stream",
     "text": [
      "C:\\Users\\karm_ch\\AppData\\Local\\Continuum\\anaconda3\\envs\\gdal_env\\lib\\site-packages\\sklearn\\cluster\\_kmeans.py:870: FutureWarning: The default value of `n_init` will change from 10 to 'auto' in 1.4. Set the value of `n_init` explicitly to suppress the warning\n",
      "  warnings.warn(\n"
     ]
    },
    {
     "name": "stdout",
     "output_type": "stream",
     "text": [
      "Silhouette Score for k = 69: 0.302\n"
     ]
    },
    {
     "name": "stderr",
     "output_type": "stream",
     "text": [
      "C:\\Users\\karm_ch\\AppData\\Local\\Continuum\\anaconda3\\envs\\gdal_env\\lib\\site-packages\\sklearn\\cluster\\_kmeans.py:870: FutureWarning: The default value of `n_init` will change from 10 to 'auto' in 1.4. Set the value of `n_init` explicitly to suppress the warning\n",
      "  warnings.warn(\n"
     ]
    },
    {
     "name": "stdout",
     "output_type": "stream",
     "text": [
      "Silhouette Score for k = 70: 0.306\n"
     ]
    }
   ],
   "source": [
    "# determining the maximum number of clusters\n",
    "# using the simple method\n",
    "imit = 20 # int((dataset.shape[0]//2)**0.5)\n",
    "\n",
    "obs= np.zeros((limit+2))\n",
    "\n",
    "# determining number of clusters\n",
    "# using silhouette score method\n",
    "for k in range(2, limit+1):\n",
    "    model = KMeans(n_clusters=k)\n",
    "    model.fit(dataset)\n",
    "    pred = model.predict(dataset)\n",
    "    score = silhouette_score(dataset, pred)\n",
    "    obs[k]=score \n",
    "    \n",
    "    print('Silhouette Score for k = {}: {:<.3f}'.format(k, score))\n"
   ]
  },
  {
   "cell_type": "code",
   "execution_count": 33,
   "id": "cda7dee4",
   "metadata": {},
   "outputs": [
    {
     "data": {
      "text/plain": [
       "<matplotlib.collections.PathCollection at 0x1b102109820>"
      ]
     },
     "execution_count": 33,
     "metadata": {},
     "output_type": "execute_result"
    },
    {
     "data": {
      "image/png": "[encoded data removed]",
      "text/plain": [
       "<Figure size 432x288 with 1 Axes>"
      ]
     },
     "metadata": {
      "needs_background": "light"
     },
     "output_type": "display_data"
    }
   ],
   "source": [
    "plt.scatter(np.arange(obs.shape[0]), obs)"
   ]
  },
  {
   "cell_type": "markdown",
   "id": "c30228f2",
   "metadata": {},
   "source": [
    "# Gaussian mixture model"
   ]
  },
  {
   "cell_type": "markdown",
   "id": "99c14b07",
   "metadata": {},
   "source": [
    "A Gaussian mixture model is a probabilistic model that assumes all the data points are generated from a mixture of a finite number of Gaussian distributions with unknown parameters. One can think of mixture models as generalizing k-means clustering to incorporate information about the covariance structure of the data as well as the centers of the latent Gaussians."
   ]
  },
  {
   "cell_type": "markdown",
   "id": "4cb3f30b",
   "metadata": {},
   "source": [
    "# Trial 3 : Using Bayesian Information Criteria to select the number of clusters (GM Model selection)"
   ]
  },
  {
   "cell_type": "code",
   "execution_count": 34,
   "id": "9d28d780",
   "metadata": {},
   "outputs": [],
   "source": [
    "import numpy as np\n",
    "#read the data\n",
    "#data_npy=np.loadtxt(\"C:\\\\Users\\\\karm_ch\\\\Documents\\\\autocoast\\\\data\\\\s2raw\\\\data_np\\\\data_np_correct.txt\")\n",
    "#print(data_npy.shape)\n",
    "#dataset=data_npy#[0:10000]"
   ]
  },
  {
   "cell_type": "code",
   "execution_count": 54,
   "id": "98fb1ea2",
   "metadata": {},
   "outputs": [],
   "source": [
    "dataset=data_baltic"
   ]
  },
  {
   "cell_type": "code",
   "execution_count": 55,
   "id": "817d8dc9",
   "metadata": {},
   "outputs": [
    {
     "data": {
      "text/plain": [
       "(28868400, 4)"
      ]
     },
     "execution_count": 55,
     "metadata": {},
     "output_type": "execute_result"
    }
   ],
   "source": [
    "dataset.shape"
   ]
  },
  {
   "cell_type": "code",
   "execution_count": 48,
   "id": "6878074a",
   "metadata": {},
   "outputs": [
    {
     "data": {
      "text/html": [
       "<style>#sk-container-id-5 {color: black;background-color: white;}#sk-container-id-5 pre{padding: 0;}#sk-container-id-5 div.sk-toggleable {background-color: white;}#sk-container-id-5 label.sk-toggleable__label {cursor: pointer;display: block;width: 100%;margin-bottom: 0;padding: 0.3em;box-sizing: border-box;text-align: center;}#sk-container-id-5 label.sk-toggleable__label-arrow:before {content: \"▸\";float: left;margin-right: 0.25em;color: #696969;}#sk-container-id-5 label.sk-toggleable__label-arrow:hover:before {color: black;}#sk-container-id-5 div.sk-estimator:hover label.sk-toggleable__label-arrow:before {color: black;}#sk-container-id-5 div.sk-toggleable__content {max-height: 0;max-width: 0;overflow: hidden;text-align: left;background-color: #f0f8ff;}#sk-container-id-5 div.sk-toggleable__content pre {margin: 0.2em;color: black;border-radius: 0.25em;background-color: #f0f8ff;}#sk-container-id-5 input.sk-toggleable__control:checked~div.sk-toggleable__content {max-height: 200px;max-width: 100%;overflow: auto;}#sk-container-id-5 input.sk-toggleable__control:checked~label.sk-toggleable__label-arrow:before {content: \"▾\";}#sk-container-id-5 div.sk-estimator input.sk-toggleable__control:checked~label.sk-toggleable__label {background-color: #d4ebff;}#sk-container-id-5 div.sk-label input.sk-toggleable__control:checked~label.sk-toggleable__label {background-color: #d4ebff;}#sk-container-id-5 input.sk-hidden--visually {border: 0;clip: rect(1px 1px 1px 1px);clip: rect(1px, 1px, 1px, 1px);height: 1px;margin: -1px;overflow: hidden;padding: 0;position: absolute;width: 1px;}#sk-container-id-5 div.sk-estimator {font-family: monospace;background-color: #f0f8ff;border: 1px dotted black;border-radius: 0.25em;box-sizing: border-box;margin-bottom: 0.5em;}#sk-container-id-5 div.sk-estimator:hover {background-color: #d4ebff;}#sk-container-id-5 div.sk-parallel-item::after {content: \"\";width: 100%;border-bottom: 1px solid gray;flex-grow: 1;}#sk-container-id-5 div.sk-label:hover label.sk-toggleable__label {background-color: #d4ebff;}#sk-container-id-5 div.sk-serial::before {content: \"\";position: absolute;border-left: 1px solid gray;box-sizing: border-box;top: 0;bottom: 0;left: 50%;z-index: 0;}#sk-container-id-5 div.sk-serial {display: flex;flex-direction: column;align-items: center;background-color: white;padding-right: 0.2em;padding-left: 0.2em;position: relative;}#sk-container-id-5 div.sk-item {position: relative;z-index: 1;}#sk-container-id-5 div.sk-parallel {display: flex;align-items: stretch;justify-content: center;background-color: white;position: relative;}#sk-container-id-5 div.sk-item::before, #sk-container-id-5 div.sk-parallel-item::before {content: \"\";position: absolute;border-left: 1px solid gray;box-sizing: border-box;top: 0;bottom: 0;left: 50%;z-index: -1;}#sk-container-id-5 div.sk-parallel-item {display: flex;flex-direction: column;z-index: 1;position: relative;background-color: white;}#sk-container-id-5 div.sk-parallel-item:first-child::after {align-self: flex-end;width: 50%;}#sk-container-id-5 div.sk-parallel-item:last-child::after {align-self: flex-start;width: 50%;}#sk-container-id-5 div.sk-parallel-item:only-child::after {width: 0;}#sk-container-id-5 div.sk-dashed-wrapped {border: 1px dashed gray;margin: 0 0.4em 0.5em 0.4em;box-sizing: border-box;padding-bottom: 0.4em;background-color: white;}#sk-container-id-5 div.sk-label label {font-family: monospace;font-weight: bold;display: inline-block;line-height: 1.2em;}#sk-container-id-5 div.sk-label-container {text-align: center;}#sk-container-id-5 div.sk-container {/* jupyter's `normalize.less` sets `[hidden] { display: none; }` but bootstrap.min.css set `[hidden] { display: none !important; }` so we also need the `!important` here to be able to override the default hidden behavior on the sphinx rendered scikit-learn.org. See: https://github.com/scikit-learn/scikit-learn/issues/21755 */display: inline-block !important;position: relative;}#sk-container-id-5 div.sk-text-repr-fallback {display: none;}</style><div id=\"sk-container-id-5\" class=\"sk-top-container\"><div class=\"sk-text-repr-fallback\"><pre>GridSearchCV(estimator=GaussianMixture(),\n",
       "             param_grid={&#x27;covariance_type&#x27;: [&#x27;spherical&#x27;, &#x27;tied&#x27;, &#x27;diag&#x27;,\n",
       "                                             &#x27;full&#x27;],\n",
       "                         &#x27;n_components&#x27;: range(1, 20)},\n",
       "             scoring=&lt;function gmm_bic_score at 0x000001B102F4E0D0&gt;)</pre><b>In a Jupyter environment, please rerun this cell to show the HTML representation or trust the notebook. <br />On GitHub, the HTML representation is unable to render, please try loading this page with nbviewer.org.</b></div><div class=\"sk-container\" hidden><div class=\"sk-item sk-dashed-wrapped\"><div class=\"sk-label-container\"><div class=\"sk-label sk-toggleable\"><input class=\"sk-toggleable__control sk-hidden--visually\" id=\"sk-estimator-id-13\" type=\"checkbox\" ><label for=\"sk-estimator-id-13\" class=\"sk-toggleable__label sk-toggleable__label-arrow\">GridSearchCV</label><div class=\"sk-toggleable__content\"><pre>GridSearchCV(estimator=GaussianMixture(),\n",
       "             param_grid={&#x27;covariance_type&#x27;: [&#x27;spherical&#x27;, &#x27;tied&#x27;, &#x27;diag&#x27;,\n",
       "                                             &#x27;full&#x27;],\n",
       "                         &#x27;n_components&#x27;: range(1, 20)},\n",
       "             scoring=&lt;function gmm_bic_score at 0x000001B102F4E0D0&gt;)</pre></div></div></div><div class=\"sk-parallel\"><div class=\"sk-parallel-item\"><div class=\"sk-item\"><div class=\"sk-label-container\"><div class=\"sk-label sk-toggleable\"><input class=\"sk-toggleable__control sk-hidden--visually\" id=\"sk-estimator-id-14\" type=\"checkbox\" ><label for=\"sk-estimator-id-14\" class=\"sk-toggleable__label sk-toggleable__label-arrow\">estimator: GaussianMixture</label><div class=\"sk-toggleable__content\"><pre>GaussianMixture()</pre></div></div></div><div class=\"sk-serial\"><div class=\"sk-item\"><div class=\"sk-estimator sk-toggleable\"><input class=\"sk-toggleable__control sk-hidden--visually\" id=\"sk-estimator-id-15\" type=\"checkbox\" ><label for=\"sk-estimator-id-15\" class=\"sk-toggleable__label sk-toggleable__label-arrow\">GaussianMixture</label><div class=\"sk-toggleable__content\"><pre>GaussianMixture()</pre></div></div></div></div></div></div></div></div></div></div>"
      ],
      "text/plain": [
       "GridSearchCV(estimator=GaussianMixture(),\n",
       "             param_grid={'covariance_type': ['spherical', 'tied', 'diag',\n",
       "                                             'full'],\n",
       "                         'n_components': range(1, 20)},\n",
       "             scoring=<function gmm_bic_score at 0x000001B102F4E0D0>)"
      ]
     },
     "execution_count": 48,
     "metadata": {},
     "output_type": "execute_result"
    }
   ],
   "source": [
    "from sklearn.mixture import GaussianMixture\n",
    "from sklearn.model_selection import GridSearchCV\n",
    "X=dataset\n",
    "\n",
    "def gmm_bic_score(estimator, X):\n",
    "    \"\"\"Callable to pass to GridSearchCV that will use the BIC score.\"\"\"\n",
    "    # Make it negative since GridSearchCV expects a score to maximize\n",
    "    return -estimator.bic(X)\n",
    "\n",
    "\n",
    "param_grid = {\n",
    "    \"n_components\": range(1, 20),\n",
    "    \"covariance_type\": [\"spherical\", \"tied\", \"diag\", \"full\"],\n",
    "}\n",
    "grid_search = GridSearchCV(\n",
    "    GaussianMixture(), param_grid=param_grid, scoring=gmm_bic_score\n",
    ")\n",
    "grid_search.fit(dataset)"
   ]
  },
  {
   "cell_type": "code",
   "execution_count": 49,
   "id": "1b8b3e0c",
   "metadata": {},
   "outputs": [
    {
     "data": {
      "text/html": [
       "<div>\n",
       "<style scoped>\n",
       "    .dataframe tbody tr th:only-of-type {\n",
       "        vertical-align: middle;\n",
       "    }\n",
       "\n",
       "    .dataframe tbody tr th {\n",
       "        vertical-align: top;\n",
       "    }\n",
       "\n",
       "    .dataframe thead th {\n",
       "        text-align: right;\n",
       "    }\n",
       "</style>\n",
       "<table border=\"1\" class=\"dataframe\">\n",
       "  <thead>\n",
       "    <tr style=\"text-align: right;\">\n",
       "      <th></th>\n",
       "      <th>Number of components</th>\n",
       "      <th>Type of covariance</th>\n",
       "      <th>BIC score</th>\n",
       "    </tr>\n",
       "  </thead>\n",
       "  <tbody>\n",
       "    <tr>\n",
       "      <th>60</th>\n",
       "      <td>4</td>\n",
       "      <td>full</td>\n",
       "      <td>338836.571834</td>\n",
       "    </tr>\n",
       "    <tr>\n",
       "      <th>61</th>\n",
       "      <td>5</td>\n",
       "      <td>full</td>\n",
       "      <td>338931.279138</td>\n",
       "    </tr>\n",
       "    <tr>\n",
       "      <th>59</th>\n",
       "      <td>3</td>\n",
       "      <td>full</td>\n",
       "      <td>339440.822496</td>\n",
       "    </tr>\n",
       "    <tr>\n",
       "      <th>66</th>\n",
       "      <td>10</td>\n",
       "      <td>full</td>\n",
       "      <td>339604.942085</td>\n",
       "    </tr>\n",
       "    <tr>\n",
       "      <th>63</th>\n",
       "      <td>7</td>\n",
       "      <td>full</td>\n",
       "      <td>339647.775985</td>\n",
       "    </tr>\n",
       "  </tbody>\n",
       "</table>\n",
       "</div>"
      ],
      "text/plain": [
       "   Number of components Type of covariance      BIC score\n",
       "60                    4               full  338836.571834\n",
       "61                    5               full  338931.279138\n",
       "59                    3               full  339440.822496\n",
       "66                   10               full  339604.942085\n",
       "63                    7               full  339647.775985"
      ]
     },
     "execution_count": 49,
     "metadata": {},
     "output_type": "execute_result"
    }
   ],
   "source": [
    "import pandas as pd\n",
    "\n",
    "df = pd.DataFrame(grid_search.cv_results_)[\n",
    "    [\"param_n_components\", \"param_covariance_type\", \"mean_test_score\"]\n",
    "]\n",
    "df[\"mean_test_score\"] = -df[\"mean_test_score\"]\n",
    "df = df.rename(\n",
    "    columns={\n",
    "        \"param_n_components\": \"Number of components\",\n",
    "        \"param_covariance_type\": \"Type of covariance\",\n",
    "        \"mean_test_score\": \"BIC score\",\n",
    "    }\n",
    ")\n",
    "df.sort_values(by=\"BIC score\").head()"
   ]
  },
  {
   "cell_type": "code",
   "execution_count": 50,
   "id": "5078c22b",
   "metadata": {},
   "outputs": [
    {
     "data": {
      "text/html": [
       "<style>#sk-container-id-6 {color: black;background-color: white;}#sk-container-id-6 pre{padding: 0;}#sk-container-id-6 div.sk-toggleable {background-color: white;}#sk-container-id-6 label.sk-toggleable__label {cursor: pointer;display: block;width: 100%;margin-bottom: 0;padding: 0.3em;box-sizing: border-box;text-align: center;}#sk-container-id-6 label.sk-toggleable__label-arrow:before {content: \"▸\";float: left;margin-right: 0.25em;color: #696969;}#sk-container-id-6 label.sk-toggleable__label-arrow:hover:before {color: black;}#sk-container-id-6 div.sk-estimator:hover label.sk-toggleable__label-arrow:before {color: black;}#sk-container-id-6 div.sk-toggleable__content {max-height: 0;max-width: 0;overflow: hidden;text-align: left;background-color: #f0f8ff;}#sk-container-id-6 div.sk-toggleable__content pre {margin: 0.2em;color: black;border-radius: 0.25em;background-color: #f0f8ff;}#sk-container-id-6 input.sk-toggleable__control:checked~div.sk-toggleable__content {max-height: 200px;max-width: 100%;overflow: auto;}#sk-container-id-6 input.sk-toggleable__control:checked~label.sk-toggleable__label-arrow:before {content: \"▾\";}#sk-container-id-6 div.sk-estimator input.sk-toggleable__control:checked~label.sk-toggleable__label {background-color: #d4ebff;}#sk-container-id-6 div.sk-label input.sk-toggleable__control:checked~label.sk-toggleable__label {background-color: #d4ebff;}#sk-container-id-6 input.sk-hidden--visually {border: 0;clip: rect(1px 1px 1px 1px);clip: rect(1px, 1px, 1px, 1px);height: 1px;margin: -1px;overflow: hidden;padding: 0;position: absolute;width: 1px;}#sk-container-id-6 div.sk-estimator {font-family: monospace;background-color: #f0f8ff;border: 1px dotted black;border-radius: 0.25em;box-sizing: border-box;margin-bottom: 0.5em;}#sk-container-id-6 div.sk-estimator:hover {background-color: #d4ebff;}#sk-container-id-6 div.sk-parallel-item::after {content: \"\";width: 100%;border-bottom: 1px solid gray;flex-grow: 1;}#sk-container-id-6 div.sk-label:hover label.sk-toggleable__label {background-color: #d4ebff;}#sk-container-id-6 div.sk-serial::before {content: \"\";position: absolute;border-left: 1px solid gray;box-sizing: border-box;top: 0;bottom: 0;left: 50%;z-index: 0;}#sk-container-id-6 div.sk-serial {display: flex;flex-direction: column;align-items: center;background-color: white;padding-right: 0.2em;padding-left: 0.2em;position: relative;}#sk-container-id-6 div.sk-item {position: relative;z-index: 1;}#sk-container-id-6 div.sk-parallel {display: flex;align-items: stretch;justify-content: center;background-color: white;position: relative;}#sk-container-id-6 div.sk-item::before, #sk-container-id-6 div.sk-parallel-item::before {content: \"\";position: absolute;border-left: 1px solid gray;box-sizing: border-box;top: 0;bottom: 0;left: 50%;z-index: -1;}#sk-container-id-6 div.sk-parallel-item {display: flex;flex-direction: column;z-index: 1;position: relative;background-color: white;}#sk-container-id-6 div.sk-parallel-item:first-child::after {align-self: flex-end;width: 50%;}#sk-container-id-6 div.sk-parallel-item:last-child::after {align-self: flex-start;width: 50%;}#sk-container-id-6 div.sk-parallel-item:only-child::after {width: 0;}#sk-container-id-6 div.sk-dashed-wrapped {border: 1px dashed gray;margin: 0 0.4em 0.5em 0.4em;box-sizing: border-box;padding-bottom: 0.4em;background-color: white;}#sk-container-id-6 div.sk-label label {font-family: monospace;font-weight: bold;display: inline-block;line-height: 1.2em;}#sk-container-id-6 div.sk-label-container {text-align: center;}#sk-container-id-6 div.sk-container {/* jupyter's `normalize.less` sets `[hidden] { display: none; }` but bootstrap.min.css set `[hidden] { display: none !important; }` so we also need the `!important` here to be able to override the default hidden behavior on the sphinx rendered scikit-learn.org. See: https://github.com/scikit-learn/scikit-learn/issues/21755 */display: inline-block !important;position: relative;}#sk-container-id-6 div.sk-text-repr-fallback {display: none;}</style><div id=\"sk-container-id-6\" class=\"sk-top-container\"><div class=\"sk-text-repr-fallback\"><pre>GridSearchCV(estimator=GaussianMixture(),\n",
       "             param_grid={&#x27;covariance_type&#x27;: [&#x27;spherical&#x27;, &#x27;tied&#x27;, &#x27;diag&#x27;,\n",
       "                                             &#x27;full&#x27;],\n",
       "                         &#x27;n_components&#x27;: range(1, 20)},\n",
       "             scoring=&lt;function gmm_bic_score at 0x000001B102F4E0D0&gt;)</pre><b>In a Jupyter environment, please rerun this cell to show the HTML representation or trust the notebook. <br />On GitHub, the HTML representation is unable to render, please try loading this page with nbviewer.org.</b></div><div class=\"sk-container\" hidden><div class=\"sk-item sk-dashed-wrapped\"><div class=\"sk-label-container\"><div class=\"sk-label sk-toggleable\"><input class=\"sk-toggleable__control sk-hidden--visually\" id=\"sk-estimator-id-16\" type=\"checkbox\" ><label for=\"sk-estimator-id-16\" class=\"sk-toggleable__label sk-toggleable__label-arrow\">GridSearchCV</label><div class=\"sk-toggleable__content\"><pre>GridSearchCV(estimator=GaussianMixture(),\n",
       "             param_grid={&#x27;covariance_type&#x27;: [&#x27;spherical&#x27;, &#x27;tied&#x27;, &#x27;diag&#x27;,\n",
       "                                             &#x27;full&#x27;],\n",
       "                         &#x27;n_components&#x27;: range(1, 20)},\n",
       "             scoring=&lt;function gmm_bic_score at 0x000001B102F4E0D0&gt;)</pre></div></div></div><div class=\"sk-parallel\"><div class=\"sk-parallel-item\"><div class=\"sk-item\"><div class=\"sk-label-container\"><div class=\"sk-label sk-toggleable\"><input class=\"sk-toggleable__control sk-hidden--visually\" id=\"sk-estimator-id-17\" type=\"checkbox\" ><label for=\"sk-estimator-id-17\" class=\"sk-toggleable__label sk-toggleable__label-arrow\">estimator: GaussianMixture</label><div class=\"sk-toggleable__content\"><pre>GaussianMixture()</pre></div></div></div><div class=\"sk-serial\"><div class=\"sk-item\"><div class=\"sk-estimator sk-toggleable\"><input class=\"sk-toggleable__control sk-hidden--visually\" id=\"sk-estimator-id-18\" type=\"checkbox\" ><label for=\"sk-estimator-id-18\" class=\"sk-toggleable__label sk-toggleable__label-arrow\">GaussianMixture</label><div class=\"sk-toggleable__content\"><pre>GaussianMixture()</pre></div></div></div></div></div></div></div></div></div></div>"
      ],
      "text/plain": [
       "GridSearchCV(estimator=GaussianMixture(),\n",
       "             param_grid={'covariance_type': ['spherical', 'tied', 'diag',\n",
       "                                             'full'],\n",
       "                         'n_components': range(1, 20)},\n",
       "             scoring=<function gmm_bic_score at 0x000001B102F4E0D0>)"
      ]
     },
     "execution_count": 50,
     "metadata": {},
     "output_type": "execute_result"
    }
   ],
   "source": [
    "grid_search"
   ]
  },
  {
   "cell_type": "code",
   "execution_count": 51,
   "id": "c65c572b",
   "metadata": {},
   "outputs": [
    {
     "data": {
      "image/png": "[encoded data removed]",
      "text/plain": [
       "<Figure size 461.25x360 with 1 Axes>"
      ]
     },
     "metadata": {
      "needs_background": "light"
     },
     "output_type": "display_data"
    }
   ],
   "source": [
    "import seaborn as sns\n",
    "\n",
    "sns.catplot(\n",
    "    data=df,\n",
    "    kind=\"bar\",\n",
    "    x=\"Number of components\",\n",
    "    y=\"BIC score\",\n",
    "    hue=\"Type of covariance\",\n",
    ")\n",
    "plt.show()"
   ]
  },
  {
   "cell_type": "code",
   "execution_count": null,
   "id": "e7a8f503",
   "metadata": {},
   "outputs": [],
   "source": []
  },
  {
   "cell_type": "markdown",
   "id": "0bcd7355",
   "metadata": {},
   "source": [
    "# comment on covariance types in BIC computation _Nina"
   ]
  },
  {
   "cell_type": "markdown",
   "id": "fadaf75f",
   "metadata": {},
   "source": [
    "# results from GMM - cluster labels"
   ]
  },
  {
   "cell_type": "code",
   "execution_count": 56,
   "id": "b4d4161c",
   "metadata": {},
   "outputs": [],
   "source": [
    "\n",
    "from sklearn.mixture import GaussianMixture\n",
    "\n",
    "gm = GaussianMixture(n_components=10, random_state=0).fit(dataset)\n",
    "\n",
    "gm_labels=gm.predict(dataset)"
   ]
  },
  {
   "cell_type": "code",
   "execution_count": 57,
   "id": "22894256",
   "metadata": {},
   "outputs": [
    {
     "data": {
      "text/plain": [
       "(28868400,)"
      ]
     },
     "execution_count": 57,
     "metadata": {},
     "output_type": "execute_result"
    }
   ],
   "source": [
    "gm_labels.shape"
   ]
  },
  {
   "cell_type": "code",
   "execution_count": 58,
   "id": "3d052c3e",
   "metadata": {},
   "outputs": [
    {
     "name": "stdout",
     "output_type": "stream",
     "text": [
      " GMM labels Baltic saved\n"
     ]
    }
   ],
   "source": [
    "np.savetxt(\"gmlabels_baltic.txt\",gm_labels,fmt=\"%d\")\n",
    "print(\" GMM labels Baltic saved\")"
   ]
  },
  {
   "cell_type": "code",
   "execution_count": 59,
   "id": "b26c22fd",
   "metadata": {},
   "outputs": [],
   "source": [
    "gm_certainty= gm.predict_proba(dataset) "
   ]
  },
  {
   "cell_type": "code",
   "execution_count": 60,
   "id": "bba9078a",
   "metadata": {},
   "outputs": [
    {
     "data": {
      "text/plain": [
       "array([0.00000000e+00, 2.06127408e-01, 0.00000000e+00, 0.00000000e+00,\n",
       "       5.02259332e-03, 5.58714162e-87, 8.46199066e-66, 5.89761292e-01,\n",
       "       1.45775361e-08, 1.99088692e-01])"
      ]
     },
     "execution_count": 60,
     "metadata": {},
     "output_type": "execute_result"
    }
   ],
   "source": [
    "gm_certainty[0]"
   ]
  },
  {
   "cell_type": "code",
   "execution_count": 61,
   "id": "1d29e8f9",
   "metadata": {},
   "outputs": [
    {
     "data": {
      "text/plain": [
       "1.0000000000000029"
      ]
     },
     "execution_count": 61,
     "metadata": {},
     "output_type": "execute_result"
    }
   ],
   "source": [
    "gm_certainty[0].sum()"
   ]
  },
  {
   "cell_type": "code",
   "execution_count": 16,
   "id": "241613e3",
   "metadata": {},
   "outputs": [],
   "source": [
    "#gm_uncertainty=1-gm_certainty"
   ]
  },
  {
   "cell_type": "code",
   "execution_count": 21,
   "id": "490c2651",
   "metadata": {},
   "outputs": [
    {
     "data": {
      "text/plain": [
       "9.0"
      ]
     },
     "execution_count": 21,
     "metadata": {},
     "output_type": "execute_result"
    }
   ],
   "source": [
    "#gm_uncertainty[0].sum()"
   ]
  },
  {
   "cell_type": "code",
   "execution_count": 20,
   "id": "282411e4",
   "metadata": {},
   "outputs": [
    {
     "data": {
      "text/plain": [
       "6"
      ]
     },
     "execution_count": 20,
     "metadata": {},
     "output_type": "execute_result"
    }
   ],
   "source": [
    "gm_labels[0]"
   ]
  },
  {
   "cell_type": "code",
   "execution_count": 62,
   "id": "93c92b80",
   "metadata": {},
   "outputs": [
    {
     "name": "stdout",
     "output_type": "stream",
     "text": [
      " GMM ceratinty scores Baltic saved\n"
     ]
    }
   ],
   "source": [
    "np.savetxt(\"gm_certainty_baltic.txt\",gm_certainty,fmt=\"%f\")\n",
    "print(\" GMM ceratinty scores Baltic saved\")"
   ]
  },
  {
   "cell_type": "code",
   "execution_count": 19,
   "id": "e6e7b505",
   "metadata": {},
   "outputs": [
    {
     "data": {
      "text/plain": [
       "6"
      ]
     },
     "execution_count": 19,
     "metadata": {},
     "output_type": "execute_result"
    }
   ],
   "source": [
    "gm_labels[0]"
   ]
  },
  {
   "cell_type": "code",
   "execution_count": null,
   "id": "242a9252",
   "metadata": {},
   "outputs": [],
   "source": [
    "#Probability that the test samples were drawn from that cluster\n",
    "gm.predict_proba(test_data)"
   ]
  },
  {
   "cell_type": "markdown",
   "id": "2b96c02f",
   "metadata": {},
   "source": [
    "# choice 2: xmeans "
   ]
  },
  {
   "cell_type": "markdown",
   "id": "283497ee",
   "metadata": {},
   "source": [
    "determination of the initial cluster center point is the weakness of the K-Means algorithm. This is because there is no approach used in selecting and determining the cluster center point. The cluster center point is chosen arbitrarily or randomly from a set of data. The clustering results of the K-Means algorithm are often not optimal and not optimal in every conducted experiment. Therefore, it can be said that the good and bad results of clustering depend on the center point of the cluster or the initial centroid.\n",
    "\n",
    "X-means goes into action after each run of K-means, making local decisions about which subset of the current centroids should split themselves to attain a better fit. The splitting decision is done by computing the Bayesian Information Criterion (BIC)."
   ]
  },
  {
   "cell_type": "code",
   "execution_count": 5,
   "id": "bc421456",
   "metadata": {},
   "outputs": [],
   "source": [
    "import pyclustering\n",
    "from pyclustering.cluster import cluster_visualizer\n",
    "from pyclustering.cluster.xmeans import xmeans\n",
    "from pyclustering.cluster.center_initializer import kmeans_plusplus_initializer\n",
    "from pyclustering.utils import read_sample\n",
    "from pyclustering.samples.definitions import SIMPLE_SAMPLES"
   ]
  },
  {
   "cell_type": "code",
   "execution_count": 32,
   "id": "259a9ad9",
   "metadata": {},
   "outputs": [
    {
     "name": "stdout",
     "output_type": "stream",
     "text": [
      "4\n"
     ]
    }
   ],
   "source": [
    "data=list(dataset) # just because this kmeans implementation inputs lists of samples\n",
    "print(len(data[0]))"
   ]
  },
  {
   "cell_type": "code",
   "execution_count": 37,
   "id": "759d1d35",
   "metadata": {},
   "outputs": [
    {
     "name": "stdout",
     "output_type": "stream",
     "text": [
      "Total WCE: 309292810.38165814\n"
     ]
    },
    {
     "data": {
      "image/png": "[encoded data removed]",
      "text/plain": [
       "<Figure size 432x288 with 6 Axes>"
      ]
     },
     "metadata": {
      "needs_background": "light"
     },
     "output_type": "display_data"
    }
   ],
   "source": [
    "from pyclustering.cluster import cluster_visualizer_multidim\n",
    "# Prepare initial centers - amount of initial centers defines amount of clusters from which X-Means will\n",
    "# start analysis.\n",
    "amount_initial_centers = 2\n",
    "initial_centers = kmeans_plusplus_initializer(data, amount_initial_centers).initialize()\n",
    " \n",
    "# Create instance of X-Means algorithm. The algorithm will start analysis from 2 clusters, the maximum\n",
    "# number of clusters that can be allocated is 20.\n",
    "xmeans_instance = xmeans(data, initial_centers, 20)\n",
    "xmeans_instance.process()\n",
    " \n",
    "# Extract clustering results: clusters and their centers\n",
    "clusters = xmeans_instance.get_clusters()\n",
    "centers = xmeans_instance.get_centers()\n",
    " \n",
    "# Print total sum of metric errors\n",
    "print(\"Total WCE:\", xmeans_instance.get_total_wce())\n",
    " \n",
    "# Visualize clustering results\n",
    "visualizer = cluster_visualizer_multidim()\n",
    "visualizer.append_clusters(clusters, data)\n",
    "visualizer.append_cluster(centers, None, marker='*', markersize=10)\n",
    "visualizer.show()"
   ]
  },
  {
   "cell_type": "markdown",
   "id": "b55f24f4",
   "metadata": {},
   "source": [
    "# Results from XMeans - cluster lables "
   ]
  },
  {
   "cell_type": "code",
   "execution_count": null,
   "id": "adc5f6d6",
   "metadata": {},
   "outputs": [],
   "source": []
  },
  {
   "cell_type": "code",
   "execution_count": null,
   "id": "0983c4e0",
   "metadata": {},
   "outputs": [],
   "source": []
  },
  {
   "cell_type": "code",
   "execution_count": null,
   "id": "21f5a4ab",
   "metadata": {},
   "outputs": [],
   "source": []
  },
  {
   "cell_type": "markdown",
   "id": "62cd7e01",
   "metadata": {},
   "source": [
    "# Results from Kmeans - cluster labels"
   ]
  },
  {
   "cell_type": "code",
   "execution_count": 13,
   "id": "4897bbef",
   "metadata": {},
   "outputs": [
    {
     "name": "stderr",
     "output_type": "stream",
     "text": [
      "C:\\Users\\karm_ch\\AppData\\Local\\Continuum\\anaconda3\\envs\\gdal_env\\lib\\site-packages\\sklearn\\cluster\\_kmeans.py:870: FutureWarning: The default value of `n_init` will change from 10 to 'auto' in 1.4. Set the value of `n_init` explicitly to suppress the warning\n",
      "  warnings.warn(\n"
     ]
    }
   ],
   "source": [
    "\n",
    "data_np= data_npy[0:40000] #np.zeros((num_of_samples, 510 * 510 , 4))\n",
    "\n",
    "#cluster the data (dta_array) \n",
    "\n",
    "feat_mat=data_np #.reshape(data_np.shape[0] * data_np.shape[1], data_np.shape[2]) # data_np.shape[0] is the njumber of samples \n",
    "                                                                                #data_np.shape[1] is the patch size of sample\n",
    "                                                                                #data_np.shape[2] is the number of bands\n",
    "from sklearn.cluster import KMeans\n",
    "kmeans = KMeans(n_clusters=6, random_state=0).fit(feat_mat)\n",
    "kmeanslabels = kmeans.labels_\n",
    "\n",
    "#labels_per_sample= kmeanslabels.reshape(data_np.shape[0], data_np.shape[1])\n",
    "centroids=cluster_centers_#np.loadtxt(\"C:/12months/centroids_19_18_labels_50words.txt\")\n",
    "#random_kmeanslabels=nearest_centroids(feat_mat,centroids)\n",
    "\n",
    "    "
   ]
  },
  {
   "cell_type": "code",
   "execution_count": 15,
   "id": "b2d13b2a",
   "metadata": {},
   "outputs": [
    {
     "data": {
      "text/plain": [
       "1.0"
      ]
     },
     "execution_count": 15,
     "metadata": {},
     "output_type": "execute_result"
    }
   ],
   "source": [
    "kmeanslabels.shape[0] / data_np.shape[0]"
   ]
  },
  {
   "cell_type": "code",
   "execution_count": 23,
   "id": "59028b61",
   "metadata": {},
   "outputs": [],
   "source": [
    "centroids=kmeans.cluster_centers_"
   ]
  },
  {
   "cell_type": "code",
   "execution_count": 26,
   "id": "46162ef5",
   "metadata": {},
   "outputs": [
    {
     "data": {
      "text/plain": [
       "(10, 4)"
      ]
     },
     "execution_count": 26,
     "metadata": {},
     "output_type": "execute_result"
    }
   ],
   "source": [
    "centroids.shape"
   ]
  },
  {
   "cell_type": "code",
   "execution_count": 25,
   "id": "ab41f7aa",
   "metadata": {},
   "outputs": [],
   "source": [
    "#np.savetxt(\"centroilds.txt\",centroids,fmt=\"%d\")"
   ]
  },
  {
   "cell_type": "code",
   "execution_count": 41,
   "id": "14a713c8",
   "metadata": {},
   "outputs": [
    {
     "data": {
      "text/plain": [
       "(40000, 4)"
      ]
     },
     "execution_count": 41,
     "metadata": {},
     "output_type": "execute_result"
    }
   ],
   "source": [
    "data_np.shape"
   ]
  },
  {
   "cell_type": "code",
   "execution_count": 22,
   "id": "07b3f742",
   "metadata": {},
   "outputs": [],
   "source": [
    "#np.savetxt(\"kmeanslabels.txt\",kmeanslabels,fmt=\"%d\")\n",
    "#print(\" kmeans labels saved\")"
   ]
  },
  {
   "cell_type": "markdown",
   "id": "b4953eec",
   "metadata": {},
   "source": [
    "# Plotting the clusters - Kmeans"
   ]
  },
  {
   "cell_type": "code",
   "execution_count": 28,
   "id": "26baaa11",
   "metadata": {},
   "outputs": [],
   "source": [
    "from sklearn.decomposition import PCA\n",
    "\n",
    "#data_np= data_np.reshape(data_np.shape[0] * data_np.shape[1], data_np.shape[2])\n",
    "\n",
    "pca = PCA(2)\n",
    "df = pca.fit_transform(data_np[0:200])"
   ]
  },
  {
   "cell_type": "code",
   "execution_count": 29,
   "id": "c7d02c41",
   "metadata": {},
   "outputs": [
    {
     "data": {
      "text/plain": [
       "(200, 2)"
      ]
     },
     "execution_count": 29,
     "metadata": {},
     "output_type": "execute_result"
    }
   ],
   "source": [
    "df.shape"
   ]
  },
  {
   "cell_type": "code",
   "execution_count": 18,
   "id": "40557b3b",
   "metadata": {},
   "outputs": [
    {
     "name": "stderr",
     "output_type": "stream",
     "text": [
      "C:\\Users\\karm_ch\\AppData\\Local\\Continuum\\anaconda3\\envs\\gdal_env\\lib\\site-packages\\sklearn\\cluster\\_kmeans.py:870: FutureWarning: The default value of `n_init` will change from 10 to 'auto' in 1.4. Set the value of `n_init` explicitly to suppress the warning\n",
      "  warnings.warn(\n"
     ]
    }
   ],
   "source": [
    "\n",
    "#predict the labels of clusters.\n"
   ]
  },
  {
   "cell_type": "code",
   "execution_count": 31,
   "id": "9f5d7b5b",
   "metadata": {},
   "outputs": [
    {
     "data": {
      "image/png": "[encoded data removed]",
      "text/plain": [
       "<Figure size 432x288 with 1 Axes>"
      ]
     },
     "metadata": {
      "needs_background": "light"
     },
     "output_type": "display_data"
    }
   ],
   "source": [
    "#import matplotlib.pyplot as plt\n",
    "\n",
    "plt.scatter(df[:,0], np.arange(df.shape[0]))\n",
    "#plt.scatter()\n",
    "\n",
    "plt.show()"
   ]
  },
  {
   "cell_type": "code",
   "execution_count": 42,
   "id": "50c37297",
   "metadata": {},
   "outputs": [
    {
     "data": {
      "image/png": "[encoded data removed]",
      "text/plain": [
       "<Figure size 432x288 with 1 Axes>"
      ]
     },
     "metadata": {
      "needs_background": "light"
     },
     "output_type": "display_data"
    }
   ],
   "source": [
    "#filter rows of original data\n",
    "filtered_label2 = df[label == 2]\n",
    " \n",
    "filtered_label8 = df[label == 4]\n",
    " \n",
    "#Plotting the results\n",
    "plt.scatter(filtered_label2[:,0] , filtered_label2[:,1] , color = 'red')\n",
    "plt.scatter(filtered_label8[:,0] , filtered_label8[:,1] , color = 'black')\n",
    "plt.show()"
   ]
  },
  {
   "cell_type": "code",
   "execution_count": 44,
   "id": "a92e9ca7",
   "metadata": {},
   "outputs": [
    {
     "data": {
      "text/plain": [
       "(23, 2)"
      ]
     },
     "execution_count": 44,
     "metadata": {},
     "output_type": "execute_result"
    }
   ],
   "source": [
    "filtered_label2.shape"
   ]
  },
  {
   "cell_type": "code",
   "execution_count": 33,
   "id": "9cd5e34b",
   "metadata": {},
   "outputs": [
    {
     "name": "stderr",
     "output_type": "stream",
     "text": [
      "C:\\Users\\karm_ch\\AppData\\Local\\Continuum\\anaconda3\\envs\\gdal_env\\lib\\site-packages\\sklearn\\cluster\\_kmeans.py:870: FutureWarning: The default value of `n_init` will change from 10 to 'auto' in 1.4. Set the value of `n_init` explicitly to suppress the warning\n",
      "  warnings.warn(\n",
      "C:\\Users\\karm_ch\\AppData\\Local\\Continuum\\anaconda3\\envs\\gdal_env\\lib\\site-packages\\sklearn\\cluster\\_kmeans.py:1382: UserWarning: KMeans is known to have a memory leak on Windows with MKL, when there are less chunks than available threads. You can avoid it by setting the environment variable OMP_NUM_THREADS=1.\n",
      "  warnings.warn(\n"
     ]
    },
    {
     "data": {
      "image/png": "[encoded data removed]",
      "text/plain": [
       "<Figure size 432x288 with 1 Axes>"
      ]
     },
     "metadata": {
      "needs_background": "light"
     },
     "output_type": "display_data"
    }
   ],
   "source": [
    "#Getting unique labels\n",
    "import matplotlib.pyplot as plt\n",
    "\n",
    "label = kmeans.fit_predict(df)\n",
    "\n",
    "u_labels = np.unique(label)\n",
    " \n",
    "#plotting the results:\n",
    " \n",
    "for i in u_labels:\n",
    "    plt.scatter(df[label == i , 0] , df[label == i , 1] , label = i)\n",
    "plt.legend()\n",
    "plt.show()"
   ]
  },
  {
   "cell_type": "code",
   "execution_count": 36,
   "id": "aef1de0d",
   "metadata": {},
   "outputs": [
    {
     "name": "stderr",
     "output_type": "stream",
     "text": [
      "C:\\Users\\karm_ch\\AppData\\Local\\Continuum\\anaconda3\\envs\\gdal_env\\lib\\site-packages\\sklearn\\cluster\\_kmeans.py:870: FutureWarning: The default value of `n_init` will change from 10 to 'auto' in 1.4. Set the value of `n_init` explicitly to suppress the warning\n",
      "  warnings.warn(\n"
     ]
    },
    {
     "ename": "TypeError",
     "evalue": "scatterplot() takes from 0 to 1 positional arguments but 2 positional arguments (and 2 keyword-only arguments) were given",
     "output_type": "error",
     "traceback": [
      "\u001b[1;31m---------------------------------------------------------------------------\u001b[0m",
      "\u001b[1;31mTypeError\u001b[0m                                 Traceback (most recent call last)",
      "\u001b[1;32m<ipython-input-36-254bd46827e7>\u001b[0m in \u001b[0;36m<module>\u001b[1;34m\u001b[0m\n\u001b[0;32m     12\u001b[0m \u001b[1;33m\u001b[0m\u001b[0m\n\u001b[0;32m     13\u001b[0m \u001b[0mcolors\u001b[0m \u001b[1;33m=\u001b[0m \u001b[1;33m[\u001b[0m\u001b[1;34m'red'\u001b[0m\u001b[1;33m,\u001b[0m \u001b[1;34m'blue'\u001b[0m\u001b[1;33m,\u001b[0m \u001b[1;34m'purple'\u001b[0m\u001b[1;33m,\u001b[0m \u001b[1;34m'green'\u001b[0m\u001b[1;33m]\u001b[0m\u001b[1;33m\u001b[0m\u001b[1;33m\u001b[0m\u001b[0m\n\u001b[1;32m---> 14\u001b[1;33m \u001b[0max\u001b[0m \u001b[1;33m=\u001b[0m \u001b[0msns\u001b[0m\u001b[1;33m.\u001b[0m\u001b[0mscatterplot\u001b[0m\u001b[1;33m(\u001b[0m\u001b[0mX\u001b[0m\u001b[1;33m[\u001b[0m\u001b[1;33m:\u001b[0m\u001b[1;33m,\u001b[0m \u001b[1;36m0\u001b[0m\u001b[1;33m]\u001b[0m\u001b[1;33m,\u001b[0m \u001b[0mX\u001b[0m\u001b[1;33m[\u001b[0m\u001b[1;33m:\u001b[0m\u001b[1;33m,\u001b[0m \u001b[1;36m1\u001b[0m\u001b[1;33m]\u001b[0m\u001b[1;33m,\u001b[0m \u001b[0mhue\u001b[0m\u001b[1;33m=\u001b[0m\u001b[0mkmeans\u001b[0m\u001b[1;33m.\u001b[0m\u001b[0mlabels_\u001b[0m\u001b[1;33m,\u001b[0m \u001b[0mpalette\u001b[0m\u001b[1;33m=\u001b[0m\u001b[0mcolors\u001b[0m\u001b[1;33m,\u001b[0m \u001b[0malpha\u001b[0m\u001b[1;33m=\u001b[0m\u001b[1;36m0.5\u001b[0m\u001b[1;33m,\u001b[0m \u001b[0ms\u001b[0m\u001b[1;33m=\u001b[0m\u001b[1;36m7\u001b[0m\u001b[1;33m)\u001b[0m\u001b[1;33m\u001b[0m\u001b[1;33m\u001b[0m\u001b[0m\n\u001b[0m\u001b[0;32m     15\u001b[0m \u001b[0max\u001b[0m \u001b[1;33m=\u001b[0m \u001b[0msns\u001b[0m\u001b[1;33m.\u001b[0m\u001b[0mscatterplot\u001b[0m\u001b[1;33m(\u001b[0m\u001b[0mkmeans\u001b[0m\u001b[1;33m.\u001b[0m\u001b[0mcluster_centers_\u001b[0m\u001b[1;33m[\u001b[0m\u001b[1;33m:\u001b[0m\u001b[1;33m,\u001b[0m \u001b[1;36m0\u001b[0m\u001b[1;33m]\u001b[0m\u001b[1;33m,\u001b[0m \u001b[0mkmeans\u001b[0m\u001b[1;33m.\u001b[0m\u001b[0mcluster_centers_\u001b[0m\u001b[1;33m[\u001b[0m\u001b[1;33m:\u001b[0m\u001b[1;33m,\u001b[0m \u001b[1;36m1\u001b[0m\u001b[1;33m]\u001b[0m\u001b[1;33m,\u001b[0m\u001b[0mhue\u001b[0m\u001b[1;33m=\u001b[0m\u001b[0mrange\u001b[0m\u001b[1;33m(\u001b[0m\u001b[0mnum_clusters\u001b[0m\u001b[1;33m)\u001b[0m\u001b[1;33m,\u001b[0m \u001b[0mpalette\u001b[0m\u001b[1;33m=\u001b[0m\u001b[0mcolors\u001b[0m\u001b[1;33m,\u001b[0m \u001b[0ms\u001b[0m\u001b[1;33m=\u001b[0m\u001b[1;36m20\u001b[0m\u001b[1;33m,\u001b[0m \u001b[0mec\u001b[0m\u001b[1;33m=\u001b[0m\u001b[1;34m'black'\u001b[0m\u001b[1;33m,\u001b[0m \u001b[0mlegend\u001b[0m\u001b[1;33m=\u001b[0m\u001b[1;32mFalse\u001b[0m\u001b[1;33m,\u001b[0m \u001b[0max\u001b[0m\u001b[1;33m=\u001b[0m\u001b[0max\u001b[0m\u001b[1;33m)\u001b[0m\u001b[1;33m\u001b[0m\u001b[1;33m\u001b[0m\u001b[0m\n\u001b[0;32m     16\u001b[0m \u001b[0mplt\u001b[0m\u001b[1;33m.\u001b[0m\u001b[0mshow\u001b[0m\u001b[1;33m(\u001b[0m\u001b[1;33m)\u001b[0m\u001b[1;33m\u001b[0m\u001b[1;33m\u001b[0m\u001b[0m\n",
      "\u001b[1;31mTypeError\u001b[0m: scatterplot() takes from 0 to 1 positional arguments but 2 positional arguments (and 2 keyword-only arguments) were given"
     ]
    }
   ],
   "source": [
    "from sklearn.cluster import KMeans\n",
    "from matplotlib import pyplot as plt\n",
    "import numpy as np\n",
    "import seaborn as sns\n",
    "\n",
    "N = 500\n",
    "X0 = np.random.normal(np.repeat(np.random.uniform(0, 20, 20), N), 3)\n",
    "X1 = np.random.normal(np.repeat(np.random.uniform(0, 10, 20), N), 2)\n",
    "X = np.vstack([X0, X1]).T\n",
    "num_clusters = 4\n",
    "kmeans = KMeans(n_clusters=num_clusters).fit(X)\n",
    "\n",
    "colors = ['red', 'blue', 'purple', 'green']\n",
    "ax = sns.scatterplot(X[:, 0], X[:, 1], hue=kmeans.labels_, palette=colors, alpha=0.5, s=7)\n",
    "ax = sns.scatterplot(kmeans.cluster_centers_[:, 0], kmeans.cluster_centers_[:, 1],hue=range(num_clusters), palette=colors, s=20, ec='black', legend=False, ax=ax)\n",
    "plt.show()"
   ]
  }
 ],
 "metadata": {
  "kernelspec": {
   "display_name": "Python 3",
   "language": "python",
   "name": "python3"
  },
  "language_info": {
   "codemirror_mode": {
    "name": "ipython",
    "version": 3
   },
   "file_extension": ".py",
   "mimetype": "text/x-python",
   "name": "python",
   "nbconvert_exporter": "python",
   "pygments_lexer": "ipython3",
   "version": "3.8.1"
  }
 },
 "nbformat": 4,
 "nbformat_minor": 5
}
