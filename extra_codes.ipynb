{
 "cells": [
  {
   "cell_type": "code",
   "execution_count": null,
   "id": "00e1aaf4",
   "metadata": {},
   "outputs": [],
   "source": [
    "def makeTransparent(img, colorToMakeTransparentInHexFormat):\n",
    "    newPhotoImage = PhotoImage(width=img.width(), height=img.height())\n",
    "    for x in range(img.width()):\n",
    "        for y in range(img.height()):\n",
    "            rgb = '#%02x%02x%02x' % img.get(x, y)\n",
    "            if rgb != colorToMakeTransparentInHexFormat:\n",
    "                newPhotoImage.put(rgb, (x, y))\n",
    "    return newPhotoImage\n",
    "\n",
    "\n",
    "\n",
    "def switchColors(img, currentColor,futureColor):\n",
    "    newPhotoImage = PhotoImage(width=img.width(), height=img.height())\n",
    "    for x in range(img.width()):\n",
    "        for y in range(img.height()):\n",
    "            rgb = '#%02x%02x%02x' % img.get(x, y)\n",
    "            if rgb == currentColor:\n",
    "                newPhotoImage.put(futureColor, (x, y))\n",
    "            else:\n",
    "                newPhotoImage.put(rgb, (x, y))\n",
    "    return newPhotoImage"
   ]
  },
  {
   "cell_type": "code",
   "execution_count": null,
   "id": "eba27cb6",
   "metadata": {},
   "outputs": [],
   "source": [
    "def button_window():\n",
    "    \n",
    "    import tkinter as tk\n",
    "    \n",
    "    root = tk.Tk()\n",
    "    \n",
    "    \n",
    "    root.attributes('-alpha', 0.3)\n",
    "    frame=Frame(root)\n",
    "    root.geometry(\"600x400\")\n",
    "    root.title(\"button grid\")\n",
    "    Grid.rowconfigure(root, 0, weight=1)\n",
    "    Grid.columnconfigure(root, 0, weight=1)\n",
    "    frame.grid(row=40, column=30, sticky=N+S+E+W)\n",
    "    grid=Frame(frame)\n",
    "    grid.grid(sticky=N+S+E+W, column=0, row=7, columnspan=2)\n",
    "    Grid.rowconfigure(frame, 7, weight=1)\n",
    "    Grid.columnconfigure(frame, 0, weight=1)\n",
    "\n",
    "    height=6\n",
    "    width=10\n",
    "    num=0\n",
    "    for y in range(height):\n",
    "        for x in range(width):\n",
    "      #photo = PhotoImage(file = r\"C:\\\\patches\\\\circle.png\")\n",
    "            btn = tk.Button(frame, bg=\"white\", text=str(num),activebackground='red')\n",
    "            btn.grid(column=x, row=y, sticky=N+S+E+W)\n",
    "            #print(num)\n",
    "            btn[\"command\"] = lambda num=num: click(num)\n",
    "      #btn_window = canvas.create_window(10, 10, anchor=NW, window=btn)\n",
    "            num+=1\n",
    "    for x in range(width):\n",
    "        Grid.columnconfigure(frame, x, weight=1)\n",
    "\n",
    "    for y in range(height):\n",
    "        Grid.rowconfigure(frame, y, weight=1)\n",
    "\n",
    "    #w= main(6,10)\n",
    "    tk.mainloop()\n",
    "\n"
   ]
  }
 ],
 "metadata": {
  "kernelspec": {
   "display_name": "Python 3",
   "language": "python",
   "name": "python3"
  },
  "language_info": {
   "codemirror_mode": {
    "name": "ipython",
    "version": 3
   },
   "file_extension": ".py",
   "mimetype": "text/x-python",
   "name": "python",
   "nbconvert_exporter": "python",
   "pygments_lexer": "ipython3",
   "version": "3.8.1"
  }
 },
 "nbformat": 4,
 "nbformat_minor": 5
}
