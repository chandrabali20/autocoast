{
 "cells": [
  {
   "cell_type": "code",
   "execution_count": 1,
   "metadata": {},
   "outputs": [],
   "source": [
    "import glob\n",
    "import numpy as np\n",
    "import os\n",
    "import cv2\n",
    "import PIL\n",
    "from PIL import Image\n",
    "import skimage\n",
    "from skimage import io\n",
    "from sklearn.cluster import KMeans\n",
    "import matplotlib.pyplot as plt\n",
    "#from sklearn.metrics import silhouette_score\n",
    "import PIL\n",
    "from PIL import Image\n",
    "from PIL import ImageFont\n",
    "from PIL import ImageDraw\n"
   ]
  },
  {
   "cell_type": "code",
   "execution_count": 11,
   "metadata": {},
   "outputs": [],
   "source": [
    "certainty_npy= np.loadtxt(\"C:\\\\Users\\karm_ch\\\\Documents\\\\autocoast\\\\code\\\\gm_certainty.txt\")"
   ]
  },
  {
   "cell_type": "code",
   "execution_count": 12,
   "metadata": {},
   "outputs": [
    {
     "data": {
      "text/plain": [
       "(5202000, 10)"
      ]
     },
     "execution_count": 12,
     "metadata": {},
     "output_type": "execute_result"
    }
   ],
   "source": [
    "certainty_npy.shape"
   ]
  },
  {
   "cell_type": "code",
   "execution_count": 13,
   "metadata": {},
   "outputs": [
    {
     "data": {
      "text/plain": [
       "array([0.0000e+00, 0.0000e+00, 0.0000e+00, 6.8950e-03, 0.0000e+00,\n",
       "       0.0000e+00, 9.3698e-01, 0.0000e+00, 2.4800e-04, 5.5877e-02])"
      ]
     },
     "execution_count": 13,
     "metadata": {},
     "output_type": "execute_result"
    }
   ],
   "source": [
    "certainty_npy[0]"
   ]
  },
  {
   "cell_type": "code",
   "execution_count": 14,
   "metadata": {},
   "outputs": [],
   "source": [
    "gm_certainty_max= np.amax(certainty_npy, axis=1)"
   ]
  },
  {
   "cell_type": "code",
   "execution_count": 15,
   "metadata": {},
   "outputs": [
    {
     "name": "stdout",
     "output_type": "stream",
     "text": [
      " GMM ceratinty scores saved\n"
     ]
    }
   ],
   "source": [
    "np.savetxt(\"C:\\\\Users\\\\karm_ch\\\\Documents\\\\autocoast\\\\tool_data\\\\numpy\\\\tool_data_gm_certainty_max.txt.txt\",gm_certainty_max,fmt=\"%f\")\n",
    "print(\" GMM ceratinty scores saved\")"
   ]
  },
  {
   "cell_type": "code",
   "execution_count": 9,
   "metadata": {},
   "outputs": [
    {
     "data": {
      "text/plain": [
       "0.93698"
      ]
     },
     "execution_count": 9,
     "metadata": {},
     "output_type": "execute_result"
    }
   ],
   "source": [
    "gm_certainty_max[0]"
   ]
  },
  {
   "cell_type": "code",
   "execution_count": null,
   "metadata": {},
   "outputs": [],
   "source": [
    "5202000"
   ]
  },
  {
   "cell_type": "code",
   "execution_count": null,
   "metadata": {},
   "outputs": [],
   "source": [
    "vis_folder='C:\\\\Users\\\\karm_ch\\\\Documents\\\\autocoast\\\\data\\\\label\\\\clustering_vis_gm\\\\certainty_map'\n",
    "#gmlabels_npy = gmlabels_npy.reshape(20, 510 * 510)\n",
    "gm_certainty_max= gm_certainty_max.reshape(20, 510 * 510) # we are currenty working with just 20 samples\n",
    "\n",
    "if not(os.path.isdir(vis_folder)):\n",
    "    os.mkdir(vis_folder)\n",
    "\n",
    "for num in range(int(number_of_samples)):\n",
    "    \n",
    "    img=Image.new(\"RGB\",(x_size *10,y_size *10),(255,255,255))  \n",
    "    draw = ImageDraw.Draw(img)\n",
    "    xmin=0\n",
    "    ymin=0\n",
    "    data=gm_certainty_max[num].reshape((x_size,y_size))\n",
    "    \n",
    "    for i in range(y_size):\n",
    "        ymax=ymin+10\n",
    "        for m in range(x_size):\n",
    "            xmax=xmin+10\n",
    "            if (data[i][m] >=0.8): # highly certain\n",
    "                label=0 #green\n",
    "                print(data[i][m])\n",
    "            elif(data[i][m]<0.8 and data[i][m]>=0.5): \n",
    "                label=1#yellow\n",
    "            else: \n",
    "                label=2 # red\n",
    "                print(data[i][m])\n",
    "            \n",
    "            draw.rectangle(((xmin, ymin), (xmax, ymax)), fill=uncertainty_colors[int(label)])\n",
    "            xmin=xmax # for the next word\n",
    "        \n",
    "        #if (xmax >= x_size*10): #next line after 64 words\n",
    "        ymin=ymax   \n",
    "        ymax=ymax+10\n",
    "        xmin=0\n",
    "     \n",
    "\n",
    "    saveasname =vis_folder+\"\\\\BoT_doc_\"+str(num)+\".tif\"\n",
    "    img.save(saveasname)"
   ]
  },
  {
   "cell_type": "code",
   "execution_count": 3,
   "metadata": {},
   "outputs": [],
   "source": [
    "gmlabels_npy= np.loadtxt(\"C:\\\\Users\\karm_ch\\\\Documents\\\\autocoast\\\\code\\\\gmlabels_baltic.txt\")\n"
   ]
  },
  {
   "cell_type": "code",
   "execution_count": 4,
   "metadata": {},
   "outputs": [
    {
     "data": {
      "text/plain": [
       "(28868400,)"
      ]
     },
     "execution_count": 4,
     "metadata": {},
     "output_type": "execute_result"
    }
   ],
   "source": [
    "gmlabels_npy.shape"
   ]
  },
  {
   "cell_type": "code",
   "execution_count": 5,
   "metadata": {},
   "outputs": [],
   "source": [
    "x_size=540\n",
    "y_size=540\n",
    "colors=[\"maroon\",\"darkblue\",\"darkgreen\",\"cyan\",\"darkcyan\",\"magenta\",\"indigo\",\"grey\",\"peru\",\"slateblue\",\"mediumspringgreen\",\"orangered\"]"
   ]
  },
  {
   "cell_type": "code",
   "execution_count": 6,
   "metadata": {},
   "outputs": [
    {
     "data": {
      "text/plain": [
       "(28868400,)"
      ]
     },
     "execution_count": 6,
     "metadata": {},
     "output_type": "execute_result"
    }
   ],
   "source": [
    "gmlabels_npy.shape"
   ]
  },
  {
   "cell_type": "code",
   "execution_count": 7,
   "metadata": {},
   "outputs": [],
   "source": [
    "number_of_samples=99# gmlabels_npy.shape[0]"
   ]
  },
  {
   "cell_type": "code",
   "execution_count": 8,
   "metadata": {},
   "outputs": [],
   "source": [
    "vis_folder='C:\\\\Users\\\\karm_ch\\\\Documents\\\\autocoast\\\\data\\\\label\\\\clustering_vis_gm_coastline_baltic'\n",
    "gmlabels_npy = gmlabels_npy.reshape(99, 540 * 540)\n",
    "#gm_certainty_max= gm_certainty_max.reshape(20, 510 * 510) # we are currenty working with just 20 samples\n",
    "\n",
    "if not(os.path.isdir(vis_folder)):\n",
    "    os.mkdir(vis_folder)\n",
    "\n",
    "for num in range(int(number_of_samples)):\n",
    "    \n",
    "    img=Image.new(\"RGB\",(x_size *10,y_size *10),(255,255,255))  \n",
    "    draw = ImageDraw.Draw(img)\n",
    "    xmin=0\n",
    "    ymin=0\n",
    "    data=gmlabels_npy[num].reshape((x_size,y_size))\n",
    "    \n",
    "    for i in range(y_size):\n",
    "        ymax=ymin+10\n",
    "        for m in range(x_size):\n",
    "            xmax=xmin+10\n",
    "            if (m < (x_size-1) and data[i][m-1] ==0 and data[i][m]!=0 and data[i][m+1]!=0): # water follwed by non water and non water\n",
    "                label= 11  #black ..indicates coastline\n",
    "            elif(i < (y_size-1) and data[i][m]!=0 and data[i+1][m]==0):\n",
    "                label=11\n",
    "            else: \n",
    "                label=data[i][m]\n",
    "            \n",
    "            draw.rectangle(((xmin, ymin), (xmax, ymax)), fill=colors[int(label)])\n",
    "            xmin=xmax # for the next word\n",
    "        \n",
    "        #if (xmax >= x_size*10): #next line after 64 words\n",
    "        ymin=ymax   \n",
    "        ymax=ymax+10\n",
    "        xmin=0\n",
    "     \n",
    "\n",
    "    saveasname =vis_folder+\"\\\\BoT_doc_\"+str(num)+\".tif\"\n",
    "    img.save(saveasname)"
   ]
  },
  {
   "cell_type": "code",
   "execution_count": null,
   "metadata": {},
   "outputs": [],
   "source": []
  }
 ],
 "metadata": {
  "kernelspec": {
   "display_name": "Python 3",
   "language": "python",
   "name": "python3"
  },
  "language_info": {
   "codemirror_mode": {
    "name": "ipython",
    "version": 3
   },
   "file_extension": ".py",
   "mimetype": "text/x-python",
   "name": "python",
   "nbconvert_exporter": "python",
   "pygments_lexer": "ipython3",
   "version": "3.8.1"
  }
 },
 "nbformat": 4,
 "nbformat_minor": 2
}
