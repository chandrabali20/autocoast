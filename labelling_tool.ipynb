{
 "cells": [
  {
   "cell_type": "markdown",
   "id": "5afe4bfb",
   "metadata": {},
   "source": [
    "# Autocoast Labelling tool"
   ]
  },
  {
   "cell_type": "code",
   "execution_count": null,
   "id": "77e6e88e",
   "metadata": {},
   "outputs": [],
   "source": [
    "#uncertainty score-based pixel labelling \n",
    "#Presently, we are considering only model-based uncertainty \n",
    "\n",
    "# \" All models are wrong but some are useful\" - George Box"
   ]
  },
  {
   "cell_type": "code",
   "execution_count": null,
   "id": "9e68ce61",
   "metadata": {},
   "outputs": [],
   "source": [
    "# show the bad pixels "
   ]
  }
 ],
 "metadata": {
  "kernelspec": {
   "display_name": "Python 3",
   "language": "python",
   "name": "python3"
  },
  "language_info": {
   "codemirror_mode": {
    "name": "ipython",
    "version": 3
   },
   "file_extension": ".py",
   "mimetype": "text/x-python",
   "name": "python",
   "nbconvert_exporter": "python",
   "pygments_lexer": "ipython3",
   "version": "3.8.1"
  }
 },
 "nbformat": 4,
 "nbformat_minor": 5
}
