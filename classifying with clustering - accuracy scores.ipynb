{
 "cells": [
  {
   "cell_type": "code",
   "execution_count": 1,
   "id": "9c707911",
   "metadata": {},
   "outputs": [],
   "source": [
    "#from skimage import io\n",
    "import glob\n",
    "import numpy as np\n",
    "import os\n",
    "import cv2\n",
    "import PIL\n",
    "from PIL import Image\n",
    "import skimage\n",
    "from skimage import io\n",
    "from sklearn.cluster import KMeans\n",
    "import matplotlib.pyplot as plt\n",
    "#from sklearn.metrics import silhouette_score\n"
   ]
  },
  {
   "cell_type": "code",
   "execution_count": 2,
   "id": "9eb95c54",
   "metadata": {},
   "outputs": [],
   "source": [
    "labels_npy=np.loadtxt(\"C:\\\\Users\\\\karm_ch\\\\Documents\\\\autocoast\\\\data\\\\s2raw\\\\selected_samples\\\\labels_np_correct.txt\")"
   ]
  },
  {
   "cell_type": "code",
   "execution_count": 4,
   "id": "9531efab",
   "metadata": {},
   "outputs": [
    {
     "name": "stdout",
     "output_type": "stream",
     "text": [
      "[ 0.  1.  2.  3.  4.  5.  6.  7.  8.  9. 10.] (193, 260100)\n"
     ]
    }
   ],
   "source": [
    "print(np.unique(labels_npy), labels_npy.shape) "
   ]
  },
  {
   "cell_type": "code",
   "execution_count": 6,
   "id": "b2c4e613",
   "metadata": {},
   "outputs": [],
   "source": [
    "kmeanslabels_npy = np.loadtxt(\"C:\\\\Users\\karm_ch\\\\Documents\\\\autocoast\\\\data\\\\s2raw\\\\data_np\\\\kmeanslabels.txt\")\n"
   ]
  },
  {
   "cell_type": "code",
   "execution_count": 5,
   "id": "ace46078",
   "metadata": {},
   "outputs": [],
   "source": [
    "gmlabels_npy= np.loadtxt(\"C:\\\\Users\\karm_ch\\\\Documents\\\\autocoast\\\\code\\\\gmlabels.txt\")"
   ]
  },
  {
   "cell_type": "code",
   "execution_count": 6,
   "id": "fd039269",
   "metadata": {},
   "outputs": [
    {
     "name": "stdout",
     "output_type": "stream",
     "text": [
      "[0. 1. 2. 3. 4. 5. 6. 7. 8. 9.] (5202000,)\n"
     ]
    }
   ],
   "source": [
    "print(np.unique(gmlabels_npy), gmlabels_npy.shape)"
   ]
  },
  {
   "cell_type": "code",
   "execution_count": 6,
   "id": "4857cd31",
   "metadata": {},
   "outputs": [
    {
     "data": {
      "text/plain": [
       "(5202000,)"
      ]
     },
     "execution_count": 6,
     "metadata": {},
     "output_type": "execute_result"
    }
   ],
   "source": [
    "gmlabels_npy.shape"
   ]
  },
  {
   "cell_type": "code",
   "execution_count": 12,
   "id": "69378477",
   "metadata": {},
   "outputs": [],
   "source": [
    "kmeanslabels_npy= kmeanslabels_npy.reshape(labels_npy.shape[0], int(kmeanslabels_npy.shape[0] / labels_npy.shape[0] ))"
   ]
  },
  {
   "cell_type": "code",
   "execution_count": 11,
   "id": "19301b4c",
   "metadata": {},
   "outputs": [
    {
     "name": "stdout",
     "output_type": "stream",
     "text": [
      "(193, 260100) (50199300,)\n"
     ]
    }
   ],
   "source": [
    "print(labels_npy.shape,kmeanslabels_npy.shape)"
   ]
  },
  {
   "cell_type": "code",
   "execution_count": null,
   "id": "36f904d9",
   "metadata": {},
   "outputs": [],
   "source": [
    "#flattten the arrays for having pixel-level single feature arrays \n"
   ]
  },
  {
   "cell_type": "code",
   "execution_count": 7,
   "id": "623fec96",
   "metadata": {},
   "outputs": [
    {
     "name": "stdout",
     "output_type": "stream",
     "text": [
      "(5202000,) (5202000,)\n"
     ]
    }
   ],
   "source": [
    "# do a pixel-level water- nonwater classification \n",
    "\n",
    "#X = kmeanslabels_npy#.reshape(kmeanslabels_npy.shape[0] * kmeanslabels_npy.shape[1])\n",
    "\n",
    "X = gmlabels_npy\n",
    "Y= labels_npy.reshape(labels_npy.shape[0] * labels_npy.shape[1])\n",
    "\n",
    "Y=Y[0:X.shape[0]]\n",
    "print(X.shape, Y.shape)"
   ]
  },
  {
   "cell_type": "code",
   "execution_count": 8,
   "id": "99428fbc",
   "metadata": {},
   "outputs": [
    {
     "name": "stdout",
     "output_type": "stream",
     "text": [
      "(3901500,)\n",
      "Training set size - X_train: (3901500,), Y_train: (3901500,)\n",
      "Test set size - X_test: (1300500,), Y_train: (1300500,)\n"
     ]
    }
   ],
   "source": [
    "from sklearn.model_selection import train_test_split\n",
    "X_train, X_test, Y_train, Y_test = train_test_split(X, Y, test_size=0.25, random_state=42)\n",
    "print(X_train.shape)\n",
    "print(f'Training set size - X_train: {X_train.shape}, Y_train: {Y_train.shape}')\n",
    "print(f'Test set size - X_test: {X_test.shape}, Y_train: {Y_test.shape}')"
   ]
  },
  {
   "cell_type": "code",
   "execution_count": 9,
   "id": "d020c1c3",
   "metadata": {},
   "outputs": [
    {
     "data": {
      "text/plain": [
       "0.5953640907343329"
      ]
     },
     "execution_count": 9,
     "metadata": {},
     "output_type": "execute_result"
    }
   ],
   "source": [
    "from sklearn.metrics import accuracy_score\n",
    "from sklearn.model_selection import train_test_split\n",
    "from sklearn.model_selection import cross_val_score, GridSearchCV\n",
    "from sklearn.linear_model import LogisticRegression\n",
    "from sklearn.tree import DecisionTreeClassifier\n",
    "from sklearn.ensemble import RandomForestClassifier\n",
    "\n",
    "clf = RandomForestClassifier()\n",
    "clf.fit(X_train.reshape(-1, 1), Y_train)\n",
    "clf.score(X_test.reshape(-1, 1), Y_test)"
   ]
  },
  {
   "cell_type": "code",
   "execution_count": 10,
   "id": "85273938",
   "metadata": {},
   "outputs": [],
   "source": [
    "Y_pred=clf.predict(X_test.reshape(-1,1))"
   ]
  },
  {
   "cell_type": "code",
   "execution_count": 11,
   "id": "ede4a831",
   "metadata": {},
   "outputs": [
    {
     "name": "stdout",
     "output_type": "stream",
     "text": [
      "[[226526  34077 140499      0      0      0      0      0      0     98\n",
      "       0]\n",
      " [ 20123 262753   3136      0      0      0      0      0      0      0\n",
      "       0]\n",
      " [ 22659   1540 283267      0      0      0      0      0      0      0\n",
      "       0]\n",
      " [ 22749      7   2220      0      0      0      0      0      0      0\n",
      "       0]\n",
      " [ 15330   7741   8328      0      0      0      0      0      0      0\n",
      "       0]\n",
      " [ 19470    450   3472      0      0      0      0      0      0      0\n",
      "       0]\n",
      " [122997   1512  18526      0      0      0      0      0      0      0\n",
      "       0]\n",
      " [ 47548    404   7366      0      0      0      0      0      0      5\n",
      "       0]\n",
      " [ 15687   1315    372      0      0      0      0      0      0      0\n",
      "       0]\n",
      " [   549      0      0      0      0      0      0      0      0   1725\n",
      "       0]\n",
      " [  7993     52      4      0      0      0      0      0      0      0\n",
      "       0]]\n"
     ]
    }
   ],
   "source": [
    "from sklearn.metrics import confusion_matrix\n",
    "\n",
    "conf_mat = confusion_matrix(Y_test, Y_pred)\n",
    "print(conf_mat)"
   ]
  },
  {
   "cell_type": "code",
   "execution_count": 12,
   "id": "2369301d",
   "metadata": {},
   "outputs": [
    {
     "name": "stderr",
     "output_type": "stream",
     "text": [
      "C:\\Users\\karm_ch\\AppData\\Local\\Continuum\\anaconda3\\envs\\gdal_env\\lib\\site-packages\\sklearn\\metrics\\_classification.py:1344: UndefinedMetricWarning: Precision and F-score are ill-defined and being set to 0.0 in labels with no predicted samples. Use `zero_division` parameter to control this behavior.\n",
      "  _warn_prf(average, modifier, msg_start, len(result))\n",
      "C:\\Users\\karm_ch\\AppData\\Local\\Continuum\\anaconda3\\envs\\gdal_env\\lib\\site-packages\\sklearn\\metrics\\_classification.py:1344: UndefinedMetricWarning: Precision and F-score are ill-defined and being set to 0.0 in labels with no predicted samples. Use `zero_division` parameter to control this behavior.\n",
      "  _warn_prf(average, modifier, msg_start, len(result))\n"
     ]
    },
    {
     "name": "stdout",
     "output_type": "stream",
     "text": [
      "              precision    recall  f1-score   support\n",
      "\n",
      "         0.0       0.43      0.56      0.49    401200\n",
      "         1.0       0.85      0.92      0.88    286012\n",
      "         2.0       0.61      0.92      0.73    307466\n",
      "         3.0       0.00      0.00      0.00     24976\n",
      "         4.0       0.00      0.00      0.00     31399\n",
      "         5.0       0.00      0.00      0.00     23392\n",
      "         6.0       0.00      0.00      0.00    143035\n",
      "         7.0       0.00      0.00      0.00     55323\n",
      "         8.0       0.00      0.00      0.00     17374\n",
      "         9.0       0.94      0.76      0.84      2274\n",
      "        10.0       0.00      0.00      0.00      8049\n",
      "\n",
      "    accuracy                           0.60   1300500\n",
      "   macro avg       0.26      0.29      0.27   1300500\n",
      "weighted avg       0.47      0.60      0.52   1300500\n",
      "\n"
     ]
    },
    {
     "name": "stderr",
     "output_type": "stream",
     "text": [
      "C:\\Users\\karm_ch\\AppData\\Local\\Continuum\\anaconda3\\envs\\gdal_env\\lib\\site-packages\\sklearn\\metrics\\_classification.py:1344: UndefinedMetricWarning: Precision and F-score are ill-defined and being set to 0.0 in labels with no predicted samples. Use `zero_division` parameter to control this behavior.\n",
      "  _warn_prf(average, modifier, msg_start, len(result))\n"
     ]
    }
   ],
   "source": [
    "from sklearn.metrics import classification_report\n",
    "print(classification_report(Y_test, Y_pred))"
   ]
  },
  {
   "cell_type": "code",
   "execution_count": 12,
   "id": "ffc630a5",
   "metadata": {},
   "outputs": [
    {
     "name": "stdout",
     "output_type": "stream",
     "text": [
      "(5202000,) (5202000,)\n"
     ]
    }
   ],
   "source": [
    "print(X.shape, Y.shape)"
   ]
  },
  {
   "cell_type": "code",
   "execution_count": 13,
   "id": "e1090c7d",
   "metadata": {},
   "outputs": [],
   "source": [
    "Y_binary = (Y==1)"
   ]
  },
  {
   "cell_type": "code",
   "execution_count": 14,
   "id": "01df9db4",
   "metadata": {},
   "outputs": [
    {
     "data": {
      "text/plain": [
       "array([False, False, False, ..., False, False, False])"
      ]
     },
     "execution_count": 14,
     "metadata": {},
     "output_type": "execute_result"
    }
   ],
   "source": [
    "Y_binary"
   ]
  },
  {
   "cell_type": "code",
   "execution_count": 15,
   "id": "c6216f85",
   "metadata": {},
   "outputs": [],
   "source": [
    "Y_binary=Y_binary.astype(int)"
   ]
  },
  {
   "cell_type": "code",
   "execution_count": 16,
   "id": "f8fb46a1",
   "metadata": {},
   "outputs": [
    {
     "data": {
      "text/plain": [
       "1142827"
      ]
     },
     "execution_count": 16,
     "metadata": {},
     "output_type": "execute_result"
    }
   ],
   "source": [
    "np.count_nonzero(Y_binary)"
   ]
  },
  {
   "cell_type": "code",
   "execution_count": 17,
   "id": "2f9ac7e2",
   "metadata": {},
   "outputs": [
    {
     "data": {
      "text/plain": [
       "0.21968992695117262"
      ]
     },
     "execution_count": 17,
     "metadata": {},
     "output_type": "execute_result"
    }
   ],
   "source": [
    "np.count_nonzero(Y_binary)/ Y_binary.shape[0] # 26.6 % of all samples are water, dataset is highly imbalanced"
   ]
  },
  {
   "cell_type": "markdown",
   "id": "1c4494c3",
   "metadata": {},
   "source": [
    "You want to change your evaluation metric from accuracy to something else, such as F1 score or precision and recall in this case."
   ]
  },
  {
   "cell_type": "markdown",
   "id": "42e39910",
   "metadata": {},
   "source": [
    "http://www.svds.com/learning-imbalanced-classes/"
   ]
  },
  {
   "cell_type": "markdown",
   "id": "0d4107be",
   "metadata": {},
   "source": [
    "# Malai Kofta"
   ]
  },
  {
   "cell_type": "code",
   "execution_count": 18,
   "id": "5c272b35",
   "metadata": {},
   "outputs": [
    {
     "name": "stdout",
     "output_type": "stream",
     "text": [
      "malai kofta\n"
     ]
    }
   ],
   "source": [
    "print(\"malai kofta\")"
   ]
  },
  {
   "cell_type": "code",
   "execution_count": 19,
   "id": "1317198e",
   "metadata": {},
   "outputs": [
    {
     "name": "stdout",
     "output_type": "stream",
     "text": [
      "0my alu paratha\n",
      "1my alu paratha\n",
      "2my alu paratha\n",
      "3my alu paratha\n",
      "4my alu paratha\n",
      "5my alu paratha\n",
      "6my alu paratha\n",
      "7my alu paratha\n",
      "8my alu paratha\n",
      "9my alu paratha\n"
     ]
    }
   ],
   "source": [
    "for i in range(10): \n",
    "    print(str(i) + \"my alu paratha\")"
   ]
  },
  {
   "cell_type": "markdown",
   "id": "9cd2c14f",
   "metadata": {},
   "source": [
    "# That said, here is a rough outline of useful approaches. These are listed approximately in order of effort:\n",
    "\n",
    "Do nothing. Sometimes you get lucky and nothing needs to be done. You can train on the so-called natural (or stratified) distribution and sometimes it works without need for modification.\n",
    "Balance the training set in some way:\n",
    "Oversample the minority class.\n",
    "Undersample the majority class.\n",
    "Synthesize new minority classes.\n",
    "Throw away minority examples and switch to an anomaly detection framework.\n",
    "At the algorithm level, or after it:\n",
    "Adjust the class weight (misclassification costs).\n",
    "Adjust the decision threshold.\n",
    "Modify an existing algorithm to be more sensitive to rare classes.\n",
    "Construct an entirely new algorithm to perform well on imbalanced data."
   ]
  },
  {
   "cell_type": "markdown",
   "id": "e3960fdf",
   "metadata": {},
   "source": [
    "Let's undersample the majority class"
   ]
  },
  {
   "cell_type": "code",
   "execution_count": 20,
   "id": "18db96e2",
   "metadata": {},
   "outputs": [],
   "source": [
    "X_bin=[]\n",
    "Y_bin=[]\n",
    "max_wanted_number_of_water_pixels= X.shape[0]/2\n",
    "max_wanted_number_of_nonwater_pixels= X.shape[0]/2\n",
    "\n",
    "count_0=0 # count of non-water pixels\n",
    "count_1=0 # count of water pixels\n",
    "\n",
    "for i in range(X.shape[0]): # non-water\n",
    "    if (Y[i] > 1 and count_0 <= max_wanted_number_of_nonwater_pixels): # labels that are neither water not no-data (0)\n",
    "        X_bin.append(X[i])\n",
    "        Y_bin.append(int(1))\n",
    "        count_0+=1\n",
    "    elif (Y[i] == 1 and count_1 <= max_wanted_number_of_water_pixels): # labels that are water (1)\n",
    "        X_bin.append(X[i])\n",
    "        Y_bin.append(int(0))\n",
    "        count_1+=1\n",
    "    else:\n",
    "        continue "
   ]
  },
  {
   "cell_type": "code",
   "execution_count": 21,
   "id": "a4f92d72",
   "metadata": {},
   "outputs": [
    {
     "name": "stdout",
     "output_type": "stream",
     "text": [
      "(3598846,) (3598846,)\n"
     ]
    }
   ],
   "source": [
    "X_bin=np.array(X_bin)\n",
    "Y_bin=np.array(Y_bin)\n",
    "print(X_bin.shape,Y_bin.shape )"
   ]
  },
  {
   "cell_type": "code",
   "execution_count": 22,
   "id": "a97bb5eb",
   "metadata": {},
   "outputs": [],
   "source": [
    "#save to disk\n",
    "np.savetxt('train_test_X_gm.txt', X, fmt='%d')\n",
    "np.savetxt('train_test_Y.txt', Y, fmt='%d')"
   ]
  },
  {
   "cell_type": "code",
   "execution_count": 23,
   "id": "b2b836e0",
   "metadata": {},
   "outputs": [
    {
     "data": {
      "text/plain": [
       "2456019"
      ]
     },
     "execution_count": 23,
     "metadata": {},
     "output_type": "execute_result"
    }
   ],
   "source": [
    "np.count_nonzero(Y_bin)"
   ]
  },
  {
   "cell_type": "code",
   "execution_count": 24,
   "id": "a1542063",
   "metadata": {},
   "outputs": [
    {
     "data": {
      "text/plain": [
       "3.149073306808467"
      ]
     },
     "execution_count": 24,
     "metadata": {},
     "output_type": "execute_result"
    }
   ],
   "source": [
    "Y_bin.shape[0]/(Y_bin.shape[0]- np.count_nonzero(Y_bin))"
   ]
  },
  {
   "cell_type": "code",
   "execution_count": 25,
   "id": "222d692c",
   "metadata": {},
   "outputs": [
    {
     "name": "stdout",
     "output_type": "stream",
     "text": [
      "(2699134,)\n",
      "Training set size - X_train: (2699134,), Y_train: (2699134,)\n",
      "Test set size - X_test: (899712,), Y_train: (899712,)\n"
     ]
    },
    {
     "data": {
      "text/plain": [
       "0.9613576344430218"
      ]
     },
     "execution_count": 25,
     "metadata": {},
     "output_type": "execute_result"
    }
   ],
   "source": [
    "from sklearn.model_selection import train_test_split\n",
    "from sklearn.ensemble import RandomForestClassifier\n",
    "\n",
    "\n",
    "X_train, X_test, Y_train, Y_test = train_test_split(X_bin, Y_bin, test_size=0.25, random_state=42)\n",
    "print(X_train.shape)\n",
    "print(f'Training set size - X_train: {X_train.shape}, Y_train: {Y_train.shape}')\n",
    "print(f'Test set size - X_test: {X_test.shape}, Y_train: {Y_test.shape}')\n",
    "\n",
    "clf = RandomForestClassifier()\n",
    "clf.fit(X_train.reshape(-1, 1), Y_train)\n",
    "clf.score(X_test.reshape(-1, 1), Y_test)"
   ]
  },
  {
   "cell_type": "code",
   "execution_count": 26,
   "id": "33c13546",
   "metadata": {},
   "outputs": [],
   "source": [
    "Y_pred=clf.predict(X_test.reshape(-1,1))"
   ]
  },
  {
   "cell_type": "code",
   "execution_count": 27,
   "id": "7a5a5275",
   "metadata": {},
   "outputs": [
    {
     "name": "stdout",
     "output_type": "stream",
     "text": [
      "              precision    recall  f1-score   support\n",
      "\n",
      "           0       0.92      0.97      0.94    285392\n",
      "           1       0.98      0.96      0.97    614320\n",
      "\n",
      "    accuracy                           0.96    899712\n",
      "   macro avg       0.95      0.96      0.96    899712\n",
      "weighted avg       0.96      0.96      0.96    899712\n",
      "\n"
     ]
    }
   ],
   "source": [
    "from sklearn.metrics import classification_report\n",
    "print(classification_report(Y_test, Y_pred))"
   ]
  },
  {
   "cell_type": "code",
   "execution_count": 30,
   "id": "27d7add0",
   "metadata": {},
   "outputs": [
    {
     "data": {
      "text/plain": [
       "['C:\\\\Users\\\\karm_ch\\\\Documents\\\\autocoast\\\\tool_data\\\\models\\\\autocoast_binary_random_forest.jl']"
      ]
     },
     "execution_count": 30,
     "metadata": {},
     "output_type": "execute_result"
    }
   ],
   "source": [
    "import joblib\n",
    "joblib.dump(clf,\"C:\\\\Users\\\\karm_ch\\\\Documents\\\\autocoast\\\\tool_data\\\\models\\\\autocoast_binary_random_forest.jl\")"
   ]
  },
  {
   "cell_type": "markdown",
   "id": "8b258c7f",
   "metadata": {},
   "source": [
    "# Uncertainty in prediction"
   ]
  },
  {
   "cell_type": "markdown",
   "id": "9c91e682",
   "metadata": {},
   "source": [
    "A RandomForestClassifier is a collection of DecisionTreeClassifier's. No matter how big your training set, a decision tree simply returns: a decision. One class has probability 1, the other classes have probability 0.\n",
    "\n",
    "The RandomForest simply votes among the results. predict_proba() returns the number of votes for each class (each tree in the forest makes its own decision and chooses exactly one class), divided by the number of trees in the forest. Hence, your precision is exactly 1/n_estimators. Want more \"precision\"? Add more estimators. If you want to see variation at the 5th digit, you will need 10**5 = 100,000 estimators, which is excessive. You normally don't want more than 100 estimators, and often not that many."
   ]
  },
  {
   "cell_type": "code",
   "execution_count": null,
   "id": "e5128152",
   "metadata": {},
   "outputs": [],
   "source": []
  },
  {
   "cell_type": "code",
   "execution_count": null,
   "id": "0d284516",
   "metadata": {},
   "outputs": [],
   "source": [
    "# the patches are 510 x 510 pixels at the moment, too big to assign any semantic labels \n",
    "# Let's tile them into 10 x 10 pixels to assign labels \n",
    "\n",
    "#then assign these tiled patches some class based on what they contain. \n",
    "\n",
    "                    #if 100% of the pixels are water - labels 0 \n",
    "    \n",
    "                    #if 100% are non-water - label 1\n",
    "        \n",
    "                    # else label 2 - these are coasts "
   ]
  },
  {
   "cell_type": "markdown",
   "id": "dd9e3d49",
   "metadata": {},
   "source": [
    "# correlation between adjacent pixels "
   ]
  },
  {
   "cell_type": "code",
   "execution_count": null,
   "id": "78125798",
   "metadata": {},
   "outputs": [],
   "source": [
    "# tile the patches \n",
    "lables_npy_tiles=np.zeros((labels_npy.shape[0] * 51 * 51 ),( 10 * 10 ))\n",
    "\n",
    "for i in range(labels_npy.shape[0]): \n",
    "    patch= labels_npy[i]\n",
    "    for j in range(patch[j]): \n",
    "        "
   ]
  },
  {
   "cell_type": "code",
   "execution_count": null,
   "id": "e87bdbf7",
   "metadata": {},
   "outputs": [],
   "source": [
    "# read the labels \n",
    "\n",
    "#rewrite the labels : if 100% of the pixels are water - labels 0 \n",
    "                    #if 100% are non-water - label 1\n",
    "                    # else label 2 # coasts \n",
    "        \n",
    "water_samples=[]\n",
    "land_samples=[]\n",
    "coast_samples=[]\n",
    "\n",
    "for i in range(data.shape[0]): # for each patch\n",
    "    \n",
    "    sample= data[i]\n",
    "    count_water=0\n",
    "    count_land=0\n",
    "    total_number_of_pixels = sample.shape[0]\n",
    "    \n",
    "    for j in range(sample.shape[0]): # check pixels inside each patch\n",
    "        \n",
    "        if (label ==) : \n",
    "            count_water++\n",
    "        elif (label == ): \n",
    "            count_land++\n",
    "        else: \n",
    "            count_coast++\n",
    "    \n",
    "    if (count_water == total_number_of pi"
   ]
  }
 ],
 "metadata": {
  "kernelspec": {
   "display_name": "Python 3",
   "language": "python",
   "name": "python3"
  },
  "language_info": {
   "codemirror_mode": {
    "name": "ipython",
    "version": 3
   },
   "file_extension": ".py",
   "mimetype": "text/x-python",
   "name": "python",
   "nbconvert_exporter": "python",
   "pygments_lexer": "ipython3",
   "version": "3.8.1"
  }
 },
 "nbformat": 4,
 "nbformat_minor": 5
}
